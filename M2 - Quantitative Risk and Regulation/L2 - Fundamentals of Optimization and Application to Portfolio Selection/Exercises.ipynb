{
 "cells": [
  {
   "cell_type": "code",
   "execution_count": 25,
   "metadata": {},
   "outputs": [
    {
     "name": "stdout",
     "output_type": "stream",
     "text": [
      "[[ 0.76228686]\n",
      " [ 0.84419926]\n",
      " [-0.98762956]\n",
      " [ 0.38114343]]\n",
      "[[0.07461032]]\n"
     ]
    }
   ],
   "source": [
    "import numpy as np\n",
    "\n",
    "mu = np.array([\n",
    "        [0.08], \n",
    "        [0.10], \n",
    "        [0.10], \n",
    "        [0.14]\n",
    "    ])\n",
    "\n",
    "sigma = np.array([0.12, 0.12, 0.15, 0.20])\n",
    "\n",
    "m = 0.10\n",
    "\n",
    "R = np.array([   \n",
    "        [1, 0.2, 0.5, 0.3], \n",
    "        [0.2, 1, 0.7, 0.4], \n",
    "        [0.5, 0.7, 1, 0.9], \n",
    "        [0.3, 0.4, 0.9, 1]\n",
    "    ])\n",
    "\n",
    "I = np.array([[1], [1], [1], [1]])\n",
    "S = np.diag(sigma)\n",
    "\n",
    "cov = S @ R @ S\n",
    "inv_cov = np.linalg.inv(cov)\n",
    "\n",
    "A = I.T @ inv_cov @ I\n",
    "B = I.T @ inv_cov @ mu\n",
    "C = mu.T @ inv_cov @ mu\n",
    "\n",
    "lamb = ((A * m - B) / (A * C - B * B))[0][0]\n",
    "gamma = ((C - B * m) / (A * C - B * B))[0][0]\n",
    "\n",
    "weights = inv_cov @ (lamb * mu + gamma * I)\n",
    "sigma_pi = np.sqrt(weights.T @ cov @ weights)\n",
    "\n",
    "print(weights)\n",
    "print(sigma_pi)\n"
   ]
  }
 ],
 "metadata": {
  "interpreter": {
   "hash": "b3ba2566441a7c06988d0923437866b63cedc61552a5af99d1f4fb67d367b25f"
  },
  "kernelspec": {
   "display_name": "Python 3.8.12 ('base')",
   "language": "python",
   "name": "python3"
  },
  "language_info": {
   "codemirror_mode": {
    "name": "ipython",
    "version": 3
   },
   "file_extension": ".py",
   "mimetype": "text/x-python",
   "name": "python",
   "nbconvert_exporter": "python",
   "pygments_lexer": "ipython3",
   "version": "3.8.12"
  },
  "orig_nbformat": 4
 },
 "nbformat": 4,
 "nbformat_minor": 2
}
