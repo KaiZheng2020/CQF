{
 "cells": [
  {
   "cell_type": "code",
   "execution_count": 1,
   "id": "96a94b33",
   "metadata": {},
   "outputs": [
    {
     "data": {
      "text/plain": [
       "'Windows'"
      ]
     },
     "execution_count": 1,
     "metadata": {},
     "output_type": "execute_result"
    }
   ],
   "source": [
    "import platform\n",
    "platform.system()"
   ]
  },
  {
   "cell_type": "code",
   "execution_count": 2,
   "id": "5f5dd9e6",
   "metadata": {},
   "outputs": [],
   "source": [
    "# Data manipulation\n",
    "import pandas as pd\n",
    "import numpy as np\n",
    "from numpy.linalg import multi_dot\n",
    "\n",
    "from scipy.stats import norm\n",
    "from tabulate import tabulate\n",
    "\n",
    "# Import matplotlib for visualization\n",
    "import matplotlib\n",
    "import matplotlib.pyplot as plt\n",
    "\n",
    "# Plot settings\n",
    "plt.style.use('dark_background')\n",
    "matplotlib.rcParams['figure.figsize'] = [24.0, 8.0]\n",
    "matplotlib.rcParams['font.size'] = 10\n",
    "matplotlib.rcParams['lines.linewidth'] = 2.0\n",
    "matplotlib.rcParams['grid.color'] = 'black'\n",
    "\n",
    "from helper import plot_var"
   ]
  },
  {
   "cell_type": "code",
   "execution_count": 3,
   "id": "661f9300",
   "metadata": {},
   "outputs": [
    {
     "data": {
      "text/html": [
       "<div>\n",
       "<style scoped>\n",
       "    .dataframe tbody tr th:only-of-type {\n",
       "        vertical-align: middle;\n",
       "    }\n",
       "\n",
       "    .dataframe tbody tr th {\n",
       "        vertical-align: top;\n",
       "    }\n",
       "\n",
       "    .dataframe thead th {\n",
       "        text-align: right;\n",
       "    }\n",
       "</style>\n",
       "<table border=\"1\" class=\"dataframe\">\n",
       "  <thead>\n",
       "    <tr style=\"text-align: right;\">\n",
       "      <th></th>\n",
       "      <th>AMD</th>\n",
       "      <th>CSCO</th>\n",
       "      <th>INTC</th>\n",
       "      <th>INTU</th>\n",
       "      <th>NVDA</th>\n",
       "    </tr>\n",
       "    <tr>\n",
       "      <th>Date</th>\n",
       "      <th></th>\n",
       "      <th></th>\n",
       "      <th></th>\n",
       "      <th></th>\n",
       "      <th></th>\n",
       "    </tr>\n",
       "  </thead>\n",
       "  <tbody>\n",
       "    <tr>\n",
       "      <th>2017-01-03</th>\n",
       "      <td>11.430000</td>\n",
       "      <td>25.985624</td>\n",
       "      <td>31.973000</td>\n",
       "      <td>110.028526</td>\n",
       "      <td>25.166451</td>\n",
       "    </tr>\n",
       "    <tr>\n",
       "      <th>2017-01-04</th>\n",
       "      <td>11.430000</td>\n",
       "      <td>25.831152</td>\n",
       "      <td>31.807018</td>\n",
       "      <td>110.249046</td>\n",
       "      <td>25.753607</td>\n",
       "    </tr>\n",
       "    <tr>\n",
       "      <th>2017-01-05</th>\n",
       "      <td>11.240000</td>\n",
       "      <td>25.891224</td>\n",
       "      <td>31.754604</td>\n",
       "      <td>110.929825</td>\n",
       "      <td>25.099840</td>\n",
       "    </tr>\n",
       "    <tr>\n",
       "      <th>2017-01-06</th>\n",
       "      <td>11.320000</td>\n",
       "      <td>25.942715</td>\n",
       "      <td>31.868174</td>\n",
       "      <td>112.381981</td>\n",
       "      <td>25.435360</td>\n",
       "    </tr>\n",
       "    <tr>\n",
       "      <th>2017-01-09</th>\n",
       "      <td>11.490000</td>\n",
       "      <td>25.899811</td>\n",
       "      <td>31.981735</td>\n",
       "      <td>112.045395</td>\n",
       "      <td>26.466593</td>\n",
       "    </tr>\n",
       "    <tr>\n",
       "      <th>...</th>\n",
       "      <td>...</td>\n",
       "      <td>...</td>\n",
       "      <td>...</td>\n",
       "      <td>...</td>\n",
       "      <td>...</td>\n",
       "    </tr>\n",
       "    <tr>\n",
       "      <th>2021-12-23</th>\n",
       "      <td>146.139999</td>\n",
       "      <td>61.915154</td>\n",
       "      <td>50.922092</td>\n",
       "      <td>634.972839</td>\n",
       "      <td>296.349487</td>\n",
       "    </tr>\n",
       "    <tr>\n",
       "      <th>2021-12-27</th>\n",
       "      <td>154.360001</td>\n",
       "      <td>63.048477</td>\n",
       "      <td>51.547329</td>\n",
       "      <td>652.013062</td>\n",
       "      <td>309.397308</td>\n",
       "    </tr>\n",
       "    <tr>\n",
       "      <th>2021-12-28</th>\n",
       "      <td>153.149994</td>\n",
       "      <td>63.157833</td>\n",
       "      <td>51.368690</td>\n",
       "      <td>649.026550</td>\n",
       "      <td>303.168335</td>\n",
       "    </tr>\n",
       "    <tr>\n",
       "      <th>2021-12-29</th>\n",
       "      <td>148.259995</td>\n",
       "      <td>63.585312</td>\n",
       "      <td>51.438164</td>\n",
       "      <td>647.278564</td>\n",
       "      <td>299.958893</td>\n",
       "    </tr>\n",
       "    <tr>\n",
       "      <th>2021-12-30</th>\n",
       "      <td>145.149994</td>\n",
       "      <td>63.247307</td>\n",
       "      <td>51.348843</td>\n",
       "      <td>642.613953</td>\n",
       "      <td>295.809601</td>\n",
       "    </tr>\n",
       "  </tbody>\n",
       "</table>\n",
       "<p>1258 rows × 5 columns</p>\n",
       "</div>"
      ],
      "text/plain": [
       "                   AMD       CSCO       INTC        INTU        NVDA\n",
       "Date                                                                \n",
       "2017-01-03   11.430000  25.985624  31.973000  110.028526   25.166451\n",
       "2017-01-04   11.430000  25.831152  31.807018  110.249046   25.753607\n",
       "2017-01-05   11.240000  25.891224  31.754604  110.929825   25.099840\n",
       "2017-01-06   11.320000  25.942715  31.868174  112.381981   25.435360\n",
       "2017-01-09   11.490000  25.899811  31.981735  112.045395   26.466593\n",
       "...                ...        ...        ...         ...         ...\n",
       "2021-12-23  146.139999  61.915154  50.922092  634.972839  296.349487\n",
       "2021-12-27  154.360001  63.048477  51.547329  652.013062  309.397308\n",
       "2021-12-28  153.149994  63.157833  51.368690  649.026550  303.168335\n",
       "2021-12-29  148.259995  63.585312  51.438164  647.278564  299.958893\n",
       "2021-12-30  145.149994  63.247307  51.348843  642.613953  295.809601\n",
       "\n",
       "[1258 rows x 5 columns]"
      ]
     },
     "execution_count": 3,
     "metadata": {},
     "output_type": "execute_result"
    }
   ],
   "source": [
    "# Load locally stored data\n",
    "df = pd.read_csv('nasdaqstocks.csv', index_col=0, parse_dates=True)\n",
    "\n",
    "# Check values \n",
    "df\n"
   ]
  },
  {
   "cell_type": "code",
   "execution_count": 4,
   "id": "38ddd89f",
   "metadata": {},
   "outputs": [
    {
     "data": {
      "text/html": [
       "<div>\n",
       "<style scoped>\n",
       "    .dataframe tbody tr th:only-of-type {\n",
       "        vertical-align: middle;\n",
       "    }\n",
       "\n",
       "    .dataframe tbody tr th {\n",
       "        vertical-align: top;\n",
       "    }\n",
       "\n",
       "    .dataframe thead th {\n",
       "        text-align: right;\n",
       "    }\n",
       "</style>\n",
       "<table border=\"1\" class=\"dataframe\">\n",
       "  <thead>\n",
       "    <tr style=\"text-align: right;\">\n",
       "      <th></th>\n",
       "      <th>AMD</th>\n",
       "      <th>CSCO</th>\n",
       "      <th>INTC</th>\n",
       "      <th>INTU</th>\n",
       "      <th>NVDA</th>\n",
       "    </tr>\n",
       "    <tr>\n",
       "      <th>Date</th>\n",
       "      <th></th>\n",
       "      <th></th>\n",
       "      <th></th>\n",
       "      <th></th>\n",
       "      <th></th>\n",
       "    </tr>\n",
       "  </thead>\n",
       "  <tbody>\n",
       "    <tr>\n",
       "      <th>2017-01-04</th>\n",
       "      <td>0.000000</td>\n",
       "      <td>-0.005945</td>\n",
       "      <td>-0.005191</td>\n",
       "      <td>0.002004</td>\n",
       "      <td>0.023331</td>\n",
       "    </tr>\n",
       "    <tr>\n",
       "      <th>2017-01-05</th>\n",
       "      <td>-0.016623</td>\n",
       "      <td>0.002326</td>\n",
       "      <td>-0.001648</td>\n",
       "      <td>0.006175</td>\n",
       "      <td>-0.025385</td>\n",
       "    </tr>\n",
       "    <tr>\n",
       "      <th>2017-01-06</th>\n",
       "      <td>0.007117</td>\n",
       "      <td>0.001989</td>\n",
       "      <td>0.003576</td>\n",
       "      <td>0.013091</td>\n",
       "      <td>0.013367</td>\n",
       "    </tr>\n",
       "    <tr>\n",
       "      <th>2017-01-09</th>\n",
       "      <td>0.015018</td>\n",
       "      <td>-0.001654</td>\n",
       "      <td>0.003563</td>\n",
       "      <td>-0.002995</td>\n",
       "      <td>0.040543</td>\n",
       "    </tr>\n",
       "    <tr>\n",
       "      <th>2017-01-10</th>\n",
       "      <td>-0.004352</td>\n",
       "      <td>0.006627</td>\n",
       "      <td>-0.001912</td>\n",
       "      <td>-0.003433</td>\n",
       "      <td>-0.007550</td>\n",
       "    </tr>\n",
       "  </tbody>\n",
       "</table>\n",
       "</div>"
      ],
      "text/plain": [
       "                 AMD      CSCO      INTC      INTU      NVDA\n",
       "Date                                                        \n",
       "2017-01-04  0.000000 -0.005945 -0.005191  0.002004  0.023331\n",
       "2017-01-05 -0.016623  0.002326 -0.001648  0.006175 -0.025385\n",
       "2017-01-06  0.007117  0.001989  0.003576  0.013091  0.013367\n",
       "2017-01-09  0.015018 -0.001654  0.003563 -0.002995  0.040543\n",
       "2017-01-10 -0.004352  0.006627 -0.001912 -0.003433 -0.007550"
      ]
     },
     "execution_count": 4,
     "metadata": {},
     "output_type": "execute_result"
    }
   ],
   "source": [
    "# Calculate daily returns\n",
    "returns = df.pct_change().dropna()\n",
    "returns.head()"
   ]
  },
  {
   "cell_type": "code",
   "execution_count": 8,
   "id": "148c64b7",
   "metadata": {},
   "outputs": [
    {
     "data": {
      "image/png": "[encoded data removed]",
      "text/plain": [
       "<Figure size 1728x576 with 5 Axes>"
      ]
     },
     "metadata": {},
     "output_type": "display_data"
    }
   ],
   "source": [
    "# Visualize daily returns\n",
    "fig, ax = plt.subplots(1,len(df.columns), sharey=True)\n",
    "label, color = df.columns, ['green', 'red', 'cornflowerblue', 'orange', 'white']\n",
    "\n",
    "for i in range(len(df.columns)):\n",
    "    ax[i].plot(returns.iloc[:,i], label=label[i], color=color[i])\n",
    "    ax[i].axhline(y=0, color='k', linestyle='--')\n",
    "    ax[i].legend(loc=4)\n",
    "\n",
    "fig.suptitle('Daily Returns');"
   ]
  },
  {
   "cell_type": "code",
   "execution_count": 5,
   "id": "93bffbb9",
   "metadata": {},
   "outputs": [
    {
     "data": {
      "image/png": "[encoded data removed]",
      "text/plain": [
       "<Figure size 576x432 with 1 Axes>"
      ]
     },
     "metadata": {},
     "output_type": "display_data"
    }
   ],
   "source": [
    "# Visualize VaR at 95% confidence level\n",
    "plot_var()"
   ]
  },
  {
   "cell_type": "code",
   "execution_count": 6,
   "id": "b3d6165e",
   "metadata": {},
   "outputs": [],
   "source": [
    "# Calculate mean and standard deviation \n",
    "mean = np.mean(returns['AMD'])\n",
    "stdev = np.std(returns['AMD'])\n",
    "\n",
    "# Calculate VaR at difference confidence level\n",
    "VaR_90 = norm.ppf(1-0.90,mean,stdev)\n",
    "VaR_95 = norm.ppf(1-0.95,mean,stdev) \n",
    "VaR_99 = norm.ppf(1-0.99,mean,stdev)"
   ]
  },
  {
   "cell_type": "code",
   "execution_count": 9,
   "id": "f53feea4",
   "metadata": {},
   "outputs": [
    {
     "data": {
      "text/plain": [
       "-1.6448536269514729"
      ]
     },
     "execution_count": 9,
     "metadata": {},
     "output_type": "execute_result"
    }
   ],
   "source": [
    "# number of stdev from the mean\n",
    "norm.ppf(0.05)"
   ]
  },
  {
   "cell_type": "code",
   "execution_count": 10,
   "id": "df7dad39",
   "metadata": {},
   "outputs": [
    {
     "name": "stdout",
     "output_type": "stream",
     "text": [
      "Confidence Level      Value At Risk\n",
      "------------------  ---------------\n",
      "90%                      -0.0427205\n",
      "95%                      -0.0555824\n",
      "99%                      -0.0797091\n"
     ]
    }
   ],
   "source": [
    "# Ouput results in tabular format\n",
    "table = [['90%', VaR_90],['95%', VaR_95],['99%', VaR_99] ]\n",
    "header = ['Confidence Level', 'Value At Risk']\n",
    "print(tabulate(table,headers=header))"
   ]
  },
  {
   "cell_type": "code",
   "execution_count": 11,
   "id": "33f95daa",
   "metadata": {},
   "outputs": [],
   "source": [
    "# VaR function\n",
    "def VaR(dataframe):\n",
    "    var = pd.DataFrame()\n",
    "\n",
    "    for i in [90, 95, 99]:\n",
    "        for j in range(len(df.columns)):\n",
    "            var.loc[i, j] = 100 * norm.ppf(1-i/100, dataframe.iloc[:,j].mean(), dataframe.iloc[:,j].std())\n",
    "\n",
    "    var.columns = df.columns\n",
    "    return var"
   ]
  },
  {
   "cell_type": "code",
   "execution_count": 12,
   "id": "a288255d",
   "metadata": {
    "scrolled": true
   },
   "outputs": [
    {
     "data": {
      "text/html": [
       "<div>\n",
       "<style scoped>\n",
       "    .dataframe tbody tr th:only-of-type {\n",
       "        vertical-align: middle;\n",
       "    }\n",
       "\n",
       "    .dataframe tbody tr th {\n",
       "        vertical-align: top;\n",
       "    }\n",
       "\n",
       "    .dataframe thead th {\n",
       "        text-align: right;\n",
       "    }\n",
       "</style>\n",
       "<table border=\"1\" class=\"dataframe\">\n",
       "  <thead>\n",
       "    <tr style=\"text-align: right;\">\n",
       "      <th></th>\n",
       "      <th>AMD</th>\n",
       "      <th>CSCO</th>\n",
       "      <th>INTC</th>\n",
       "      <th>INTU</th>\n",
       "      <th>NVDA</th>\n",
       "    </tr>\n",
       "  </thead>\n",
       "  <tbody>\n",
       "    <tr>\n",
       "      <th>90</th>\n",
       "      <td>-4.273859</td>\n",
       "      <td>-2.101121</td>\n",
       "      <td>-2.739468</td>\n",
       "      <td>-2.341609</td>\n",
       "      <td>-3.558122</td>\n",
       "    </tr>\n",
       "    <tr>\n",
       "      <th>95</th>\n",
       "      <td>-5.560556</td>\n",
       "      <td>-2.720966</td>\n",
       "      <td>-3.533578</td>\n",
       "      <td>-3.050609</td>\n",
       "      <td>-4.634949</td>\n",
       "    </tr>\n",
       "    <tr>\n",
       "      <th>99</th>\n",
       "      <td>-7.974186</td>\n",
       "      <td>-3.883691</td>\n",
       "      <td>-5.023198</td>\n",
       "      <td>-4.380576</td>\n",
       "      <td>-6.654897</td>\n",
       "    </tr>\n",
       "  </tbody>\n",
       "</table>\n",
       "</div>"
      ],
      "text/plain": [
       "         AMD      CSCO      INTC      INTU      NVDA\n",
       "90 -4.273859 -2.101121 -2.739468 -2.341609 -3.558122\n",
       "95 -5.560556 -2.720966 -3.533578 -3.050609 -4.634949\n",
       "99 -7.974186 -3.883691 -5.023198 -4.380576 -6.654897"
      ]
     },
     "execution_count": 12,
     "metadata": {},
     "output_type": "execute_result"
    }
   ],
   "source": [
    "# VaR for stocks\n",
    "VaR(returns)"
   ]
  },
  {
   "cell_type": "code",
   "execution_count": 14,
   "id": "8d618856",
   "metadata": {},
   "outputs": [
    {
     "name": "stdout",
     "output_type": "stream",
     "text": [
      "AMD Holding Value: 145149.994\n",
      "AMD VaR at 99% confidence level is: 11569.771998178152\n"
     ]
    }
   ],
   "source": [
    "num_of_shares = 1000\n",
    "price = df['AMD'].iloc[-1]\n",
    "position = num_of_shares * price \n",
    "\n",
    "amd_var = position * -VaR_99\n",
    "\n",
    "print(f'AMD Holding Value: {position}')\n",
    "print(f'AMD VaR at 99% confidence level is: {amd_var}')"
   ]
  },
  {
   "cell_type": "code",
   "execution_count": 16,
   "id": "81bdb113",
   "metadata": {},
   "outputs": [
    {
     "data": {
      "text/plain": [
       "12339.002235289827"
      ]
     },
     "execution_count": 16,
     "metadata": {},
     "output_type": "execute_result"
    }
   ],
   "source": [
    "# VaR calculation by appling direct formulae\n",
    "position * (mean + norm.ppf(0.99) * stdev)         # mean-2.33*stdev"
   ]
  },
  {
   "cell_type": "code",
   "execution_count": 17,
   "id": "41a467ff",
   "metadata": {},
   "outputs": [],
   "source": [
    "# Use quantile function for Historical VaR\n",
    "hVaR_90 = returns['AMD'].quantile(0.10)\n",
    "hVaR_95 = returns['AMD'].quantile(0.05)\n",
    "hVaR_99 = returns['AMD'].quantile(0.01)"
   ]
  },
  {
   "cell_type": "code",
   "execution_count": 18,
   "id": "74963e22",
   "metadata": {},
   "outputs": [
    {
     "name": "stdout",
     "output_type": "stream",
     "text": [
      "Confidence Level      Value At Risk\n",
      "------------------  ---------------\n",
      "90%                      -0.0334636\n",
      "95%                      -0.0504089\n",
      "99%                      -0.0887104\n"
     ]
    }
   ],
   "source": [
    "htable = [['90%', hVaR_90],['95%', hVaR_95],['99%', hVaR_99]]\n",
    "print(tabulate(htable,headers=header))"
   ]
  },
  {
   "cell_type": "code",
   "execution_count": 19,
   "id": "182b15b3",
   "metadata": {},
   "outputs": [],
   "source": [
    "# Set seed for reproducibility\n",
    "np.random.seed(52)\n",
    "\n",
    "# Number of simulations\n",
    "n_sims = 5000\n",
    "\n",
    "# Simulate returns and sort\n",
    "sim_returns = np.random.normal(mean, stdev, n_sims)\n",
    "\n",
    "# Use percentile function for MCVaR\n",
    "MCVaR_90 = np.percentile(sim_returns,10)\n",
    "MCVaR_95 = np.percentile(sim_returns, 5)\n",
    "MCVaR_99 = np.percentile(sim_returns,1)"
   ]
  },
  {
   "cell_type": "code",
   "execution_count": 20,
   "id": "d7fe55e4",
   "metadata": {},
   "outputs": [
    {
     "name": "stdout",
     "output_type": "stream",
     "text": [
      "Confidence Level      Value At Risk\n",
      "------------------  ---------------\n",
      "90%                      -0.0429576\n",
      "95%                      -0.0557679\n",
      "99%                      -0.0810496\n"
     ]
    }
   ],
   "source": [
    "mctable = [['90%', MCVaR_90],['95%', MCVaR_95],['99%', MCVaR_99]]\n",
    "print(tabulate(mctable,headers=header))"
   ]
  },
  {
   "cell_type": "code",
   "execution_count": 21,
   "id": "a82b3c65",
   "metadata": {},
   "outputs": [],
   "source": [
    "forecast_days = 5\n",
    "f_VaR_90 = VaR_90*np.sqrt(forecast_days)\n",
    "f_VaR_95 = VaR_95*np.sqrt(forecast_days)\n",
    "f_VaR_99 = VaR_99*np.sqrt(forecast_days)"
   ]
  },
  {
   "cell_type": "code",
   "execution_count": 22,
   "id": "98408e90",
   "metadata": {},
   "outputs": [
    {
     "name": "stdout",
     "output_type": "stream",
     "text": [
      "Confidence Level      5-Day Forecast Value At Risk\n",
      "------------------  ------------------------------\n",
      "90%                                      -0.095526\n",
      "95%                                      -0.124286\n",
      "99%                                      -0.178235\n"
     ]
    }
   ],
   "source": [
    "ftable = [['90%', f_VaR_90],['95%', f_VaR_95],['99%', f_VaR_99] ]\n",
    "fheader = ['Confidence Level', '5-Day Forecast Value At Risk']\n",
    "print(tabulate(ftable,headers=fheader))"
   ]
  },
  {
   "cell_type": "code",
   "execution_count": 23,
   "id": "06e29dd2",
   "metadata": {},
   "outputs": [
    {
     "name": "stdout",
     "output_type": "stream",
     "text": [
      "AMD Holding Value: 145149.994\n",
      "AMD VaR at 99% confidence level is: -25870.79667209992\n"
     ]
    }
   ],
   "source": [
    "amd_var_5days = position * f_VaR_99\n",
    "\n",
    "print(f'AMD Holding Value: {position}')\n",
    "print(f'AMD VaR at 99% confidence level is: {amd_var_5days}')"
   ]
  },
  {
   "cell_type": "code",
   "execution_count": 24,
   "id": "b5ed417e",
   "metadata": {},
   "outputs": [
    {
     "data": {
      "image/png": "[encoded data removed]",
      "text/plain": [
       "<Figure size 1728x576 with 1 Axes>"
      ]
     },
     "metadata": {},
     "output_type": "display_data"
    }
   ],
   "source": [
    "# Scaled VaR over different time horizon\n",
    "# plt.figure()\n",
    "plt.plot(range(100),[-100*VaR_95*np.sqrt(x) for x in range(100)], color='orange')\n",
    "plt.xlabel('Horizon')\n",
    "plt.ylabel('Var 95 (%)')\n",
    "plt.title('VaR_95 Scaled by Time');"
   ]
  },
  {
   "cell_type": "code",
   "execution_count": 25,
   "id": "5761d684",
   "metadata": {},
   "outputs": [],
   "source": [
    "# Calculate CVar\n",
    "CVaR_90 = returns['AMD'][returns['AMD']<=hVaR_90].mean()\n",
    "CVaR_95 = returns['AMD'][returns['AMD']<=hVaR_95].mean()\n",
    "CVaR_99 = returns['AMD'][returns['AMD']<=hVaR_99].mean()"
   ]
  },
  {
   "cell_type": "code",
   "execution_count": 26,
   "id": "8f9755d3",
   "metadata": {},
   "outputs": [
    {
     "name": "stdout",
     "output_type": "stream",
     "text": [
      "Confidence Level      Conditional Value At Risk\n",
      "------------------  ---------------------------\n",
      "90%                                  -0.0585997\n",
      "95%                                  -0.0768405\n",
      "99%                                  -0.125374\n"
     ]
    }
   ],
   "source": [
    "ctable = [['90%', CVaR_90],['95%', CVaR_95],['99%', CVaR_99] ]\n",
    "cheader = ['Confidence Level', 'Conditional Value At Risk']\n",
    "print(tabulate(ctable,headers=cheader))"
   ]
  },
  {
   "cell_type": "code",
   "execution_count": 27,
   "id": "e435adc9",
   "metadata": {},
   "outputs": [
    {
     "data": {
      "text/html": [
       "<div>\n",
       "<style scoped>\n",
       "    .dataframe tbody tr th:only-of-type {\n",
       "        vertical-align: middle;\n",
       "    }\n",
       "\n",
       "    .dataframe tbody tr th {\n",
       "        vertical-align: top;\n",
       "    }\n",
       "\n",
       "    .dataframe thead th {\n",
       "        text-align: right;\n",
       "    }\n",
       "</style>\n",
       "<table border=\"1\" class=\"dataframe\">\n",
       "  <thead>\n",
       "    <tr style=\"text-align: right;\">\n",
       "      <th></th>\n",
       "      <th>AMD</th>\n",
       "      <th>CSCO</th>\n",
       "      <th>INTC</th>\n",
       "      <th>INTU</th>\n",
       "      <th>NVDA</th>\n",
       "    </tr>\n",
       "  </thead>\n",
       "  <tbody>\n",
       "    <tr>\n",
       "      <th>0</th>\n",
       "      <td>0.0</td>\n",
       "      <td>57.7</td>\n",
       "      <td>13.14</td>\n",
       "      <td>29.16</td>\n",
       "      <td>0.0</td>\n",
       "    </tr>\n",
       "  </tbody>\n",
       "</table>\n",
       "</div>"
      ],
      "text/plain": [
       "   AMD  CSCO   INTC   INTU  NVDA\n",
       "0  0.0  57.7  13.14  29.16   0.0"
      ]
     },
     "execution_count": 27,
     "metadata": {},
     "output_type": "execute_result"
    }
   ],
   "source": [
    "# Weights from Minimum Variance Portfolio\n",
    "weights = pd.DataFrame([0., 57.70, 13.14, 29.16, 0.0]).T\n",
    "weights.columns = df.columns\n",
    "weights"
   ]
  },
  {
   "cell_type": "code",
   "execution_count": 28,
   "id": "d0f5a9f9",
   "metadata": {},
   "outputs": [
    {
     "data": {
      "text/plain": [
       "0.10386424454190814"
      ]
     },
     "execution_count": 28,
     "metadata": {},
     "output_type": "execute_result"
    }
   ],
   "source": [
    "# Portfolio returns\n",
    "port_ret = np.dot(returns, weights.T)\n",
    "port_mean = port_ret.mean()\n",
    "port_mean"
   ]
  },
  {
   "cell_type": "code",
   "execution_count": 29,
   "id": "3c7d384d",
   "metadata": {},
   "outputs": [
    {
     "data": {
      "text/plain": [
       "1.5879430754757125"
      ]
     },
     "execution_count": 29,
     "metadata": {},
     "output_type": "execute_result"
    }
   ],
   "source": [
    "# Portfolio volatility\n",
    "port_stdev = np.sqrt(multi_dot([weights, returns.cov(), weights.T]))\n",
    "port_stdev.flatten()[0]"
   ]
  },
  {
   "cell_type": "code",
   "execution_count": 30,
   "id": "ad8b09cc",
   "metadata": {},
   "outputs": [],
   "source": [
    "# Calculate Portfolio VaR at difference confidence level\n",
    "pVaR_90 = norm.ppf(1-0.90,port_mean,port_stdev).flatten()[0]\n",
    "pVaR_95 = norm.ppf(1-0.95,port_mean,port_stdev).flatten()[0]\n",
    "pVaR_99 = norm.ppf(1-0.99,port_mean,port_stdev).flatten()[0]"
   ]
  },
  {
   "cell_type": "code",
   "execution_count": 31,
   "id": "413e8f8e",
   "metadata": {},
   "outputs": [
    {
     "name": "stdout",
     "output_type": "stream",
     "text": [
      "Confidence Level      Value At Risk\n",
      "------------------  ---------------\n",
      "90%                        -1.93117\n",
      "95%                        -2.50807\n",
      "99%                        -3.59024\n"
     ]
    }
   ],
   "source": [
    "# Ouput results in tabular format\n",
    "ptable = [['90%', pVaR_90],['95%', pVaR_95],['99%', pVaR_99]]\n",
    "header = ['Confidence Level', 'Value At Risk']\n",
    "print(tabulate(ptable,headers=header))"
   ]
  },
  {
   "cell_type": "code",
   "execution_count": 32,
   "id": "d22394a7",
   "metadata": {},
   "outputs": [
    {
     "name": "stdout",
     "output_type": "stream",
     "text": [
      "AMD Holding Value: 0.0\n",
      "AMD VaR at 95% confidence level: -5.5605559%\n",
      "\n",
      "CSCO Holding Value: 3649369.6\n",
      "CSCO VaR at 95% confidence level: -2.7209659%\n",
      "\n",
      "INTC Holding Value: 674723.8\n",
      "INTC VaR at 95% confidence level: -3.5335782%\n",
      "\n",
      "INTU Holding Value: 1.8738623e+07\n",
      "INTU VaR at 95% confidence level: -3.0506092%\n",
      "\n",
      "NVDA Holding Value: 0.0\n",
      "NVDA VaR at 95% confidence level: -4.6349486%\n",
      "\n",
      "Portfolio Holding Value: 2.3062716e+07\n",
      "Portoflio VaR at 95% confidence level: -2.51%\n"
     ]
    }
   ],
   "source": [
    "# Iterate over symbols\n",
    "portpos=0.\n",
    "for stock in df.columns:\n",
    "    pos = df[stock].iloc[-1] * 1000*weights[stock][0]\n",
    "    pvar = VaR(returns)[stock].iloc[1]\n",
    "\n",
    "    print(f'{stock} Holding Value: {pos:0.8}') \n",
    "    print(f'{stock} VaR at 95% confidence level: {pvar:0.8}%')\n",
    "    print()\n",
    "\n",
    "    portpos += pos\n",
    "\n",
    "print(f'Portfolio Holding Value: {portpos:0.8}')\n",
    "print(f'Portoflio VaR at 95% confidence level: {pVaR_95:0.3}%')"
   ]
  },
  {
   "cell_type": "code",
   "execution_count": null,
   "id": "7f42b33f",
   "metadata": {},
   "outputs": [],
   "source": []
  }
 ],
 "metadata": {
  "kernelspec": {
   "display_name": "Python 3",
   "language": "python",
   "name": "python3"
  },
  "language_info": {
   "codemirror_mode": {
    "name": "ipython",
    "version": 3
   },
   "file_extension": ".py",
   "mimetype": "text/x-python",
   "name": "python",
   "nbconvert_exporter": "python",
   "pygments_lexer": "ipython3",
   "version": "3.8.12"
  }
 },
 "nbformat": 4,
 "nbformat_minor": 5
}
