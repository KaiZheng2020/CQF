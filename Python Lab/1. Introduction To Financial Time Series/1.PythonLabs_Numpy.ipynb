{
 "cells": [
  {
   "cell_type": "markdown",
   "metadata": {},
   "source": [
    "\n",
    "<p><img align=\"left\" src=\"https://www.cqf.com/themes/custom/creode/logo.svg\" style=\"vertical-align: top; padding-top: 23px;\" width=\"10%\"/>\n",
    "<img align=\"right\" src=\"https://upload.wikimedia.org/wikipedia/commons/c/c3/Python-logo-notext.svg\" style=\"vertical-align: middle;\" width=\"12%\"/>\n",
    "<font color=\"#306998\"><h1><center>Python Labs</center></h1></font></p>\n",
    "<p></p><h1><center>Introduction to NumPy</center></h1>\n",
    "<center><h3>Kannan Singaravelu</h3></center>\n",
    "<center>kannan.singaravelu@fitchlearning.com</center>\n"
   ]
  },
  {
   "cell_type": "markdown",
   "metadata": {},
   "source": [
    "\n",
    "<h2 id=\"Numerical-Python\">Numerical Python<a class=\"anchor-link\" href=\"#Numerical-Python\">¶</a></h2><p>Python doesn't have built-in tools for mathematical or scientific computation. We rely on many helpful libraries for analysis. NumPy is one of the most important and the first among these libraries used for data analysis, machine learning and scientific computing. It is a core python library and is the fundamental building blocks of Scikit-Learn, SciPy, Pandas and TensorFlow packages.</p>\n",
    "<p>More than 4900 packages have NumPy as a dependency. This is a huge feat and it will not be wrong to say that NumPy is the biggest reason for the success of Machine Learning in Python.</p>\n",
    "<h3 id=\"NumPy\">NumPy<a class=\"anchor-link\" href=\"#NumPy\">¶</a></h3><p>NumPy features can be classified into three-fold:</p>\n",
    "<ul>\n",
    "<li>mathematical functions  :sin cos log exponential等</li>\n",
    "<li><code>random</code> submodule</li>\n",
    "<li><code>ndarray</code> object</li>\n",
    "</ul>\n",
    "<p>While datasets can have a wide range of sources and formats, NumPy helps us to think all data fundamentally as arrays of numbers. The first step in data preprocessing is making the data analyzable by transforming them into arrays of numbers.</p>\n",
    "<p>Numpy is known for its</p>\n",
    "<p><strong>Syntax</strong>: compact and vectorized syntax allowing for even 100,000 calculations within a single line of code.<br/>\n",
    "<strong>Speed</strong>: faster as the majority of the code is implemented in C.</p>\n"
   ]
  },
  {
   "cell_type": "markdown",
   "metadata": {},
   "source": [
    "\n",
    "<p><em>Note: To run all of the code cells in this example, select <strong>Run All</strong> from the <strong>Cell</strong> menu.</em></p>\n"
   ]
  },
  {
   "cell_type": "markdown",
   "metadata": {},
   "source": [
    "\n",
    "<h2 id=\"The-Basics\">The Basics<a class=\"anchor-link\" href=\"#The-Basics\">¶</a></h2><p>Data manipulation in Python is almost always equated with NumPy array manipulation. NumPy arrays are a) <strong>homogenous</strong>; b) elements are all of the <strong>same types</strong>. In NumPy, dimensions are called axes.</p>\n",
    "<p><br/></p><center><strong> A NumPy array is similar to an n-dimensional matrix </strong><center><br/>\n",
    "$$\\begin{bmatrix}\n",
    "    x_{11} &amp; x_{12} &amp; x_{13} &amp; \\dots &amp; x_{1n} \\\\\n",
    "    x_{21} &amp; x_{22} &amp; x_{23} &amp; \\dots &amp; x_{2n} \\\\  \n",
    "    \\vdots &amp; \\vdots &amp; \\vdots &amp; \\vdots &amp; \\vdots \\\\\n",
    "    x_{d1} &amp; x_{d2} &amp; x_{d3} &amp; \\dots &amp; x_{dn} \\\\\n",
    "\\end{bmatrix}$$\n",
    "<br/><center>N-dimensional array</center>\n",
    "<p><br/></p><center><strong> 1D array </strong><center><br/>\n",
    "$$\\begin{bmatrix}\n",
    "    x_{11} &amp; x_{12} &amp; x_{13} \\\\ \n",
    "\\end{bmatrix}$$\n",
    "<p><br/></p><center>The above array has 1 axis with 3 elements in it, so we say it has a length of 3</center>\n",
    "<p><br/></p><center><strong> 2D array </strong><center><br/>\n",
    "$$\\begin{bmatrix}\n",
    "    x_{11} &amp; x_{12} &amp; x_{13} \\\\ \n",
    "    x_{21} &amp; x_{22} &amp; x_{23} \\\\  \n",
    "\\end{bmatrix}$$\n",
    "<p><br/></p><center>The above array has 2 axes. The first axis has a length of 2, the second axis has a length of 3</center>\n",
    "</center></center></center></center></center></center>"
   ]
  },
  {
   "cell_type": "markdown",
   "metadata": {},
   "source": [
    "\n",
    "<h3 id=\"Installation\">Installation<a class=\"anchor-link\" href=\"#Installation\">¶</a></h3>\n"
   ]
  },
  {
   "cell_type": "markdown",
   "metadata": {},
   "source": [
    "\n",
    "<p>We'll install the required libraries that we'll use in this example.</p>\n"
   ]
  },
  {
   "cell_type": "code",
   "execution_count": null,
   "metadata": {},
   "outputs": [],
   "source": [
    "\n",
    "# Instal Numpy library\n",
    "# ! pip install numpy\n",
    "\n"
   ]
  },
  {
   "cell_type": "markdown",
   "metadata": {},
   "source": [
    "\n",
    "<h3 id=\"Importing\">Importing<a class=\"anchor-link\" href=\"#Importing\">¶</a></h3><p>We'll import the required libraries that we'll use in this example.</p>\n"
   ]
  },
  {
   "cell_type": "code",
   "execution_count": null,
   "metadata": {},
   "outputs": [],
   "source": [
    "\n",
    "# Import required libraries\n",
    "import numpy as np\n",
    "\n"
   ]
  },
  {
   "cell_type": "code",
   "execution_count": null,
   "metadata": {},
   "outputs": [],
   "source": [
    "#pip install --upgrade numpy  -i https://pypi.douban.com/simple\n",
    "# Check the version\n",
    "np.__version__\n",
    "\n"
   ]
  },
  {
   "cell_type": "markdown",
   "metadata": {},
   "source": [
    "\n",
    "<h3 id=\"Builtin-Documentation\">Builtin Documentation<a class=\"anchor-link\" href=\"#Builtin-Documentation\">¶</a></h3><p>One of the most useful functions of Jupyter platform is to shorten the learning curve by offering efficient help/documentation search. The following are the various ways to acess <em>doc string</em>.</p>\n",
    "<ul>\n",
    "<li>accessing documentation with <code>?</code><br/><br/></li>\n",
    "<li>accessing source code with <code>??</code><br/><br/></li>\n",
    "<li>exploring modules with Tab-Completion</li>\n",
    "</ul>\n"
   ]
  },
  {
   "cell_type": "code",
   "execution_count": null,
   "metadata": {},
   "outputs": [],
   "source": [
    "np.zeros"
   ]
  },
  {
   "cell_type": "markdown",
   "metadata": {},
   "source": [
    "\n",
    "<h2 id=\"Array-Creation\">Array Creation<a class=\"anchor-link\" href=\"#Array-Creation\">¶</a></h2><p>We'll create arrays from scratch using builtin NumPy routines. NumPy arrays are also called as <code>ndarray</code>, a N-dimensional array. An <code>ndarray</code> is a multidimensional container of items of the same type and size. First, we can use <code>np.array</code> to create arrays from the list.</p>\n",
    "<div class=\"highlight\"><pre><span></span><span class=\"c1\"># Creating an Array</span>\n",
    "<span class=\"n\">In</span> <span class=\"p\">[</span> <span class=\"p\">]</span> <span class=\"p\">:</span>  <span class=\"n\">np</span><span class=\"o\">.</span><span class=\"n\">array</span><span class=\"p\">([</span><span class=\"mi\">1</span><span class=\"p\">,</span><span class=\"mi\">2</span><span class=\"p\">,</span><span class=\"mi\">3</span><span class=\"p\">,</span><span class=\"mi\">4</span><span class=\"p\">,</span><span class=\"mi\">5</span><span class=\"p\">])</span>\n",
    "<span class=\"n\">Out</span><span class=\"p\">[</span> <span class=\"p\">]</span> <span class=\"p\">:</span>  <span class=\"n\">array</span><span class=\"p\">([</span><span class=\"mi\">1</span><span class=\"p\">,</span> <span class=\"mi\">2</span><span class=\"p\">,</span> <span class=\"mi\">3</span><span class=\"p\">,</span> <span class=\"mi\">4</span><span class=\"p\">,</span> <span class=\"mi\">5</span><span class=\"p\">])</span>\n",
    "</pre></div>\n"
   ]
  },
  {
   "cell_type": "markdown",
   "metadata": {},
   "source": [
    "\n",
    "<h4 id=\"Arrays-from-list\">Arrays from list<a class=\"anchor-link\" href=\"#Arrays-from-list\">¶</a></h4>\n"
   ]
  },
  {
   "cell_type": "code",
   "execution_count": null,
   "metadata": {},
   "outputs": [],
   "source": [
    "\n",
    "# Array of integers\n",
    "np.array([1,2,3,4,5])\n",
    "\n"
   ]
  },
  {
   "cell_type": "code",
   "execution_count": null,
   "metadata": {},
   "outputs": [],
   "source": [
    "\n",
    "# Numpy upcast for homogeneity\n",
    "np.array([1,2,3.5,4,5])\n",
    "\n"
   ]
  },
  {
   "cell_type": "code",
   "execution_count": null,
   "metadata": {},
   "outputs": [],
   "source": [
    "\n",
    "# Explicit specification of datatype\n",
    "np.array([1, 2, 3, 4, 5], dtype='float32')\n",
    "\n"
   ]
  },
  {
   "cell_type": "code",
   "execution_count": null,
   "metadata": {},
   "outputs": [],
   "source": [
    "\n",
    "# Create a matrix or multidimensional arrays \n",
    "np.array([[1,2],[3,4],[5,6]])\n",
    "\n"
   ]
  },
  {
   "cell_type": "markdown",
   "metadata": {},
   "source": [
    "\n",
    "<h4 id=\"Arrays-from-scratch\">Arrays from scratch<a class=\"anchor-link\" href=\"#Arrays-from-scratch\">¶</a></h4><p>In most cases, creating arrays from scratch would efficient. We can use NumPy to initialize the values of the array. NumPy provides methods like ones(), zeros(), and random.random() for these cases.</p>\n"
   ]
  },
  {
   "cell_type": "code",
   "execution_count": null,
   "metadata": {},
   "outputs": [],
   "source": [
    "\n",
    "# Create an empty array of length-5\n",
    "np.empty(5,dtype=list)\n",
    "\n"
   ]
  },
  {
   "cell_type": "code",
   "execution_count": null,
   "metadata": {},
   "outputs": [],
   "source": [
    "\n",
    "# Create a length-5 integer array filled with zeros\n",
    "np.zeros(5, dtype=int)\n",
    "\n"
   ]
  },
  {
   "cell_type": "code",
   "execution_count": null,
   "metadata": {},
   "outputs": [],
   "source": [
    "\n",
    "# Create a length-5 integer array filled with ones\n",
    "np.ones(5, dtype=int)\n",
    "\n"
   ]
  },
  {
   "cell_type": "code",
   "execution_count": null,
   "metadata": {},
   "outputs": [],
   "source": [
    "\n",
    "# Create a 3x5 array filled with ones\n",
    "np.ones((3,5))\n",
    "\n"
   ]
  },
  {
   "cell_type": "code",
   "execution_count": null,
   "metadata": {},
   "outputs": [],
   "source": [
    "\n",
    "# Create a 3x5 array filled with 5\n",
    "np.full((3,5), 6)\n",
    "\n"
   ]
  },
  {
   "cell_type": "code",
   "execution_count": null,
   "metadata": {},
   "outputs": [],
   "source": [
    "\n",
    "# Creating a linear sequence array\n",
    "np.arange(0,10,2) #start, end, step\n",
    "\n"
   ]
  },
  {
   "cell_type": "code",
   "execution_count": null,
   "metadata": {},
   "outputs": [],
   "source": [
    "\n",
    "# Create an evenly spaced array between 0 and 1\n",
    "np.linspace(0,1,5)\n",
    "\n"
   ]
  },
  {
   "cell_type": "code",
   "execution_count": null,
   "metadata": {},
   "outputs": [],
   "source": [
    "\n",
    "# Create a randon numbers of length-3  uniformly distributed\n",
    "np.random.random(3)\n",
    "\n"
   ]
  },
  {
   "cell_type": "code",
   "execution_count": null,
   "metadata": {},
   "outputs": [],
   "source": [
    "\n",
    "# Create a randon numbers of 3x3 - uniformly distributed\n",
    "np.random.random((3,3))\n",
    "\n"
   ]
  },
  {
   "cell_type": "code",
   "execution_count": null,
   "metadata": {},
   "outputs": [],
   "source": [
    "\n",
    "# Create a normally distributed 3x3 random numbers\n",
    "np.random.normal(0,1,(3,3))\n",
    "\n"
   ]
  },
  {
   "cell_type": "code",
   "execution_count": null,
   "metadata": {},
   "outputs": [],
   "source": [
    "\n",
    "# Create a 3x3 identity matrix\n",
    "np.eye(3)\n",
    "\n"
   ]
  },
  {
   "cell_type": "markdown",
   "metadata": {},
   "source": [
    "\n",
    "<h2 id=\"Array-Attributes\">Array Attributes<a class=\"anchor-link\" href=\"#Array-Attributes\">¶</a></h2><p>The following table lists the important attributes of an <code>ndarray</code> object:</p>\n",
    "<table>\n",
    "<thead><tr>\n",
    "<th>Attributes</th>\n",
    "<th>Description</th>\n",
    "</tr>\n",
    "</thead>\n",
    "<tbody>\n",
    "<tr>\n",
    "<td><code>ndarray.ndim</code></td>\n",
    "<td>Number of axes (dimensions) of the array</td>\n",
    "</tr>\n",
    "<tr>\n",
    "<td><code>ndarray.shape</code></td>\n",
    "<td>Dimensions of the array</td>\n",
    "</tr>\n",
    "<tr>\n",
    "<td><code>ndarray.size</code></td>\n",
    "<td>Number of elements of the array</td>\n",
    "</tr>\n",
    "<tr>\n",
    "<td><code>ndarray.dtype</code></td>\n",
    "<td>Type of the elements in the array</td>\n",
    "</tr>\n",
    "<tr>\n",
    "<td><code>ndarray.itemsize</code></td>\n",
    "<td>Size in bytes of each element of the array</td>\n",
    "</tr>\n",
    "<tr>\n",
    "<td><code>ndarray.nbytes</code></td>\n",
    "<td>Total size in bytes of the array</td>\n",
    "</tr>\n",
    "</tbody>\n",
    "</table>\n",
    "<p>We'll now create three random arrays: 1D, 2D and 3D array using NumPy's random number generator and determine the above attributes of arrays.</p>\n"
   ]
  },
  {
   "cell_type": "code",
   "execution_count": null,
   "metadata": {},
   "outputs": [],
   "source": [
    "\n",
    "# Seed for reproducibility再现\n",
    "np.random.seed(1)  \n",
    "\n",
    "# 1D array\n",
    "x1 = np.random.randint(10, size=5)  \n",
    "\n",
    "# 2D array\n",
    "x2 = np.random.randint(10, size=(2, 3))  \n",
    "\n",
    "# 3D array\n",
    "x3 = np.random.randint(10, size=(2, 3, 5))  \n",
    "\n"
   ]
  },
  {
   "cell_type": "code",
   "execution_count": null,
   "metadata": {},
   "outputs": [],
   "source": [
    "\n",
    "x1\n",
    "\n"
   ]
  },
  {
   "cell_type": "code",
   "execution_count": null,
   "metadata": {},
   "outputs": [],
   "source": [
    "\n",
    "x2\n",
    "\n"
   ]
  },
  {
   "cell_type": "code",
   "execution_count": null,
   "metadata": {},
   "outputs": [],
   "source": [
    "\n",
    "x3\n",
    "\n"
   ]
  },
  {
   "cell_type": "code",
   "execution_count": null,
   "metadata": {},
   "outputs": [],
   "source": [
    "np.random.seed(1)  \n",
    "x4 = np.random.randint(10, size=5)  \n",
    "x4"
   ]
  },
  {
   "cell_type": "code",
   "execution_count": null,
   "metadata": {},
   "outputs": [],
   "source": [
    "\n",
    "# Print out the array attributes\n",
    "print(\"The Array Attributes are:\")\n",
    "print(\"-\"*25)\n",
    "print(f\"x3 ndim:      {x3.ndim}\")\n",
    "print(f\"x3 shape:     {x3.shape}\")\n",
    "print(f\"x3 size:      {x3.size}\")\n",
    "print(f\"x3 dtype:     {x3.dtype}\")\n",
    "print(f\"x3 itemsize:  {x3.itemsize}\")\n",
    "print(f\"x3 nbytes:    {x3.nbytes}\")\n",
    "\n",
    "print(\"x3 ndim:    {}\".format(x3.ndim))"
   ]
  },
  {
   "cell_type": "markdown",
   "metadata": {},
   "source": [
    "\n",
    "<p>The dimensions of a 3D array are described by the number of layers the array contains, and the number of rows and columns in each layer. All layers must have the same number of rows and columns. For a matrix with l layers, n rows and m columns, the shape will be <code>(l,n,m)</code>.</p>\n"
   ]
  },
  {
   "cell_type": "markdown",
   "metadata": {},
   "source": [
    "\n",
    "<h2 id=\"Array-Manipulation\">Array Manipulation<a class=\"anchor-link\" href=\"#Array-Manipulation\">¶</a></h2><p>We'll cover a few categories of basic array manipulations. These include <code>indexing</code>, <code>slicing</code>, <code>reshaping</code> and <code>joining &amp; splitting</code> of arrays.<br/><br/></p>\n",
    "<center><img src=\"https://www.oreilly.com/library/view/python-for-data/9781449323592/httpatomoreillycomsourceoreillyimages2172112.png\" style=\"width:400px; height:300px\"/></center>\n",
    "<center>A two dimesntional representation of indexing elements in a NumPy array</center>\n"
   ]
  },
  {
   "cell_type": "markdown",
   "metadata": {},
   "source": [
    "\n",
    "<h3 id=\"Array-Indexing\">Array Indexing<a class=\"anchor-link\" href=\"#Array-Indexing\">¶</a></h3><p>Array indexing is a methodology to access single elements of an array. The default Python indexing is zero-based and 1D arrays can be indexed much like the lists.</p>\n"
   ]
  },
  {
   "cell_type": "code",
   "execution_count": null,
   "metadata": {},
   "outputs": [],
   "source": [
    "\n",
    "x1\n",
    "\n"
   ]
  },
  {
   "cell_type": "code",
   "execution_count": null,
   "metadata": {},
   "outputs": [],
   "source": [
    "\n",
    "# Access first element \n",
    "x1[0]\n",
    "\n"
   ]
  },
  {
   "cell_type": "markdown",
   "metadata": {},
   "source": [
    "\n",
    "<p>To index from the end of the array, we can use negative indices.</p>\n"
   ]
  },
  {
   "cell_type": "code",
   "execution_count": null,
   "metadata": {},
   "outputs": [],
   "source": [
    "\n",
    "# Access last element using negative indexing\n",
    "x1[-1]\n",
    "\n"
   ]
  },
  {
   "cell_type": "markdown",
   "metadata": {},
   "source": [
    "\n",
    "<p>In a multidimensional array, we use comma-separated tuple of indices to access an element of the array.</p>\n"
   ]
  },
  {
   "cell_type": "code",
   "execution_count": null,
   "metadata": {},
   "outputs": [],
   "source": [
    "\n",
    "x2\n",
    "\n"
   ]
  },
  {
   "cell_type": "code",
   "execution_count": null,
   "metadata": {},
   "outputs": [],
   "source": [
    "\n",
    "# Access first element in first row\n",
    "x2[0,0]\n",
    "\n"
   ]
  },
  {
   "cell_type": "code",
   "execution_count": null,
   "metadata": {},
   "outputs": [],
   "source": [
    "\n",
    "# Access second element in first row\n",
    "x2[0,1]\n",
    "\n"
   ]
  },
  {
   "cell_type": "code",
   "execution_count": null,
   "metadata": {},
   "outputs": [],
   "source": [
    "\n",
    "# Access last element in last row\n",
    "x2[-1,-1]\n",
    "\n"
   ]
  },
  {
   "cell_type": "markdown",
   "metadata": {},
   "source": [
    "\n",
    "<h3 id=\"Array-Slicing\">Array Slicing<a class=\"anchor-link\" href=\"#Array-Slicing\">¶</a></h3><p>Array indexing is a methodology to access single elements of an array. We can slice the array using the colon (<code>:</code>) character. The slicing syntax follows that of the standard Python list.</p>\n",
    "<div class=\"highlight\"><pre><span></span><span class=\"n\">x</span><span class=\"p\">[</span><span class=\"n\">start</span><span class=\"p\">:</span><span class=\"n\">stop</span><span class=\"p\">:</span><span class=\"n\">step</span><span class=\"p\">]</span>\n",
    "</pre></div>\n",
    "<p>The default values are <code>start=0</code>, <code>stop=</code><em><code>size of dimension</code></em>, <code>step=1</code>. We'll now access the sub-arrays in one dimension and in multiple dimensions.</p>\n"
   ]
  },
  {
   "cell_type": "code",
   "execution_count": null,
   "metadata": {},
   "outputs": [],
   "source": [
    "\n",
    "x = np.arange(10)\n",
    "x\n",
    "\n"
   ]
  },
  {
   "cell_type": "code",
   "execution_count": null,
   "metadata": {},
   "outputs": [],
   "source": [
    "\n",
    "x[:5]  # first five elements\n",
    "\n"
   ]
  },
  {
   "cell_type": "code",
   "execution_count": null,
   "metadata": {},
   "outputs": [],
   "source": [
    "\n",
    "x[5:7]  # middle subarray\n",
    "\n"
   ]
  },
  {
   "cell_type": "code",
   "execution_count": null,
   "metadata": {},
   "outputs": [],
   "source": [
    "\n",
    "x[::2]  # every other element\n",
    "\n"
   ]
  },
  {
   "cell_type": "code",
   "execution_count": null,
   "metadata": {},
   "outputs": [],
   "source": [
    "\n",
    "x[1::2]  # every other element, starting at index 1\n",
    "\n"
   ]
  },
  {
   "cell_type": "markdown",
   "metadata": {},
   "source": [
    "\n",
    "<p>Slicing using a negative step value.</p>\n"
   ]
  },
  {
   "cell_type": "code",
   "execution_count": null,
   "metadata": {},
   "outputs": [],
   "source": [
    "\n",
    "x[::-1]  # all elements, reversed\n",
    "\n"
   ]
  },
  {
   "cell_type": "code",
   "execution_count": null,
   "metadata": {},
   "outputs": [],
   "source": [
    "\n",
    "x[::-2]  # every other element in reverse \n",
    "\n"
   ]
  },
  {
   "cell_type": "markdown",
   "metadata": {},
   "source": [
    "\n",
    "<p>Multidimensional slices work in the samey way</p>\n"
   ]
  },
  {
   "cell_type": "code",
   "execution_count": null,
   "metadata": {},
   "outputs": [],
   "source": [
    "\n",
    "x2\n",
    "\n"
   ]
  },
  {
   "cell_type": "code",
   "execution_count": null,
   "metadata": {},
   "outputs": [],
   "source": [
    "\n",
    "# Accessing first row\n",
    "x2[0,:]\n",
    "\n"
   ]
  },
  {
   "cell_type": "code",
   "execution_count": null,
   "metadata": {},
   "outputs": [],
   "source": [
    "\n",
    "# Accessing first column\n",
    "x2[:,0]\n",
    "\n"
   ]
  },
  {
   "cell_type": "code",
   "execution_count": null,
   "metadata": {},
   "outputs": [],
   "source": [
    "\n",
    "x2[:2, :3] #two rows, three columns\n",
    "\n"
   ]
  },
  {
   "cell_type": "code",
   "execution_count": null,
   "metadata": {},
   "outputs": [],
   "source": [
    "\n",
    "x2[:, ::2] #all rows, every other column\n",
    "\n"
   ]
  },
  {
   "cell_type": "code",
   "execution_count": null,
   "metadata": {},
   "outputs": [],
   "source": [
    "\n",
    "x2[::-1, ::-1] #reversing the array\n",
    "\n"
   ]
  },
  {
   "cell_type": "markdown",
   "metadata": {},
   "source": [
    "\n",
    "<blockquote><p><em>Unlike the Python list slicing, Array slices return views rather than copies of the array data. Use <code>copy()</code> method to creat copies of array</em></p>\n",
    "</blockquote>\n"
   ]
  },
  {
   "cell_type": "code",
   "execution_count": null,
   "metadata": {},
   "outputs": [],
   "source": [
    "x = [1,2,3,4,5,6]\n",
    "y = x[:3]\n",
    "y[0] = 20"
   ]
  },
  {
   "cell_type": "code",
   "execution_count": null,
   "metadata": {},
   "outputs": [],
   "source": [
    "print(y)\n",
    "print(x)"
   ]
  },
  {
   "cell_type": "code",
   "execution_count": null,
   "metadata": {},
   "outputs": [],
   "source": [
    "\n",
    "# Create a subarray or slice of original array\n",
    "x2_sub = x2[:2,:2]\n",
    "print(x2_sub)\n",
    "\n"
   ]
  },
  {
   "cell_type": "code",
   "execution_count": null,
   "metadata": {},
   "outputs": [],
   "source": [
    "x2_sub[0,0] = 10\n",
    "print(x2_sub)"
   ]
  },
  {
   "cell_type": "code",
   "execution_count": null,
   "metadata": {},
   "outputs": [],
   "source": [
    "\n",
    "# Change first element to 10\n",
    "x2_sub[0,0] = 10\n",
    "print(x2_sub)\n",
    "\n"
   ]
  },
  {
   "cell_type": "code",
   "execution_count": null,
   "metadata": {},
   "outputs": [],
   "source": [
    "\n",
    "# Modified original array x2\n",
    "x2\n",
    "\n"
   ]
  },
  {
   "cell_type": "markdown",
   "metadata": {},
   "source": [
    "\n",
    "<h3 id=\"Reshaping-Arrays\">Reshaping Arrays<a class=\"anchor-link\" href=\"#Reshaping-Arrays\">¶</a></h3><p>Chainging the shape of an array is done using the <code>reshape()</code> method.</p>\n"
   ]
  },
  {
   "cell_type": "code",
   "execution_count": null,
   "metadata": {},
   "outputs": [],
   "source": [
    "\n",
    "x4 = np.arange(1,10)\n",
    "x4\n",
    "\n"
   ]
  },
  {
   "cell_type": "code",
   "execution_count": null,
   "metadata": {},
   "outputs": [],
   "source": [
    "\n",
    "x5 = x4.reshape((3,3))\n",
    "x5\n",
    "\n"
   ]
  },
  {
   "cell_type": "code",
   "execution_count": null,
   "metadata": {},
   "outputs": [],
   "source": [
    "\n",
    "x6 = np.array([1,2,3]) # row vector\n",
    "x6\n",
    "\n"
   ]
  },
  {
   "cell_type": "code",
   "execution_count": null,
   "metadata": {},
   "outputs": [],
   "source": [
    "\n",
    "# row vector\n",
    "x6.reshape(1,3)\n",
    "\n"
   ]
  },
  {
   "cell_type": "code",
   "execution_count": null,
   "metadata": {},
   "outputs": [],
   "source": [
    "\n",
    "# column vector\n",
    "x6.reshape(3,1)\n",
    "\n"
   ]
  },
  {
   "cell_type": "markdown",
   "metadata": {},
   "source": [
    "\n",
    "<h3 id=\"Transposing-Arrays\">Transposing Arrays<a class=\"anchor-link\" href=\"#Transposing-Arrays\">¶</a></h3><p>Transposing is a special form of reshaping which transposes a view on the underlying data without copying.</p>\n"
   ]
  },
  {
   "cell_type": "code",
   "execution_count": null,
   "metadata": {},
   "outputs": [],
   "source": [
    "\n",
    "arr = np.arange(15). reshape((3,5))\n",
    "arr\n",
    "\n"
   ]
  },
  {
   "cell_type": "code",
   "execution_count": null,
   "metadata": {},
   "outputs": [],
   "source": [
    "\n",
    "arr.T\n",
    "\n"
   ]
  },
  {
   "cell_type": "markdown",
   "metadata": {},
   "source": [
    "\n",
    "<h3 id=\"Sorting-Arrays\">Sorting Arrays<a class=\"anchor-link\" href=\"#Sorting-Arrays\">¶</a></h3><p>We'll use NumPy <code>sort</code> and <code>argsort</code> functions to perform sorting operations.</p>\n"
   ]
  },
  {
   "cell_type": "code",
   "execution_count": null,
   "metadata": {},
   "outputs": [],
   "source": [
    "\n",
    "arr = np.random.randn(10)\n",
    "arr\n",
    "\n"
   ]
  },
  {
   "cell_type": "code",
   "execution_count": null,
   "metadata": {},
   "outputs": [],
   "source": [
    "\n",
    "np.sort(arr)\n",
    "\n"
   ]
  },
  {
   "cell_type": "code",
   "execution_count": null,
   "metadata": {},
   "outputs": [],
   "source": [
    "\n",
    "arr2 = np.random.random((5,3))\n",
    "arr2\n",
    "\n"
   ]
  },
  {
   "cell_type": "code",
   "execution_count": null,
   "metadata": {},
   "outputs": [],
   "source": [
    "\n",
    "# Column-wise sorting, i.e., across rows\n",
    "np.sort(arr2, axis=0)\n",
    "\n"
   ]
  },
  {
   "cell_type": "code",
   "execution_count": null,
   "metadata": {},
   "outputs": [],
   "source": [
    "np.sort(arr)"
   ]
  },
  {
   "cell_type": "code",
   "execution_count": null,
   "metadata": {},
   "outputs": [],
   "source": [
    "\n",
    "# Indices of the sorted elements\n",
    "np.argsort(arr)\n",
    "\n"
   ]
  },
  {
   "cell_type": "code",
   "execution_count": null,
   "metadata": {},
   "outputs": [],
   "source": [
    "\n",
    "np.argsort(arr2, axis=0)\n",
    "\n"
   ]
  },
  {
   "cell_type": "markdown",
   "metadata": {},
   "source": [
    "\n",
    "<h3 id=\"Array-Concatenation\">Array Concatenation<a class=\"anchor-link\" href=\"#Array-Concatenation\">¶</a></h3><p>We'll now combine multiple arrays into one using array concatenation. Concatenation, or joining of two arrays are done using <code>np.concatenate</code>, <code>np.vstack</code>, and <code>np.hstack</code>.</p>\n"
   ]
  },
  {
   "cell_type": "code",
   "execution_count": null,
   "metadata": {},
   "outputs": [],
   "source": [
    "\n",
    "x = np.array([1, 2, 3])\n",
    "y = np.array([4, 5, 6])\n",
    "np.concatenate([x, y])\n",
    "\n"
   ]
  },
  {
   "cell_type": "code",
   "execution_count": null,
   "metadata": {},
   "outputs": [],
   "source": [
    "\n",
    "# Concatenate more than two arrays at once:\n",
    "z = [10, 100, 1000]\n",
    "print(np.concatenate([x, y, z]))\n",
    "\n"
   ]
  },
  {
   "cell_type": "code",
   "execution_count": null,
   "metadata": {},
   "outputs": [],
   "source": [
    "\n",
    "arr = np.array([[1, 2, 3],\n",
    "                 [4, 5, 6]])\n",
    "\n"
   ]
  },
  {
   "cell_type": "code",
   "execution_count": null,
   "metadata": {},
   "outputs": [],
   "source": [
    "\n",
    "# Concatenate along the first axis\n",
    "np.concatenate([arr, arr])\n",
    "\n"
   ]
  },
  {
   "cell_type": "code",
   "execution_count": null,
   "metadata": {},
   "outputs": [],
   "source": [
    "\n",
    "x = np.array([1, 2, 3])\n",
    "arr = np.array([[9, 8, 7],\n",
    "                 [6, 5, 4]])\n",
    "\n",
    "# Vertically stack the arrays\n",
    "np.vstack([x, arr])\n",
    "\n"
   ]
  },
  {
   "cell_type": "code",
   "execution_count": null,
   "metadata": {},
   "outputs": [],
   "source": [
    "\n",
    "# Horizontally stack the arrays\n",
    "y = np.array([[55],\n",
    "              [55]])\n",
    "np.hstack([arr, y])\n",
    "\n"
   ]
  },
  {
   "cell_type": "markdown",
   "metadata": {},
   "source": [
    "\n",
    "<h3 id=\"Splitting-of-arrays\">Splitting of arrays<a class=\"anchor-link\" href=\"#Splitting-of-arrays\">¶</a></h3><p>The opposite of concatenation is splitting, which is implemented by the functions <code>np.split</code>, <code>np.hsplit</code>, and <code>np.vsplit</code>. We can then pass a list of indices giving the split points.</p>\n"
   ]
  },
  {
   "cell_type": "code",
   "execution_count": null,
   "metadata": {},
   "outputs": [],
   "source": [
    "\n",
    "x = np.arange(9)\n",
    "x1, x2, x3 = np.split(x, 3)\n",
    "print(x1, x2, x3)\n",
    "\n"
   ]
  },
  {
   "cell_type": "code",
   "execution_count": null,
   "metadata": {},
   "outputs": [],
   "source": [
    "\n",
    "x1, x2, x3 = np.split(x, [3,5])\n",
    "print(x1, x2, x3)\n",
    "\n"
   ]
  },
  {
   "cell_type": "code",
   "execution_count": null,
   "metadata": {},
   "outputs": [],
   "source": [
    "\n",
    "# Vertically split the arrays\n",
    "arr = np.arange(16).reshape((4, 4))\n",
    "arr\n",
    "\n"
   ]
  },
  {
   "cell_type": "code",
   "execution_count": null,
   "metadata": {},
   "outputs": [],
   "source": [
    "\n",
    "upper, lower = np.vsplit(arr, [2])\n",
    "print(upper)\n",
    "print(lower)\n",
    "\n"
   ]
  },
  {
   "cell_type": "code",
   "execution_count": null,
   "metadata": {},
   "outputs": [],
   "source": [
    "\n",
    "# Horizontally split the arrays\n",
    "left, right = np.hsplit(arr, [2])\n",
    "print(left)\n",
    "print(right)\n",
    "\n"
   ]
  },
  {
   "cell_type": "markdown",
   "metadata": {},
   "source": [
    "\n",
    "<h2 id=\"UFuncs\">UFuncs<a class=\"anchor-link\" href=\"#UFuncs\">¶</a></h2><p>Universal functions or <code>ufuncs</code> is function that performs element-wise operations in ndarray. It is a fast vectorized wrappers for simple functions. It is categorised into two: <code>unary ufuncs</code> that operator on a single input and <code>binary ufuncs</code> that operate on two inputs.</p>\n",
    "<blockquote><p><code>Unary ufuncs  : abs, sqrt, square, exp, log, sign, ceil, floor, cos, sin, tan</code><br/>\n",
    "<code>Binary ufuncs : add, subtract, multiply, divide, power, maximum, minimum, mod</code></p>\n",
    "</blockquote>\n",
    "<p>There are more than 60 ufuncs defined in NumPy covering a wide variety of operations. <a href=\"https://numpy.org/devdocs/reference/ufuncs.html\">Available ufuncs</a></p>\n"
   ]
  },
  {
   "cell_type": "code",
   "execution_count": null,
   "metadata": {},
   "outputs": [],
   "source": [
    "\n",
    "arr = np.arange(10)\n",
    "arr\n",
    "\n"
   ]
  },
  {
   "cell_type": "code",
   "execution_count": null,
   "metadata": {},
   "outputs": [],
   "source": [
    "\n",
    "np.sqrt(arr)\n",
    "\n"
   ]
  },
  {
   "cell_type": "code",
   "execution_count": null,
   "metadata": {},
   "outputs": [],
   "source": [
    "\n",
    "np.exp(arr)\n",
    "\n"
   ]
  },
  {
   "cell_type": "code",
   "execution_count": null,
   "metadata": {},
   "outputs": [],
   "source": [
    "\n",
    "x = np.random.randn(10)\n",
    "y = np.random.randn(10)\n",
    "\n"
   ]
  },
  {
   "cell_type": "code",
   "execution_count": null,
   "metadata": {},
   "outputs": [],
   "source": [
    "\n",
    "x\n",
    "\n"
   ]
  },
  {
   "cell_type": "code",
   "execution_count": null,
   "metadata": {},
   "outputs": [],
   "source": [
    "\n",
    "y\n",
    "\n"
   ]
  },
  {
   "cell_type": "code",
   "execution_count": null,
   "metadata": {},
   "outputs": [],
   "source": [
    "\n",
    "np.maximum(x,y)\n",
    "\n"
   ]
  },
  {
   "cell_type": "code",
   "execution_count": null,
   "metadata": {},
   "outputs": [],
   "source": [
    "\n",
    "np.minimum(x,y)\n",
    "\n"
   ]
  },
  {
   "cell_type": "markdown",
   "metadata": {},
   "source": [
    "\n",
    "<p>In advanced ufuncs features, we specify the output. This will be helpful for large calculations.</p>\n"
   ]
  },
  {
   "cell_type": "code",
   "execution_count": null,
   "metadata": {},
   "outputs": [],
   "source": [
    "\n",
    "x = np.arange(5)\n",
    "y = np.empty(5)\n",
    "np.multiply(x,10, out=y)\n",
    "print(y)\n",
    "\n"
   ]
  },
  {
   "cell_type": "markdown",
   "metadata": {},
   "source": [
    "\n",
    "<h3 id=\"Aggregates-for-ufuncs\">Aggregates for ufuncs<a class=\"anchor-link\" href=\"#Aggregates-for-ufuncs\">¶</a></h3><p>For binary ufuncs, we can use aggregates that can be computed directly from the object. A <code>reduce</code> method applies a given operation to the elements until a single results remains while the <code>outer</code> method can be used to compute the output of pairs of two different inputs.</p>\n"
   ]
  },
  {
   "cell_type": "code",
   "execution_count": null,
   "metadata": {},
   "outputs": [],
   "source": [
    "\n",
    "x = np.arange(1,6)\n",
    "x\n",
    "\n"
   ]
  },
  {
   "cell_type": "markdown",
   "metadata": {},
   "source": [
    "\n",
    "<h3 id=\"Reduce\">Reduce<a class=\"anchor-link\" href=\"#Reduce\">¶</a></h3>\n"
   ]
  },
  {
   "cell_type": "code",
   "execution_count": null,
   "metadata": {},
   "outputs": [],
   "source": [
    "\n",
    "np.add.reduce(x)\n",
    "\n"
   ]
  },
  {
   "cell_type": "code",
   "execution_count": null,
   "metadata": {},
   "outputs": [],
   "source": [
    "\n",
    "np.multiply.reduce(x)\n",
    "\n"
   ]
  },
  {
   "cell_type": "markdown",
   "metadata": {},
   "source": [
    "\n",
    "<h3 id=\"Accumulate\">Accumulate<a class=\"anchor-link\" href=\"#Accumulate\">¶</a></h3>\n"
   ]
  },
  {
   "cell_type": "code",
   "execution_count": null,
   "metadata": {},
   "outputs": [],
   "source": [
    "\n",
    "# Store intermediate results\n",
    "np.add.accumulate(x)\n",
    "\n"
   ]
  },
  {
   "cell_type": "code",
   "execution_count": null,
   "metadata": {},
   "outputs": [],
   "source": [
    "\n",
    "np.multiply.accumulate(x)\n",
    "\n"
   ]
  },
  {
   "cell_type": "markdown",
   "metadata": {},
   "source": [
    "\n",
    "<h3 id=\"Outer\">Outer<a class=\"anchor-link\" href=\"#Outer\">¶</a></h3>\n"
   ]
  },
  {
   "cell_type": "code",
   "execution_count": null,
   "metadata": {},
   "outputs": [],
   "source": [
    "\n",
    "# Outer products\n",
    "np.multiply.outer(x, x)\n",
    "\n"
   ]
  },
  {
   "cell_type": "markdown",
   "metadata": {},
   "source": [
    "\n",
    "<h2 id=\"Array-Aggregation\">Array Aggregation<a class=\"anchor-link\" href=\"#Array-Aggregation\">¶</a></h2><p>NumPy makes it easier to compute summary statistics for the data. It has built-in aggregation functions for working on arrays.</p>\n"
   ]
  },
  {
   "cell_type": "code",
   "execution_count": null,
   "metadata": {},
   "outputs": [],
   "source": [
    "\n",
    "# Arithmetic operations\n",
    "x = np.arange(5)\n",
    "\n",
    "print(\"x      =\", x)\n",
    "print(\"x + 5  =\", x + 5)\n",
    "print(\"x - 5  =\", x - 5)\n",
    "print(\"x * 2  =\", x * 2)\n",
    "print(\"x / 2  =\", x / 2)\n",
    "print(\"x // 2 =\", x // 2)  # floor division\n",
    "\n"
   ]
  },
  {
   "cell_type": "code",
   "execution_count": null,
   "metadata": {},
   "outputs": [],
   "source": [
    "\n",
    "numbers = np.random.rand(100000)\n",
    "numbers\n"
   ]
  },
  {
   "cell_type": "code",
   "execution_count": null,
   "metadata": {},
   "outputs": [],
   "source": [
    "\n",
    "print(f'Mininum{np.min(numbers): .4f}, Maximim{np.max(numbers): .4f}')\n",
    "\n"
   ]
  },
  {
   "cell_type": "code",
   "execution_count": null,
   "metadata": {},
   "outputs": [],
   "source": [
    "\n",
    "# Shorter syntax to use\n",
    "numbers.min(), numbers.max(), numbers.sum()\n",
    "\n"
   ]
  },
  {
   "cell_type": "code",
   "execution_count": null,
   "metadata": {},
   "outputs": [],
   "source": [
    "\n",
    "%timeit min(numbers)\n",
    "%timeit np.min(numbers)\n",
    "%timeit numbers.min()\n",
    "\n"
   ]
  },
  {
   "cell_type": "markdown",
   "metadata": {},
   "source": [
    "\n",
    "<pre><code>                           List of key aggregation functions available in NumPy\n",
    "\n",
    "\n",
    "</code></pre>\n",
    "<table>\n",
    "<thead><tr>\n",
    "<th>Function Name</th>\n",
    "<th>Description</th>\n",
    "</tr>\n",
    "</thead>\n",
    "<tbody>\n",
    "<tr>\n",
    "<td><code>np.sum</code></td>\n",
    "<td>Compute sum of elements</td>\n",
    "</tr>\n",
    "<tr>\n",
    "<td><code>np.prod</code></td>\n",
    "<td>Compute product of elements</td>\n",
    "</tr>\n",
    "<tr>\n",
    "<td><code>np.mean</code></td>\n",
    "<td>Compute mean of elements</td>\n",
    "</tr>\n",
    "<tr>\n",
    "<td><code>np.std</code></td>\n",
    "<td>Compute standard deviation</td>\n",
    "</tr>\n",
    "<tr>\n",
    "<td><code>np.var</code></td>\n",
    "<td>Compute variance</td>\n",
    "</tr>\n",
    "<tr>\n",
    "<td><code>np.min</code></td>\n",
    "<td>Find minimum value</td>\n",
    "</tr>\n",
    "<tr>\n",
    "<td><code>np.max</code></td>\n",
    "<td>Find maximum value</td>\n",
    "</tr>\n",
    "<tr>\n",
    "<td><code>np.argmin</code></td>\n",
    "<td>Find index of minimum value</td>\n",
    "</tr>\n",
    "<tr>\n",
    "<td><code>np.argmax</code></td>\n",
    "<td>Find index of maximum value</td>\n",
    "</tr>\n",
    "<tr>\n",
    "<td><code>np.median</code></td>\n",
    "<td>Compute median of elements</td>\n",
    "</tr>\n",
    "<tr>\n",
    "<td><code>np.percentile</code></td>\n",
    "<td>Compute rank-based statistics of elements</td>\n",
    "</tr>\n",
    "</tbody>\n",
    "</table>\n"
   ]
  },
  {
   "cell_type": "markdown",
   "metadata": {},
   "source": [
    "\n",
    "<h3 id=\"Multidimensional-Aggregation\">Multidimensional Aggregation<a class=\"anchor-link\" href=\"#Multidimensional-Aggregation\">¶</a></h3><p>In a multidimesional array, we aggregate along a row and column.</p>\n"
   ]
  },
  {
   "cell_type": "code",
   "execution_count": null,
   "metadata": {},
   "outputs": [],
   "source": [
    "\n",
    "arr = np.random.random((3,4))\n",
    "arr\n",
    "\n"
   ]
  },
  {
   "cell_type": "code",
   "execution_count": null,
   "metadata": {},
   "outputs": [],
   "source": [
    "\n",
    "arr.sum()\n",
    "\n"
   ]
  },
  {
   "cell_type": "code",
   "execution_count": null,
   "metadata": {},
   "outputs": [],
   "source": [
    "\n",
    "# Aggregation across column\n",
    "arr.sum(axis=0)\n",
    "\n"
   ]
  },
  {
   "cell_type": "code",
   "execution_count": null,
   "metadata": {},
   "outputs": [],
   "source": [
    "\n",
    "# Aggregation across rows\n",
    "arr.sum(axis=1)\n",
    "\n"
   ]
  },
  {
   "cell_type": "markdown",
   "metadata": {},
   "source": [
    "\n",
    "<h2 id=\"Boolean\">Boolean<a class=\"anchor-link\" href=\"#Boolean\">¶</a></h2><p>We'll now use the Boolean masks to manipulate array values. List of operators and their equivalent ufunc are listed below:</p>\n",
    "<table>\n",
    "<thead><tr>\n",
    "<th>Operator</th>\n",
    "<th>Equivalent ufunc</th>\n",
    "</tr>\n",
    "</thead>\n",
    "<tbody>\n",
    "<tr>\n",
    "<td><code>&amp;</code></td>\n",
    "<td>np.bitwise_and</td>\n",
    "</tr>\n",
    "<tr>\n",
    "<td><code>|</code></td>\n",
    "<td>np.bitwise_or</td>\n",
    "</tr>\n",
    "<tr>\n",
    "<td><code>^</code></td>\n",
    "<td>np.bitwise_xor</td>\n",
    "</tr>\n",
    "<tr>\n",
    "<td><code>~</code></td>\n",
    "<td>np.bitwise_not</td>\n",
    "</tr>\n",
    "</tbody>\n",
    "</table>\n"
   ]
  },
  {
   "cell_type": "code",
   "execution_count": null,
   "metadata": {},
   "outputs": [],
   "source": [
    "\n",
    "x = np.arange(1,6)\n",
    "x\n",
    "\n"
   ]
  },
  {
   "cell_type": "code",
   "execution_count": null,
   "metadata": {},
   "outputs": [],
   "source": [
    "\n",
    "# Less than\n",
    "x < 3\n",
    "\n"
   ]
  },
  {
   "cell_type": "code",
   "execution_count": null,
   "metadata": {},
   "outputs": [],
   "source": [
    "\n",
    "# Greater than\n",
    "x > 3\n",
    "\n"
   ]
  },
  {
   "cell_type": "code",
   "execution_count": null,
   "metadata": {},
   "outputs": [],
   "source": [
    "\n",
    "# Equal \n",
    "x == 3\n",
    "\n"
   ]
  },
  {
   "cell_type": "code",
   "execution_count": null,
   "metadata": {},
   "outputs": [],
   "source": [
    "\n",
    "# Not equal \n",
    "x != 3\n",
    "\n"
   ]
  },
  {
   "cell_type": "code",
   "execution_count": null,
   "metadata": {},
   "outputs": [],
   "source": [
    "\n",
    "# Count values less than 4\n",
    "np.count_nonzero(x<4)\n",
    "\n"
   ]
  },
  {
   "cell_type": "code",
   "execution_count": null,
   "metadata": {},
   "outputs": [],
   "source": [
    "\n",
    "# Count values less than 4\n",
    "np.sum(x<4)\n",
    "\n"
   ]
  },
  {
   "cell_type": "code",
   "execution_count": null,
   "metadata": {},
   "outputs": [],
   "source": [
    "\n",
    "# Are they any values > 8?\n",
    "np.any(x>8)\n",
    "\n"
   ]
  },
  {
   "cell_type": "code",
   "execution_count": null,
   "metadata": {},
   "outputs": [],
   "source": [
    "\n",
    "# Are all values < 8?\n",
    "np.all(x<8)\n",
    "\n"
   ]
  },
  {
   "cell_type": "code",
   "execution_count": null,
   "metadata": {},
   "outputs": [],
   "source": [
    "\n",
    "np.sum((x>2) & (x<5))\n",
    "\n"
   ]
  },
  {
   "cell_type": "markdown",
   "metadata": {},
   "source": [
    "\n",
    "<h2 id=\"File-Input-&amp;-Output-with-Arrays\">File Input &amp; Output with Arrays<a class=\"anchor-link\" href=\"#File-Input-&amp;-Output-with-Arrays\">¶</a></h2><p>The <code>ndarray</code> objects can save and load data from disk files. The IO functions <code>load</code> abd <code>save</code> handle binary files with <code>.npy</code> extension while <code>loadtxt</code> and <code>savetxt</code> functions handle normal text files.</p>\n"
   ]
  },
  {
   "cell_type": "code",
   "execution_count": null,
   "metadata": {},
   "outputs": [],
   "source": [
    "\n",
    "# Save input array with .npy extension\n",
    "np.save('outfile', x)\n",
    "\n"
   ]
  },
  {
   "cell_type": "code",
   "execution_count": null,
   "metadata": {},
   "outputs": [],
   "source": [
    "\n",
    "# Save input array as a text file\n",
    "np.savetxt('outfile.txt', x)\n",
    "\n"
   ]
  },
  {
   "cell_type": "code",
   "execution_count": null,
   "metadata": {},
   "outputs": [],
   "source": [
    "\n",
    "# Load and reconstruct array from outflie.npy\n",
    "print(np.load('outfile.npy'))\n",
    "\n"
   ]
  },
  {
   "cell_type": "code",
   "execution_count": null,
   "metadata": {},
   "outputs": [],
   "source": [
    "\n",
    "# Load and reconstruct array from outflie.txt\n",
    "print(np.loadtxt('outfile.txt'))\n",
    "\n"
   ]
  },
  {
   "cell_type": "markdown",
   "metadata": {},
   "source": [
    "\n",
    "<h1 id=\"References\">References<a class=\"anchor-link\" href=\"#References\">¶</a></h1><ul>\n",
    "<li><p>Numpy documentation <a href=\"https://docs.scipy.org/doc/numpy/\">https://docs.scipy.org/doc/numpy/</a></p>\n",
    "</li>\n",
    "<li><p>Jake VanderPlas (2016), Python Data Science Handbook: Essential tools for working with data</p>\n",
    "</li>\n",
    "<li><p>McKinney (2018), Python for Data Analysis: Data Wrangling with Pandas, NumPy, and IPython</p>\n",
    "</li>\n",
    "<li><p>Python Resources <a href=\"https://github.com/kannansingaravelu/PythonResources\">https://github.com/kannansingaravelu/PythonResources</a></p>\n",
    "</li>\n",
    "</ul>\n"
   ]
  }
 ],
 "metadata": {
  "kernelspec": {
   "display_name": "Python 3 (ipykernel)",
   "language": "python",
   "name": "python3"
  },
  "language_info": {
   "codemirror_mode": {
    "name": "ipython",
    "version": 3
   },
   "file_extension": ".py",
   "mimetype": "text/x-python",
   "name": "python",
   "nbconvert_exporter": "python",
   "pygments_lexer": "ipython3",
   "version": "3.9.7"
  },
  "toc": {
   "base_numbering": 1,
   "nav_menu": {},
   "number_sections": true,
   "sideBar": true,
   "skip_h1_title": false,
   "title_cell": "Table of Contents",
   "title_sidebar": "Contents",
   "toc_cell": false,
   "toc_position": {
    "height": "calc(100% - 180px)",
    "left": "10px",
    "top": "150px",
    "width": "165px"
   },
   "toc_section_display": true,
   "toc_window_display": false
  }
 },
 "nbformat": 4,
 "nbformat_minor": 1
}
