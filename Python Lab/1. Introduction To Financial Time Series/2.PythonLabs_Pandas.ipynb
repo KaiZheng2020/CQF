{
 "cells": [
  {
   "cell_type": "markdown",
   "metadata": {},
   "source": [
    "\n",
    "<p><img align=\"left\" src=\"https://www.cqf.com/themes/custom/creode/logo.svg\" style=\"vertical-align: top; padding-top: 23px;\" width=\"10%\"/>\n",
    "<img align=\"right\" src=\"https://upload.wikimedia.org/wikipedia/commons/c/c3/Python-logo-notext.svg\" style=\"vertical-align: middle;\" width=\"12%\"/>\n",
    "<font color=\"#306998\"><h1><center>Python Labs</center></h1></font><br/></p>\n",
    "<p></p><h1><center>Introduction to Pandas</center></h1>\n",
    "<center><h3>Kannan Singaravelu</h3></center>\n",
    "<center>kannan.singaravelu@fitchlearning.com</center>\n"
   ]
  },
  {
   "cell_type": "markdown",
   "metadata": {},
   "source": [
    "\n",
    "<h2 id=\"Pandas\">Pandas<a class=\"anchor-link\" href=\"#Pandas\">¶</a></h2><p>Pandas is one of the most important Python library built on top of NumPy used for data manipulation. Unlike, NumPy, Pandas is designed for working with tabular or heterogenous data. The two main data structures of Pandas is</p>\n",
    "<ul>\n",
    "<li><strong>Series</strong> - 1D labeled homogeneous array, size immutable.</li>\n",
    "<li><strong>DataFrame</strong> - 2D labeled, size-mutable tabular structure with potentially heterogeneously typed columns.</li>\n",
    "</ul>\n"
   ]
  },
  {
   "cell_type": "markdown",
   "metadata": {},
   "source": [
    "\n",
    "<p><em>Note: To run all of the code cells in this example, select <strong>Run All</strong> from the <strong>Cell</strong> menu.</em></p>\n"
   ]
  },
  {
   "cell_type": "markdown",
   "metadata": {},
   "source": [
    "\n",
    "<h3 id=\"Installation\">Installation<a class=\"anchor-link\" href=\"#Installation\">¶</a></h3>\n"
   ]
  },
  {
   "cell_type": "markdown",
   "metadata": {},
   "source": [
    "\n",
    "<p>We'll install the required libraries that we'll use in this example.</p>\n"
   ]
  },
  {
   "cell_type": "code",
   "execution_count": null,
   "metadata": {},
   "outputs": [],
   "source": [
    "\n",
    "# Instal Pandas library\n",
    "# ! pip install pandas\n",
    "\n"
   ]
  },
  {
   "cell_type": "markdown",
   "metadata": {},
   "source": [
    "\n",
    "<h3 id=\"Importing\">Importing<a class=\"anchor-link\" href=\"#Importing\">¶</a></h3><p>We'll import the required libraries that we'll use in this example.</p>\n"
   ]
  },
  {
   "cell_type": "code",
   "execution_count": null,
   "metadata": {},
   "outputs": [],
   "source": [
    "\n",
    "# Import required libraries\n",
    "import pandas as pd\n",
    "import numpy as np\n",
    "\n"
   ]
  },
  {
   "cell_type": "code",
   "execution_count": null,
   "metadata": {},
   "outputs": [],
   "source": [
    "\n",
    "# Check the version\n",
    "pd.__version__\n",
    "\n"
   ]
  },
  {
   "cell_type": "markdown",
   "metadata": {},
   "source": [
    "\n",
    "<h2 id=\"Data-Structure\">Data Structure<a class=\"anchor-link\" href=\"#Data-Structure\">¶</a></h2>\n"
   ]
  },
  {
   "cell_type": "markdown",
   "metadata": {},
   "source": [
    "\n",
    "<h3 id=\"Series\">Series<a class=\"anchor-link\" href=\"#Series\">¶</a></h3><p>Pandas Series is a one-dimensional labeled array capable of holding data on any type such as integer, string, float, python objects, etc., The axis labels are collectively called index.</p>\n",
    "<p>A series can be created using <code>array</code>, <code>dict</code> and <code>scalar value</code>.</p>\n"
   ]
  },
  {
   "cell_type": "code",
   "execution_count": null,
   "metadata": {},
   "outputs": [],
   "source": [
    "\n",
    "# Create an Empty Series\n",
    "s = pd.Series(dtype = float)\n",
    "print(s)\n",
    "\n"
   ]
  },
  {
   "cell_type": "code",
   "execution_count": null,
   "metadata": {},
   "outputs": [],
   "source": [
    "\n",
    "# Create a Series from ndarray\n",
    "s = np.arange(10,20)\n",
    "pd.Series(s)\n",
    "\n"
   ]
  },
  {
   "cell_type": "code",
   "execution_count": null,
   "metadata": {},
   "outputs": [],
   "source": [
    "\n",
    "# Create a Series from dict\n",
    "s = {'a' : 0., 'b' : 1., 'c' : 2.}\n",
    "pd.Series(s)\n",
    "\n"
   ]
  },
  {
   "cell_type": "code",
   "execution_count": null,
   "metadata": {},
   "outputs": [],
   "source": [
    "\n",
    "# Create a Series from Scalar\n",
    "pd.Series(123, index=[0, 1, 2, 3])\n",
    "\n"
   ]
  },
  {
   "cell_type": "markdown",
   "metadata": {},
   "source": [
    "\n",
    "<h3 id=\"DataFrame\">DataFrame<a class=\"anchor-link\" href=\"#DataFrame\">¶</a></h3><p>A DataFrame is a two-dimensional, size-mutuable, heterogenous tabular data with labeled axes where arithmetic operations align on both row and column labels.</p>\n",
    "<p>A pandas DataFrame can be created using <code>lists</code>, <code>dict</code>, <code>Series</code>, <code>ndarrays</code> and <code>Another DataFrame</code>.</p>\n"
   ]
  },
  {
   "cell_type": "code",
   "execution_count": null,
   "metadata": {},
   "outputs": [],
   "source": [
    "\n",
    "# Create an Empty DataFrame\n",
    "df = pd.DataFrame()\n",
    "print (df)\n",
    "\n"
   ]
  },
  {
   "cell_type": "code",
   "execution_count": null,
   "metadata": {},
   "outputs": [],
   "source": [
    "\n",
    "# Create a DataFrame from Lists\n",
    "data = [['Program','CQF'],['Module', 1],['School', 'Fitch'], ['City', 'London'], ['Country', 'UK']]\n",
    "df = pd.DataFrame(data, columns=['Name', 'Details'])\n",
    "df\n",
    "\n"
   ]
  },
  {
   "cell_type": "code",
   "execution_count": null,
   "metadata": {},
   "outputs": [],
   "source": [
    "\n",
    "# Create a DataFrame from Dictionary\n",
    "data = {'Name': ['Program', 'Module', 'School', 'City', 'Country'],\n",
    "           'Details': ['CQF', 1, 'Fitch', 'London', 'UK']}\n",
    "df = pd.DataFrame(data)\n",
    "df\n",
    "\n"
   ]
  },
  {
   "cell_type": "code",
   "execution_count": null,
   "metadata": {},
   "outputs": [],
   "source": [
    "\n",
    "# Create a DataFrame from Series\n",
    "data = {'one' : pd.Series([1, 2, 3, 'e'], index=['a', 'b', 'c','d']),\n",
    "        'two' : pd.Series([1, 2, 3, 4], index=['a', 'b', 'c', 'd'])}\n",
    "df = pd.DataFrame(data)\n",
    "df\n",
    "\n"
   ]
  },
  {
   "cell_type": "code",
   "execution_count": null,
   "metadata": {},
   "outputs": [],
   "source": [
    "\n",
    "# Create a DataFrame from NumPy arrays\n",
    "data = np.ones((3,4))\n",
    "df = pd.DataFrame(data)\n",
    "df\n",
    "\n"
   ]
  },
  {
   "cell_type": "code",
   "execution_count": null,
   "metadata": {},
   "outputs": [],
   "source": [
    "\n",
    "# Create a DataFrame from another DataFrame\n",
    "df = pd.DataFrame(df.iloc[:,0])\n",
    "df\n",
    "\n"
   ]
  },
  {
   "cell_type": "markdown",
   "metadata": {},
   "source": [
    "\n",
    "<h2 id=\"Indexing-&amp;-Selection\">Indexing &amp; Selection<a class=\"anchor-link\" href=\"#Indexing-&amp;-Selection\">¶</a></h2>\n"
   ]
  },
  {
   "cell_type": "markdown",
   "metadata": {},
   "source": [
    "\n",
    "<h3 id=\"Indexers:-loc,-iloc\">Indexers: loc, iloc<a class=\"anchor-link\" href=\"#Indexers:-loc,-iloc\">¶</a></h3><p>Pandas has special indexing operators <code>loc</code> and <code>iloc</code> that enables us to selection a subset of rows and columns. The basics of indexing are as follows:</p>\n",
    "<table>\n",
    "<thead><tr>\n",
    "<th>Operation</th>\n",
    "<th>Syntax</th>\n",
    "<th>Result</th>\n",
    "</tr>\n",
    "</thead>\n",
    "<tbody>\n",
    "<tr>\n",
    "<td>Select column</td>\n",
    "<td>df[col]</td>\n",
    "<td>Series</td>\n",
    "</tr>\n",
    "<tr>\n",
    "<td>Select row by label</td>\n",
    "<td>df.loc[label]</td>\n",
    "<td>Series</td>\n",
    "</tr>\n",
    "<tr>\n",
    "<td>Select row by integer location</td>\n",
    "<td>df.iloc[loc]</td>\n",
    "<td>Series</td>\n",
    "</tr>\n",
    "<tr>\n",
    "<td>Slice rows</td>\n",
    "<td>df[2:5]</td>\n",
    "<td>DataFrame</td>\n",
    "</tr>\n",
    "</tbody>\n",
    "</table>\n"
   ]
  },
  {
   "cell_type": "markdown",
   "metadata": {},
   "source": [
    "\n",
    "<h3 id=\"Data-Selection-in-Series\">Data Selection in Series<a class=\"anchor-link\" href=\"#Data-Selection-in-Series\">¶</a></h3><p>Data in Series can be accessed similar to that in an ndarray, and in many ways like a standard Python dictionary.</p>\n"
   ]
  },
  {
   "cell_type": "code",
   "execution_count": null,
   "metadata": {},
   "outputs": [],
   "source": [
    "\n",
    "# Selection from Series\n",
    "s = pd.Series(np.arange(10,20))\n",
    "\n",
    "print(f'First Element in a Series: {s[0]}')  # first element\n",
    "print(f'First Three Element in a Series: {s[:3]}')  # first three elements\n",
    "\n"
   ]
  },
  {
   "cell_type": "code",
   "execution_count": null,
   "metadata": {},
   "outputs": [],
   "source": [
    "\n",
    "s.loc[1]\n",
    "\n"
   ]
  },
  {
   "cell_type": "code",
   "execution_count": null,
   "metadata": {},
   "outputs": [],
   "source": [
    "\n",
    "# Selection from Series as dictionary\n",
    "s = pd.Series({'a' : 0., 'b' : 1., 'c' : 2.})\n",
    "s['a'], s['c']\n",
    "\n"
   ]
  },
  {
   "cell_type": "markdown",
   "metadata": {},
   "source": [
    "\n",
    "<h3 id=\"DataFrame-Column-Selection\">DataFrame Column Selection<a class=\"anchor-link\" href=\"#DataFrame-Column-Selection\">¶</a></h3>\n"
   ]
  },
  {
   "cell_type": "code",
   "execution_count": null,
   "metadata": {},
   "outputs": [],
   "source": [
    "\n",
    "# Column selection from DataFrame o\n",
    "data = {'Name': ['Program', 'Module', 'School', 'City', 'Country'],\n",
    "           'Details': ['CQF', 1, 'Fitch', 'London', 'UK']}\n",
    "\n",
    "df = pd.DataFrame(data,  index = ['a','b','c','d','e'])\n",
    "df['Name']\n",
    "\n"
   ]
  },
  {
   "cell_type": "code",
   "execution_count": null,
   "metadata": {},
   "outputs": [],
   "source": [
    "\n",
    "df.loc['d']\n",
    "\n"
   ]
  },
  {
   "cell_type": "code",
   "execution_count": null,
   "metadata": {},
   "outputs": [],
   "source": [
    "\n",
    "df.iloc[2]\n",
    "\n"
   ]
  },
  {
   "cell_type": "code",
   "execution_count": null,
   "metadata": {},
   "outputs": [],
   "source": [
    "\n",
    "df.iloc[4]\n",
    "\n"
   ]
  },
  {
   "cell_type": "code",
   "execution_count": null,
   "metadata": {},
   "outputs": [],
   "source": [
    "\n",
    "df[2:4]\n",
    "\n"
   ]
  },
  {
   "cell_type": "markdown",
   "metadata": {},
   "source": [
    "\n",
    "<h2 id=\"Essential-Functionality\">Essential Functionality<a class=\"anchor-link\" href=\"#Essential-Functionality\">¶</a></h2><p>We'll now see some of the essential functionality common to the Pandas data structures.</p>\n"
   ]
  },
  {
   "cell_type": "code",
   "execution_count": null,
   "metadata": {},
   "outputs": [],
   "source": [
    "\n",
    "df = pd.DataFrame(np.arange(1,21), columns=['Numeric'])\n",
    "df\n"
   ]
  },
  {
   "cell_type": "markdown",
   "metadata": {},
   "source": [
    "\n",
    "<p>To view a small sample of a Series or DataFrame object, use the head() and tail() methods. The default number of elements to display is five, but you may pass a custom number.</p>\n"
   ]
  },
  {
   "cell_type": "code",
   "execution_count": null,
   "metadata": {},
   "outputs": [],
   "source": [
    "\n",
    "# First five values\n",
    "df.head(6)\n",
    "\n"
   ]
  },
  {
   "cell_type": "code",
   "execution_count": null,
   "metadata": {},
   "outputs": [],
   "source": [
    "\n",
    "# Last five values\n",
    "df.tail()\n",
    "\n"
   ]
  },
  {
   "cell_type": "code",
   "execution_count": null,
   "metadata": {},
   "outputs": [],
   "source": [
    "\n",
    "# DataFrame index object\n",
    "df.index\n",
    "\n"
   ]
  },
  {
   "cell_type": "code",
   "execution_count": null,
   "metadata": {},
   "outputs": [],
   "source": [
    "\n",
    "# Metadata\n",
    "df.info()\n",
    "\n"
   ]
  },
  {
   "cell_type": "code",
   "execution_count": null,
   "metadata": {},
   "outputs": [],
   "source": [
    "\n",
    "# Tuple representing the dimension of the DataFrame\n",
    "df.shape\n",
    "\n"
   ]
  },
  {
   "cell_type": "code",
   "execution_count": null,
   "metadata": {},
   "outputs": [],
   "source": [
    "\n",
    "# NumPy representation of NDFrame\n",
    "df.values\n",
    "\n"
   ]
  },
  {
   "cell_type": "markdown",
   "metadata": {},
   "source": [
    "\n",
    "<h2 id=\"Descriptive-Statistics\">Descriptive Statistics<a class=\"anchor-link\" href=\"#Descriptive-Statistics\">¶</a></h2><p>Pandas objects are equipped with common mathematical and statistical methods. A large number of methods collectively compute descriptive statistics and other related operations on DataFrame. Unlike NumPy, Pandas methods can handle missing data.</p>\n"
   ]
  },
  {
   "cell_type": "code",
   "execution_count": null,
   "metadata": {},
   "outputs": [],
   "source": [
    "df.sum()"
   ]
  },
  {
   "cell_type": "code",
   "execution_count": null,
   "metadata": {},
   "outputs": [],
   "source": [
    "\n",
    "# Sum\n",
    "print(f'Sum                : {df.sum()[0]}')\n",
    "print(f'Mean               : {df.mean()[0]}')\n",
    "print(f'Median             : {df.median()[0]}')\n",
    "print(f'Standard deviation : {df.std()[0]:.2f}')\n",
    "print(f'Minimum            : {df.min()[0]}')\n",
    "print(f'Maximum            : {df.max()[0]}')\n",
    "print(f'Index of Minimum   : {df.idxmin()[0]}')\n",
    "print(f'Index of Maximum   : {df.idxmax()[0]}')\n",
    "\n"
   ]
  },
  {
   "cell_type": "code",
   "execution_count": null,
   "metadata": {},
   "outputs": [],
   "source": [
    "df.cumsum()"
   ]
  },
  {
   "cell_type": "code",
   "execution_count": null,
   "metadata": {},
   "outputs": [],
   "source": [
    "\n",
    "# Cumulative Sum\n",
    "df.cumsum().iloc[-1]\n",
    "\n"
   ]
  },
  {
   "cell_type": "code",
   "execution_count": null,
   "metadata": {},
   "outputs": [],
   "source": [
    "df.cumprod()"
   ]
  },
  {
   "cell_type": "code",
   "execution_count": null,
   "metadata": {},
   "outputs": [],
   "source": [
    "a = np.arange(1,21)\n",
    "b = np.int64(a)\n",
    "dfb = pd.DataFrame(b, columns = ['Numeric'])\n",
    "print(dfb.cumprod())"
   ]
  },
  {
   "cell_type": "code",
   "execution_count": null,
   "metadata": {},
   "outputs": [],
   "source": [
    "\n",
    "# Cumulative Product\n",
    "df.cumprod().iloc[-1]\n",
    "\n"
   ]
  },
  {
   "cell_type": "code",
   "execution_count": null,
   "metadata": {},
   "outputs": [],
   "source": [
    "\n",
    "# Summary Statistics \n",
    "df.describe().T\n",
    "\n"
   ]
  },
  {
   "cell_type": "markdown",
   "metadata": {},
   "source": [
    "\n",
    "<pre><code>                           List of key aggregation functions available in Pandas\n",
    "\n",
    "</code></pre>\n",
    "<table>\n",
    "<thead><tr>\n",
    "<th>Aggregation</th>\n",
    "<th>Description</th>\n",
    "</tr>\n",
    "</thead>\n",
    "<tbody>\n",
    "<tr>\n",
    "<td><code>count()</code></td>\n",
    "<td>Total number of items</td>\n",
    "</tr>\n",
    "<tr>\n",
    "<td><code>first()</code>, <code>last()</code></td>\n",
    "<td>First and last item</td>\n",
    "</tr>\n",
    "<tr>\n",
    "<td><code>mean()</code>, <code>median()</code></td>\n",
    "<td>Mean and median</td>\n",
    "</tr>\n",
    "<tr>\n",
    "<td><code>min()</code>, <code>max()</code></td>\n",
    "<td>Minimum and maximum</td>\n",
    "</tr>\n",
    "<tr>\n",
    "<td><code>std()</code>, <code>var()</code></td>\n",
    "<td>Standard deviation and variance</td>\n",
    "</tr>\n",
    "<tr>\n",
    "<td><code>mad()</code></td>\n",
    "<td>Mean absolute deviation</td>\n",
    "</tr>\n",
    "<tr>\n",
    "<td><code>prod</code></td>\n",
    "<td>Product of all items</td>\n",
    "</tr>\n",
    "<tr>\n",
    "<td><code>sum</code></td>\n",
    "<td>Sum of all items</td>\n",
    "</tr>\n",
    "</tbody>\n",
    "</table>\n"
   ]
  },
  {
   "cell_type": "code",
   "execution_count": null,
   "metadata": {},
   "outputs": [],
   "source": [
    "\n",
    "# Sort by Index\n",
    "s = pd.Series(np.arange(1,6), index=['e', 'a', 'c', 'b', 'd'])\n",
    "s.sort_index()\n",
    "\n",
    "\n"
   ]
  },
  {
   "cell_type": "code",
   "execution_count": null,
   "metadata": {},
   "outputs": [],
   "source": [
    "\n",
    "# Sort by values\n",
    "s.sort_values()\n",
    "\n"
   ]
  },
  {
   "cell_type": "code",
   "execution_count": null,
   "metadata": {},
   "outputs": [],
   "source": [
    "\n",
    "np.random.seed(0)\n",
    "df = pd.DataFrame(np.arange(10).reshape(2,5), index=['two', 'one'], columns=['d', 'e', 'a', 'c', 'b'])\n",
    "df\n",
    "\n"
   ]
  },
  {
   "cell_type": "code",
   "execution_count": null,
   "metadata": {},
   "outputs": [],
   "source": [
    "\n",
    "# Sort DataFrame by index column\n",
    "df.sort_index(axis=1)\n",
    "\n"
   ]
  },
  {
   "cell_type": "code",
   "execution_count": null,
   "metadata": {},
   "outputs": [],
   "source": [
    "\n",
    "# Sort DataFrame by index\n",
    "df.sort_index(axis=1, ascending=False)\n",
    "\n"
   ]
  },
  {
   "cell_type": "code",
   "execution_count": null,
   "metadata": {},
   "outputs": [],
   "source": [
    "\n",
    "dd = pd.DataFrame({'col1':[2,1,1,1],'col2':[1,3,2,4]})\n",
    "dd\n",
    "\n"
   ]
  },
  {
   "cell_type": "code",
   "execution_count": null,
   "metadata": {},
   "outputs": [],
   "source": [
    "\n",
    "# Sort DataFrame by values\n",
    "dd.sort_values( by=['col1', 'col2'])\n",
    "\n"
   ]
  },
  {
   "cell_type": "markdown",
   "metadata": {},
   "source": [
    "\n",
    "<h2 id=\"Aggregation\">Aggregation<a class=\"anchor-link\" href=\"#Aggregation\">¶</a></h2><h3 id=\"GroupBy\">GroupBy<a class=\"anchor-link\" href=\"#GroupBy\">¶</a></h3><p>Groupby object is a flexbible abstraction and is very useful in data manipulation</p>\n"
   ]
  },
  {
   "cell_type": "code",
   "execution_count": null,
   "metadata": {},
   "outputs": [],
   "source": [
    "import os\n",
    "os.chdir('C:\\\\Users\\\\Administrator')"
   ]
  },
  {
   "cell_type": "code",
   "execution_count": null,
   "metadata": {},
   "outputs": [],
   "source": [
    "\n",
    "data = pd.read_csv('data/spy.csv', index_col=0, parse_dates=True)\n",
    "data.head()\n",
    "\n"
   ]
  },
  {
   "cell_type": "code",
   "execution_count": null,
   "metadata": {},
   "outputs": [],
   "source": [
    "\n",
    "data[['Volume']].groupby(data.index.year).sum().head()\n",
    "\n"
   ]
  },
  {
   "cell_type": "code",
   "execution_count": null,
   "metadata": {},
   "outputs": [],
   "source": [
    "\n",
    "data.groupby(data.index.year).sum().head()\n",
    "\n"
   ]
  },
  {
   "cell_type": "markdown",
   "metadata": {},
   "source": [
    "\n",
    "<h3 id=\"Pivot-Tables\">Pivot Tables<a class=\"anchor-link\" href=\"#Pivot-Tables\">¶</a></h3><p>Pivot table is a similar operation seen in spreadsheets that operate on tabular data and can be performed on multidimension.</p>\n"
   ]
  },
  {
   "cell_type": "code",
   "execution_count": null,
   "metadata": {},
   "outputs": [],
   "source": [
    "\n",
    "pd.pivot_table(data=data, index = data.index.year, values='Volume', aggfunc=sum).head()\n",
    "\n"
   ]
  },
  {
   "cell_type": "code",
   "execution_count": null,
   "metadata": {},
   "outputs": [],
   "source": [
    "\n",
    "pd.pivot_table(data=data, index = [data.index.year, data.index.month], values='Volume', aggfunc=sum).head(13)\n",
    "\n"
   ]
  },
  {
   "cell_type": "markdown",
   "metadata": {},
   "source": [
    "\n",
    "<h2 id=\"Filtering\">Filtering<a class=\"anchor-link\" href=\"#Filtering\">¶</a></h2><p>Let's now slice and filter close prices above/below certain values.</p>\n"
   ]
  },
  {
   "cell_type": "code",
   "execution_count": null,
   "metadata": {},
   "outputs": [],
   "source": [
    "\n",
    "# Filter dates on which close price above 300\n",
    "data[data['Close']>300]['Close']\n",
    "\n"
   ]
  },
  {
   "cell_type": "code",
   "execution_count": null,
   "metadata": {},
   "outputs": [],
   "source": [
    "\n",
    "# Filter Open = High\n",
    "data[data['Open']== data['High']].count()\n",
    "\n"
   ]
  },
  {
   "cell_type": "code",
   "execution_count": null,
   "metadata": {},
   "outputs": [],
   "source": [
    "\n",
    "df1 = data.copy()\n",
    "df1.loc[df1['Open'] == df1['High'], 'O=H'] = -1\n",
    "df1.loc[df1['Open'] == df1['Low'], 'O=L'] = 1\n",
    "df1.fillna(0,inplace=True)\n",
    "\n"
   ]
  },
  {
   "cell_type": "code",
   "execution_count": null,
   "metadata": {},
   "outputs": [],
   "source": [
    "\n",
    "df1.head()\n",
    "\n"
   ]
  },
  {
   "cell_type": "code",
   "execution_count": null,
   "metadata": {},
   "outputs": [],
   "source": [
    "\n",
    "# Add new column \n",
    "df1['CHG'] = 100*(df1['Close'].sub(df1['Open']))/df1['Open']\n",
    "\n"
   ]
  },
  {
   "cell_type": "code",
   "execution_count": null,
   "metadata": {},
   "outputs": [],
   "source": [
    "\n",
    "# O = L\n",
    "df1[df1['O=L']==1]['CHG'].sum()\n",
    "\n"
   ]
  },
  {
   "cell_type": "code",
   "execution_count": null,
   "metadata": {},
   "outputs": [],
   "source": [
    "\n",
    "# O = H\n",
    "df1[df1['O=H']==-1]['CHG'].sum()\n",
    "\n"
   ]
  },
  {
   "cell_type": "markdown",
   "metadata": {},
   "source": [
    "\n",
    "<h2 id=\"File-Input-&amp;-Output-with-Arrays\">File Input &amp; Output with Arrays<a class=\"anchor-link\" href=\"#File-Input-&amp;-Output-with-Arrays\">¶</a></h2><p>Accessing data is the first step in any data analysis. Pandas features a number of function for reading tabular data as a DataFrame object.</p>\n",
    "<p>The pandas I/O API is a set of top level reader functions accessed like pandas.read_csv() that generally return a pandas object. The corresponding writer functions are object methods that are accessed like DataFrame.to_csv(). The table below show some of the key parsing functions.</p>\n",
    "<table>\n",
    "<thead><tr>\n",
    "<th>Format</th>\n",
    "<th>Description</th>\n",
    "<th>Reader</th>\n",
    "<th>Writer</th>\n",
    "</tr>\n",
    "</thead>\n",
    "<tbody>\n",
    "<tr>\n",
    "<td>text</td>\n",
    "<td>CSV</td>\n",
    "<td>read_csv</td>\n",
    "<td>to_csv</td>\n",
    "</tr>\n",
    "<tr>\n",
    "<td>text</td>\n",
    "<td>HTML</td>\n",
    "<td>read_html</td>\n",
    "<td>to_html</td>\n",
    "</tr>\n",
    "<tr>\n",
    "<td>xls or xlsx</td>\n",
    "<td>MS Excel</td>\n",
    "<td>read_excel</td>\n",
    "<td>to_excel</td>\n",
    "</tr>\n",
    "<tr>\n",
    "<td>binary</td>\n",
    "<td>Pickle</td>\n",
    "<td>read_pickle</td>\n",
    "<td>to_pickle</td>\n",
    "</tr>\n",
    "<tr>\n",
    "<td>sql</td>\n",
    "<td>SQL</td>\n",
    "<td>read_sql</td>\n",
    "<td>to_sql</td>\n",
    "</tr>\n",
    "</tbody>\n",
    "</table>\n"
   ]
  },
  {
   "cell_type": "code",
   "execution_count": null,
   "metadata": {},
   "outputs": [],
   "source": [
    "\n",
    "# Reading a csv file\n",
    "data = pd.read_csv('data/spy.csv', index_col=0, parse_dates=True)\n",
    "data.tail()\n",
    "\n"
   ]
  },
  {
   "cell_type": "code",
   "execution_count": null,
   "metadata": {},
   "outputs": [],
   "source": [
    "\n",
    "# Reading an Excel file\n",
    "data = pd.read_excel('data/mystocks.xlsx',  sheet_name='AMZN', index_col=0, parse_dates=True)\n",
    "data.tail()\n",
    "\n"
   ]
  },
  {
   "cell_type": "code",
   "execution_count": null,
   "metadata": {},
   "outputs": [],
   "source": [
    "\n",
    "# Writer functions\n",
    "# data.to_csv(), data.to_excel\n",
    "\n"
   ]
  },
  {
   "cell_type": "markdown",
   "metadata": {},
   "source": [
    "\n",
    "<h1 id=\"References\">References<a class=\"anchor-link\" href=\"#References\">¶</a></h1><ul>\n",
    "<li><p>Pandas documentation <a href=\"https://pandas.pydata.org/docs/\">https://pandas.pydata.org/docs/</a></p>\n",
    "</li>\n",
    "<li><p>Jake VanderPlas (2016), Python Data Science Handbook: Essential tools for working with data</p>\n",
    "</li>\n",
    "<li><p>McKinney (2018), Python for Data Analysis: Data Wrangling with Pandas, NumPy, and IPython</p>\n",
    "</li>\n",
    "<li><p>Python Resources <a href=\"https://github.com/kannansingaravelu/PythonResources\">https://github.com/kannansingaravelu/PythonResources</a></p>\n",
    "</li>\n",
    "</ul>\n"
   ]
  }
 ],
 "metadata": {
  "kernelspec": {
   "display_name": "Python 3 (ipykernel)",
   "language": "python",
   "name": "python3"
  },
  "language_info": {
   "codemirror_mode": {
    "name": "ipython",
    "version": 3
   },
   "file_extension": ".py",
   "mimetype": "text/x-python",
   "name": "python",
   "nbconvert_exporter": "python",
   "pygments_lexer": "ipython3",
   "version": "3.9.7"
  },
  "toc": {
   "base_numbering": 1,
   "nav_menu": {},
   "number_sections": true,
   "sideBar": true,
   "skip_h1_title": false,
   "title_cell": "Table of Contents",
   "title_sidebar": "Contents",
   "toc_cell": false,
   "toc_position": {},
   "toc_section_display": true,
   "toc_window_display": false
  }
 },
 "nbformat": 4,
 "nbformat_minor": 1
}
