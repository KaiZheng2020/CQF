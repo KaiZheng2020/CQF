{
 "cells": [
  {
   "cell_type": "markdown",
   "metadata": {},
   "source": [
    "\n",
    "<p><img align=\"left\" src=\"https://www.cqf.com/themes/custom/creode/logo.svg\" style=\"vertical-align: top; padding-top: 23px;\" width=\"10%\"/>\n",
    "<img align=\"right\" src=\"https://upload.wikimedia.org/wikipedia/commons/c/c3/Python-logo-notext.svg\" style=\"vertical-align: middle;\" width=\"12%\"/>\n",
    "<font color=\"#306998\"><h1><center>Python Labs</center></h1></font></p>\n",
    "<p></p><h1><center>Introduction to Data Visualization</center></h1>\n",
    "<center><h3>Kannan Singaravelu</h3></center>\n",
    "<center>kannan.singaravelu@fitchlearning.com</center>\n"
   ]
  },
  {
   "cell_type": "markdown",
   "metadata": {},
   "source": [
    "\n",
    "<h2 id=\"Data-Visualization\">Data Visualization<a class=\"anchor-link\" href=\"#Data-Visualization\">¶</a></h2><p>Data visualization is the graphic representation of data. It involves producing images that communicate relationships among the data and is critical part of data science. We will use <code>matplotlib</code> and <code>seaborn</code> libraries for static plotting and <code>cufflinks</code> for interactive visualization.</p>\n"
   ]
  },
  {
   "cell_type": "code",
   "execution_count": null,
   "metadata": {},
   "outputs": [],
   "source": [
    "import os\n",
    "# os.chdir('C:\\\\Users\\\\Administrator')"
   ]
  },
  {
   "cell_type": "markdown",
   "metadata": {},
   "source": [
    "\n",
    "<h3 id=\"Installing-Libraries\">Installing Libraries<a class=\"anchor-link\" href=\"#Installing-Libraries\">¶</a></h3><p>We'll install the required libraries that we'll use in this example.</p>\n"
   ]
  },
  {
   "cell_type": "code",
   "execution_count": null,
   "metadata": {},
   "outputs": [],
   "source": [
    "\n",
    "# ! pip install matplotlib\n",
    "# ! pip install seaborn\n",
    "# ! pip install cufflinks==0.16.0\n",
    "\n"
   ]
  },
  {
   "cell_type": "code",
   "execution_count": null,
   "metadata": {},
   "outputs": [],
   "source": [
    "\n",
    "# Import required libraries\n",
    "import pandas as pd\n",
    "import numpy as np\n",
    "\n"
   ]
  },
  {
   "cell_type": "code",
   "execution_count": null,
   "metadata": {},
   "outputs": [],
   "source": [
    "import sys\n",
    "sys.path\n",
    "# sys.path.sppend('')"
   ]
  },
  {
   "cell_type": "markdown",
   "metadata": {},
   "source": [
    "\n",
    "<h3 id=\"Loading-Datasets\">Loading Datasets<a class=\"anchor-link\" href=\"#Loading-Datasets\">¶</a></h3>\n"
   ]
  },
  {
   "cell_type": "code",
   "execution_count": null,
   "metadata": {},
   "outputs": [],
   "source": [
    "\n",
    "# Load data to plot\n",
    "df = pd.read_csv('data/faang_stocks_1.csv', index_col=0, parse_dates=True)\n",
    "df.head()\n",
    "\n"
   ]
  },
  {
   "cell_type": "code",
   "execution_count": null,
   "metadata": {},
   "outputs": [],
   "source": [
    "\n",
    "spy = pd.read_csv('data/spy.csv', index_col=0, parse_dates=True)['2020':]\n",
    "spy.tail()\n",
    "\n"
   ]
  },
  {
   "cell_type": "markdown",
   "metadata": {},
   "source": [
    "\n",
    "<h2 id=\"Matplotlib\">Matplotlib<a class=\"anchor-link\" href=\"#Matplotlib\">¶</a></h2>\n"
   ]
  },
  {
   "cell_type": "markdown",
   "metadata": {},
   "source": [
    "\n",
    "<p><code>Matplotlib</code> is a multiplatform data visualization library built on NumPy arrays where it converts all sequences to NumPy arrays internally. Originally written as a Python alternative for MATLAB users, it is one of the most widely adopted visualization package. The biggest advantage of Matplotlib is its ability to adapt well with many operating systems and graphics backend. Matplotlib is a comprehensive library for creating publication quality plots and its the ability to customize properties make it a go to tool for data visualization.</p>\n",
    "<p>Matplotlib has two interfaces: a) <code>MATALB-style</code> based interface and b) <code>Object-oriented</code> interface. While the former is convenient, the later approach is more powerful.</p>\n"
   ]
  },
  {
   "cell_type": "markdown",
   "metadata": {},
   "source": [
    "\n",
    "<h3 id=\"Importing-Matplotlib\">Importing Matplotlib<a class=\"anchor-link\" href=\"#Importing-Matplotlib\">¶</a></h3>\n"
   ]
  },
  {
   "cell_type": "code",
   "execution_count": null,
   "metadata": {},
   "outputs": [],
   "source": [
    "\n",
    "import matplotlib as mpl\n",
    "import matplotlib.pyplot as plt\n",
    "\n",
    "# Set the plot style\n",
    "plt.style.use('dark_background')\n",
    "\n"
   ]
  },
  {
   "cell_type": "markdown",
   "metadata": {},
   "source": [
    "\n",
    "<p><code>matplotlib.pyplot</code> is a collection of command style functions that make matplotlib work like MATLAB. Each pyplot function makes some change to a figure. For example, it creates a figure, creates a plotting area in a figure, plots some lines in a plotting area, decorates the plot with labels, etc., Various states are preserved across function calls, so that it keeps track of things like the current figure and plotting area, and the plotting functions are directed to the current axes.</p>\n"
   ]
  },
  {
   "cell_type": "markdown",
   "metadata": {},
   "source": [
    "\n",
    "<h3 id=\"MATLAB-Style-Interface\">MATLAB-Style Interface<a class=\"anchor-link\" href=\"#MATLAB-Style-Interface\">¶</a></h3>\n"
   ]
  },
  {
   "cell_type": "code",
   "execution_count": null,
   "metadata": {},
   "outputs": [],
   "source": [
    "\n",
    "x = np.linspace(-5,5,100)\n",
    "fig = plt.figure()\n",
    "plt.title('Sine-Cosine Plot')\n",
    "plt.plot(x, np.sin(x))\n",
    "plt.plot(x, np.cos(x));\n",
    "\n"
   ]
  },
  {
   "cell_type": "markdown",
   "metadata": {},
   "source": [
    "\n",
    "<p>In the transition between MATLAB-style functions and object-oriented methods, most <code>plt</code> functions translate directly to <code>ax</code> methods. For example, <code>plt.plot() -&gt; ax.plot()</code> and <code>plt.legend() -&gt; ax.legend()</code> etc., However, functions that set limits, labels and titles are slightly modified.</p>\n",
    "<p>Refer table below for such changes.</p>\n",
    "<table>\n",
    "<thead><tr>\n",
    "<th>MATLAB-style</th>\n",
    "<th>Object-oriented</th>\n",
    "</tr>\n",
    "</thead>\n",
    "<tbody>\n",
    "<tr>\n",
    "<td><code>plt.xlabel()</code></td>\n",
    "<td><code>ax.set_xlabel()</code></td>\n",
    "</tr>\n",
    "<tr>\n",
    "<td><code>plt.ylabel()</code></td>\n",
    "<td><code>ax.set_ylabel()</code></td>\n",
    "</tr>\n",
    "<tr>\n",
    "<td><code>plt.xlim()</code></td>\n",
    "<td><code>ax.set_xlim()</code></td>\n",
    "</tr>\n",
    "<tr>\n",
    "<td><code>plt.ylim()</code></td>\n",
    "<td><code>ax.set_ylim()</code></td>\n",
    "</tr>\n",
    "<tr>\n",
    "<td><code>plt.title()</code></td>\n",
    "<td><code>ax.set_title()</code></td>\n",
    "</tr>\n",
    "</tbody>\n",
    "</table>\n"
   ]
  },
  {
   "cell_type": "markdown",
   "metadata": {},
   "source": [
    "\n",
    "<h3 id=\"Object-oriented-Interface\">Object-oriented Interface<a class=\"anchor-link\" href=\"#Object-oriented-Interface\">¶</a></h3>\n"
   ]
  },
  {
   "cell_type": "code",
   "execution_count": null,
   "metadata": {},
   "outputs": [],
   "source": [
    "\n",
    "fig = plt.figure()\n",
    "ax = plt.axes()\n",
    "ax.set_title('Sine-Cosine Plot')\n",
    "ax.plot(x, np.sin(x), color='blue')\n",
    "ax.plot(x, np.cos(x), color='red');\n",
    "\n"
   ]
  },
  {
   "cell_type": "markdown",
   "metadata": {},
   "source": [
    "\n",
    "<h3 id=\"Subplots\">Subplots<a class=\"anchor-link\" href=\"#Subplots\">¶</a></h3>\n"
   ]
  },
  {
   "cell_type": "code",
   "execution_count": null,
   "metadata": {},
   "outputs": [],
   "source": [
    "\n",
    "# MATLAB-style\n",
    "# create a plot figure\n",
    "plt.figure() \n",
    "\n",
    "# create the first of two panels and set current axis\n",
    "plt.subplot(2, 1, 1) # (rows, columns, panel number)\n",
    "plt.title('Sine')\n",
    "plt.plot(x, np.sin(x))\n",
    "\n",
    "# create the second panel and set current axis\n",
    "plt.subplot(2, 1, 2)\n",
    "plt.title('Cosine')\n",
    "plt.plot(x, np.cos(x));\n",
    "\n"
   ]
  },
  {
   "cell_type": "code",
   "execution_count": null,
   "metadata": {},
   "outputs": [],
   "source": [
    "\n",
    "# Object-oriented\n",
    "# First create a grid of plots; ax will be an array of two Axes objects\n",
    "fig, ax = plt.subplots(2)\n",
    "# Call plot() method on the appropriate object\n",
    "ax[0].plot(x, np.sin(x), color='blue')\n",
    "ax[0].set_title('Sine')\n",
    "ax[1].plot(x, np.cos(x), color='red')\n",
    "ax[1].set_title('Cosine');\n",
    "\n"
   ]
  },
  {
   "cell_type": "code",
   "execution_count": null,
   "metadata": {},
   "outputs": [],
   "source": [
    "\n",
    "fig, ax = plt.subplots(2,2, figsize=(12, 10))\n",
    "\n",
    "# Call plot() method on the appropriate object\n",
    "ax[0,0].plot(x, np.sin(x), color='blue')\n",
    "ax[0,0].set_title('Sine')\n",
    "\n",
    "ax[0,1].plot(x, np.tan(x), color='green')\n",
    "ax[0,1].set_title('Tangent')\n",
    "\n",
    "ax[1,0].plot(x, np.cos(x), color='red')\n",
    "ax[1,0].set_title('Cosine')\n",
    "\n",
    "ax[1,1].plot(x, np.tanh(x), color='orange');\n",
    "ax[1,1].set_ylim(-1,1)\n",
    "ax[1,1].set_title('Hyberbolic Tangent');\n",
    "\n"
   ]
  },
  {
   "cell_type": "markdown",
   "metadata": {},
   "source": [
    "\n",
    "<p>Object-oriented approach offer high level of customization, especially for multi-plots. The above subplots can also be plotted using a for-loop.</p>\n"
   ]
  },
  {
   "cell_type": "code",
   "execution_count": null,
   "metadata": {},
   "outputs": [],
   "source": [
    "\n",
    "# Using for loop to generate subplots\n",
    "fig, ax = plt.subplots(2,2, figsize=(12,10), sharex=True)\n",
    "flist = [np.sin(x), np.cos(x), np.tan(x), np.tanh(x)]\n",
    "ftitle = ['Sine', 'Cosine', 'Tangent', 'Hyperbolic Tangent']\n",
    "fcolor = ['blue', 'red', 'green', 'orange']\n",
    "\n",
    "k = 0\n",
    "for i in range(2):\n",
    "    for j in range(2):\n",
    "        ax[i,j].plot(x, flist[k], color=fcolor[k])\n",
    "        ax[i,j].set_title(ftitle[k])\n",
    "        k+=1\n",
    "\n"
   ]
  },
  {
   "cell_type": "markdown",
   "metadata": {},
   "source": [
    "\n",
    "<h2 id=\"Chart-Types\">Chart Types<a class=\"anchor-link\" href=\"#Chart-Types\">¶</a></h2>\n"
   ]
  },
  {
   "cell_type": "markdown",
   "metadata": {},
   "source": [
    "\n",
    "<h3 id=\"Histogram\">Histogram<a class=\"anchor-link\" href=\"#Histogram\">¶</a></h3>\n"
   ]
  },
  {
   "cell_type": "code",
   "execution_count": null,
   "metadata": {},
   "outputs": [],
   "source": [
    "\n",
    "plt.hist(np.random.randn(100000), bins=50, histtype='barstacked', color='orange', alpha=1);\n",
    "\n"
   ]
  },
  {
   "cell_type": "markdown",
   "metadata": {},
   "source": [
    "\n",
    "<h3 id=\"Bar-Graph\">Bar Graph<a class=\"anchor-link\" href=\"#Bar-Graph\">¶</a></h3>\n"
   ]
  },
  {
   "cell_type": "code",
   "execution_count": null,
   "metadata": {},
   "outputs": [],
   "source": [
    "\n",
    "x = np.array(list(\"ABCDEFGHIJ\"))\n",
    "y = np.arange(1, 11)\n",
    "y1 = y - 5\n",
    "\n",
    "plt.bar(x,y, color='blue')\n",
    "plt.bar(x,y1, color='orange');\n",
    "\n"
   ]
  },
  {
   "cell_type": "markdown",
   "metadata": {},
   "source": [
    "\n",
    "<h3 id=\"Scatter-Plot\">Scatter Plot<a class=\"anchor-link\" href=\"#Scatter-Plot\">¶</a></h3>\n"
   ]
  },
  {
   "cell_type": "code",
   "execution_count": null,
   "metadata": {},
   "outputs": [],
   "source": [
    "\n",
    "plt.scatter(x,y, color='blue')\n",
    "plt.scatter(x,y1, color='red');\n",
    "\n"
   ]
  },
  {
   "cell_type": "markdown",
   "metadata": {},
   "source": [
    "\n",
    "<h3 id=\"Stylesheets\">Stylesheets<a class=\"anchor-link\" href=\"#Stylesheets\">¶</a></h3>\n"
   ]
  },
  {
   "cell_type": "markdown",
   "metadata": {},
   "source": [
    "\n",
    "<p>Switch to a stylesheet by using <em><code>plt.style.use('stylename')</code></em>. This will change the style for the entire session. To set style temporarily (for a particular plot), we can use style context manager <em><code>plt.style.context('stylename')</code></em>.</p>\n"
   ]
  },
  {
   "cell_type": "code",
   "execution_count": null,
   "metadata": {},
   "outputs": [],
   "source": [
    "\n",
    "# List of available styles\n",
    "plt.style.available[:]\n",
    "\n"
   ]
  },
  {
   "cell_type": "markdown",
   "metadata": {},
   "source": [
    "\n",
    "<h3 id=\"Style-:-dark_background\">Style : dark_background<a class=\"anchor-link\" href=\"#Style-:-dark_background\">¶</a></h3>\n"
   ]
  },
  {
   "cell_type": "code",
   "execution_count": null,
   "metadata": {},
   "outputs": [],
   "source": [
    "\n",
    "with plt.style.context('seaborn-muted'):\n",
    "    plt.hist(np.random.randn(100000), bins=50)\n",
    "    plt.title('seaborn-muted')\n",
    "\n"
   ]
  },
  {
   "cell_type": "markdown",
   "metadata": {},
   "source": [
    "\n",
    "<h3 id=\"Style-:-fivethirtyeight\">Style : fivethirtyeight<a class=\"anchor-link\" href=\"#Style-:-fivethirtyeight\">¶</a></h3>\n"
   ]
  },
  {
   "cell_type": "code",
   "execution_count": null,
   "metadata": {},
   "outputs": [],
   "source": [
    "\n",
    "# plt.setp(plt.title('fivethirtyeight'), color='red')\n",
    "with plt.style.context('fivethirtyeight'):\n",
    "    plt.hist(np.random.randn(100000), bins=50)\n",
    "    plt.title('fivethirtyeight')\n",
    "\n"
   ]
  },
  {
   "cell_type": "markdown",
   "metadata": {},
   "source": [
    "\n",
    "<h3 id=\"Style:-ggplot\">Style: ggplot<a class=\"anchor-link\" href=\"#Style:-ggplot\">¶</a></h3>\n"
   ]
  },
  {
   "cell_type": "code",
   "execution_count": null,
   "metadata": {},
   "outputs": [],
   "source": [
    "\n",
    "with plt.style.context('ggplot'):\n",
    "    plt.hist(np.random.randn(100000), bins=50)\n",
    "    plt.title('ggplot')\n",
    "\n"
   ]
  },
  {
   "cell_type": "markdown",
   "metadata": {},
   "source": [
    "\n",
    "<h3 id=\"Style:-seaborn\">Style: seaborn<a class=\"anchor-link\" href=\"#Style:-seaborn\">¶</a></h3>\n"
   ]
  },
  {
   "cell_type": "code",
   "execution_count": null,
   "metadata": {},
   "outputs": [],
   "source": [
    "\n",
    "with plt.style.context('seaborn'):\n",
    "    plt.hist(np.random.randn(100000), bins=50)\n",
    "    plt.title('Seaborn')\n",
    "\n"
   ]
  },
  {
   "cell_type": "markdown",
   "metadata": {},
   "source": [
    "\n",
    "<h3 id=\"Saving-Plots\">Saving Plots<a class=\"anchor-link\" href=\"#Saving-Plots\">¶</a></h3>\n"
   ]
  },
  {
   "cell_type": "code",
   "execution_count": null,
   "metadata": {},
   "outputs": [],
   "source": [
    "\n",
    "# Get supported file types\n",
    "fig.canvas.get_supported_filetypes()\n",
    "\n"
   ]
  },
  {
   "cell_type": "code",
   "execution_count": null,
   "metadata": {},
   "outputs": [],
   "source": [
    "\n",
    "# Saving figure\n",
    "fig.savefig('first_matplotlib.pdf')\n",
    "\n"
   ]
  },
  {
   "cell_type": "markdown",
   "metadata": {},
   "source": [
    "\n",
    "<h2 id=\"Seaborn\">Seaborn<a class=\"anchor-link\" href=\"#Seaborn\">¶</a></h2>\n"
   ]
  },
  {
   "cell_type": "markdown",
   "metadata": {},
   "source": [
    "\n",
    "<p><code>Seaborn</code> is a Python data visualization library based on matplotlib. It provides a high-level interface for drawing attractive and informative statistical graphics. Seaborn address some of key concern of matplotlib with respected to sophisticated statistical visualization or plotting Pandas DataFrame data. While matplotlib tries to address these issue in the subsequent version, seaborn remains a natural choice.</p>\n"
   ]
  },
  {
   "cell_type": "code",
   "execution_count": null,
   "metadata": {},
   "outputs": [],
   "source": [
    "\n",
    "import seaborn as sns\n",
    "# sns.set() # set the seaborn style  'darkgrid whitegrid dark white ticks'\n",
    "sns.set_style('ticks')\n",
    "\n"
   ]
  },
  {
   "cell_type": "code",
   "execution_count": null,
   "metadata": {},
   "outputs": [],
   "source": [
    "df"
   ]
  },
  {
   "cell_type": "markdown",
   "metadata": {},
   "source": [
    "\n",
    "<h3 id=\"Overriding-the-matplotlib-parameters\">Overriding the matplotlib parameters<a class=\"anchor-link\" href=\"#Overriding-the-matplotlib-parameters\">¶</a></h3>\n"
   ]
  },
  {
   "cell_type": "code",
   "execution_count": null,
   "metadata": {},
   "outputs": [],
   "source": [
    "\n",
    "plt.plot(df)\n",
    "plt.legend(df.columns, ncol=2, loc='upper left');\n",
    "\n"
   ]
  },
  {
   "cell_type": "markdown",
   "metadata": {},
   "source": [
    "\n",
    "<h3 id=\"Pairplot\">Pairplot<a class=\"anchor-link\" href=\"#Pairplot\">¶</a></h3><p>Pair plots are very useful for exploring correlations between multidimensional data.</p>\n"
   ]
  },
  {
   "cell_type": "code",
   "execution_count": null,
   "metadata": {},
   "outputs": [],
   "source": [
    "df.pct_change(1)"
   ]
  },
  {
   "cell_type": "code",
   "execution_count": null,
   "metadata": {},
   "outputs": [],
   "source": [
    "\n",
    "sns.pairplot(df.pct_change(1).fillna(0))\n",
    "\n"
   ]
  },
  {
   "cell_type": "markdown",
   "metadata": {},
   "source": [
    "\n",
    "<h3 id=\"KDE-Plot\">KDE Plot<a class=\"anchor-link\" href=\"#KDE-Plot\">¶</a></h3>\n"
   ]
  },
  {
   "cell_type": "code",
   "execution_count": null,
   "metadata": {},
   "outputs": [],
   "source": [
    "\n",
    "sns.kdeplot(df['AAPL'].pct_change().fillna(0), shade=True);\n",
    "\n"
   ]
  },
  {
   "cell_type": "markdown",
   "metadata": {},
   "source": [
    "\n",
    "<h3 id=\"Histogram---Distribution-Plot\">Histogram - Distribution Plot<a class=\"anchor-link\" href=\"#Histogram---Distribution-Plot\">¶</a></h3>\n"
   ]
  },
  {
   "cell_type": "code",
   "execution_count": null,
   "metadata": {},
   "outputs": [],
   "source": [
    "\n",
    "sns.distplot(df['AAPL'].pct_change().fillna(0));\n",
    "\n"
   ]
  },
  {
   "cell_type": "markdown",
   "metadata": {},
   "source": [
    "\n",
    "<h3 id=\"Violin-Plot\">Violin Plot<a class=\"anchor-link\" href=\"#Violin-Plot\">¶</a></h3>\n"
   ]
  },
  {
   "cell_type": "code",
   "execution_count": null,
   "metadata": {},
   "outputs": [],
   "source": [
    "\n",
    "# Draw a nested violinplot and split the violins for easier comparison\n",
    "sns.violinplot(x=df.index.year, y=df['AAPL'].pct_change().fillna(0), split=True, inner=\"point\")\n",
    "plt.title('violin plot');\n",
    "\n"
   ]
  },
  {
   "cell_type": "markdown",
   "metadata": {},
   "source": [
    "\n",
    "<h3 id=\"Heatmap\">Heatmap<a class=\"anchor-link\" href=\"#Heatmap\">¶</a></h3>\n"
   ]
  },
  {
   "cell_type": "code",
   "execution_count": null,
   "metadata": {},
   "outputs": [],
   "source": [
    "import pandas  as pd\n",
    "#https://github.com/mwaskom/seaborn-data\n",
    "# Load the example flights dataset and convert to long-form\n",
    "flights_long = sns.load_dataset(\"flights\")\n",
    "flights = flights_long.pivot(\"month\", \"year\", \"passengers\")\n",
    "\n",
    "# Draw a heatmap with the numeric values in each cell\n",
    "f, ax = plt.subplots(figsize=(9, 6))\n",
    "sns.heatmap(flights, annot=True, fmt=\"d\", linewidths=.5, ax=ax)\n",
    "ax.set_title('Heat Map');\n",
    "\n"
   ]
  },
  {
   "cell_type": "markdown",
   "metadata": {},
   "source": [
    "\n",
    "<h1 id=\"References\">References<a class=\"anchor-link\" href=\"#References\">¶</a></h1><ul>\n",
    "<li><p>Matplotlib documentation <a href=\"https://matplotlib.org\">https://matplotlib.org</a></p>\n",
    "</li>\n",
    "<li><p>Seaborn documentation <a href=\"https://seaborn.pydata.org/index.html\">https://seaborn.pydata.org/index.html</a></p>\n",
    "</li>\n",
    "<li><p>Cufflinks documentation <a href=\"https://github.com/santosjorge/cufflinks\">https://github.com/santosjorge/cufflinks</a> and <a href=\"https://plotly.com/python/cufflinks/\">https://plotly.com/python/cufflinks/</a></p>\n",
    "</li>\n",
    "<li><p>Python resources <a href=\"https://github.com/kannansingaravelu/PythonResources\">https://github.com/kannansingaravelu/PythonResources</a></p>\n",
    "</li>\n",
    "</ul>\n"
   ]
  }
 ],
 "metadata": {
  "kernelspec": {
   "display_name": "Python 3 (ipykernel)",
   "language": "python",
   "name": "python3"
  },
  "language_info": {
   "codemirror_mode": {
    "name": "ipython",
    "version": 3
   },
   "file_extension": ".py",
   "mimetype": "text/x-python",
   "name": "python",
   "nbconvert_exporter": "python",
   "pygments_lexer": "ipython3",
   "version": "3.9.7"
  },
  "toc": {
   "base_numbering": 1,
   "nav_menu": {},
   "number_sections": true,
   "sideBar": true,
   "skip_h1_title": false,
   "title_cell": "Table of Contents",
   "title_sidebar": "Contents",
   "toc_cell": false,
   "toc_position": {},
   "toc_section_display": true,
   "toc_window_display": false
  }
 },
 "nbformat": 4,
 "nbformat_minor": 1
}
