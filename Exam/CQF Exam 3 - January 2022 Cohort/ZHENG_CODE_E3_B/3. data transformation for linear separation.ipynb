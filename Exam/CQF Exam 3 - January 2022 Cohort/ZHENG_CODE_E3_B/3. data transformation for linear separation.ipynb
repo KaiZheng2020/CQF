{
 "cells": [
  {
   "cell_type": "markdown",
   "metadata": {},
   "source": [
    "### Question. First, theory tasks:\n",
    "\n",
    "#### Which data transformation can prepare the data for linear separation?\n"
   ]
  },
  {
   "cell_type": "code",
   "execution_count": 3,
   "metadata": {},
   "outputs": [],
   "source": [
    "import pandas as pd\n",
    "import numpy as np\n",
    "\n",
    "from sklearn.preprocessing import MaxAbsScaler, MinMaxScaler, StandardScaler, QuantileTransformer, PowerTransformer\n",
    "from sklearn.linear_model import LogisticRegression\n",
    "\n",
    "from quant.Classification import Classification\n",
    "from quant.factor import get_factors\n",
    "\n",
    "%reload_ext autoreload\n",
    "%autoreload 2\n",
    "%matplotlib inline\n",
    "\n",
    "pd.set_option('display.max_columns', None)\n",
    "pd.set_option('display.float_format', lambda x: '%.4f' % x)\n",
    "\n",
    "np.set_printoptions(precision=4, suppress=True)\n",
    "\n",
    "import warnings\n",
    "warnings.filterwarnings('ignore')"
   ]
  },
  {
   "cell_type": "code",
   "execution_count": 4,
   "metadata": {},
   "outputs": [],
   "source": [
    "klines_1h_file = 'data/futures_klines_1h_BTCUSDT_20200101_20220430.zip'\n",
    "kline_1h_df = pd.read_csv(klines_1h_file, index_col=0, parse_dates=True)\n",
    "kline_1h_factors = get_factors(kline_1h_df, sign_ratio=1)"
   ]
  },
  {
   "cell_type": "code",
   "execution_count": 5,
   "metadata": {},
   "outputs": [
    {
     "data": {
      "text/plain": [
       "((20217, 18), (20217,))"
      ]
     },
     "execution_count": 5,
     "metadata": {},
     "output_type": "execute_result"
    }
   ],
   "source": [
    "X = kline_1h_factors.drop(['Price', 'Returns', 'CumReturns', 'Log_Returns', 'Returns_Ratio', 'Sign'], axis=1)\n",
    "y = kline_1h_factors['Sign']\n",
    "X.shape, y.shape"
   ]
  },
  {
   "cell_type": "code",
   "execution_count": 6,
   "metadata": {},
   "outputs": [
    {
     "name": "stdout",
     "output_type": "stream",
     "text": [
      "\\begin{tabular}{lrrrr}\n",
      "\\toprule\n",
      "             Scaler &    MSE &   RMSE &  R2Train &  R2Test \\\\\n",
      "\\midrule\n",
      "     StandardScaler & 0.4691 & 0.6849 &   0.5368 &  0.5309 \\\\\n",
      "       MinMaxScaler & 0.4718 & 0.6869 &   0.5360 &  0.5282 \\\\\n",
      "       MaxAbsScaler & 0.4691 & 0.6849 &   0.5348 &  0.5309 \\\\\n",
      "QuantileTransformer & 0.4594 & 0.6778 &   0.5423 &  0.5406 \\\\\n",
      "   PowerTransformer & 0.4676 & 0.6838 &   0.5360 &  0.5324 \\\\\n",
      "\\bottomrule\n",
      "\\end{tabular}\n",
      "\n"
     ]
    },
    {
     "data": {
      "text/html": [
       "<div>\n",
       "<style scoped>\n",
       "    .dataframe tbody tr th:only-of-type {\n",
       "        vertical-align: middle;\n",
       "    }\n",
       "\n",
       "    .dataframe tbody tr th {\n",
       "        vertical-align: top;\n",
       "    }\n",
       "\n",
       "    .dataframe thead th {\n",
       "        text-align: right;\n",
       "    }\n",
       "</style>\n",
       "<table border=\"1\" class=\"dataframe\">\n",
       "  <thead>\n",
       "    <tr style=\"text-align: right;\">\n",
       "      <th></th>\n",
       "      <th>Scaler</th>\n",
       "      <th>MSE</th>\n",
       "      <th>RMSE</th>\n",
       "      <th>R2Train</th>\n",
       "      <th>R2Test</th>\n",
       "    </tr>\n",
       "  </thead>\n",
       "  <tbody>\n",
       "    <tr>\n",
       "      <th>0</th>\n",
       "      <td>StandardScaler</td>\n",
       "      <td>0.4691</td>\n",
       "      <td>0.6849</td>\n",
       "      <td>0.5368</td>\n",
       "      <td>0.5309</td>\n",
       "    </tr>\n",
       "    <tr>\n",
       "      <th>1</th>\n",
       "      <td>MinMaxScaler</td>\n",
       "      <td>0.4718</td>\n",
       "      <td>0.6869</td>\n",
       "      <td>0.5360</td>\n",
       "      <td>0.5282</td>\n",
       "    </tr>\n",
       "    <tr>\n",
       "      <th>2</th>\n",
       "      <td>MaxAbsScaler</td>\n",
       "      <td>0.4691</td>\n",
       "      <td>0.6849</td>\n",
       "      <td>0.5348</td>\n",
       "      <td>0.5309</td>\n",
       "    </tr>\n",
       "    <tr>\n",
       "      <th>3</th>\n",
       "      <td>QuantileTransformer</td>\n",
       "      <td>0.4594</td>\n",
       "      <td>0.6778</td>\n",
       "      <td>0.5423</td>\n",
       "      <td>0.5406</td>\n",
       "    </tr>\n",
       "    <tr>\n",
       "      <th>4</th>\n",
       "      <td>PowerTransformer</td>\n",
       "      <td>0.4676</td>\n",
       "      <td>0.6838</td>\n",
       "      <td>0.5360</td>\n",
       "      <td>0.5324</td>\n",
       "    </tr>\n",
       "  </tbody>\n",
       "</table>\n",
       "</div>"
      ],
      "text/plain": [
       "                Scaler    MSE   RMSE  R2Train  R2Test\n",
       "0       StandardScaler 0.4691 0.6849   0.5368  0.5309\n",
       "1         MinMaxScaler 0.4718 0.6869   0.5360  0.5282\n",
       "2         MaxAbsScaler 0.4691 0.6849   0.5348  0.5309\n",
       "3  QuantileTransformer 0.4594 0.6778   0.5423  0.5406\n",
       "4     PowerTransformer 0.4676 0.6838   0.5360  0.5324"
      ]
     },
     "execution_count": 6,
     "metadata": {},
     "output_type": "execute_result"
    }
   ],
   "source": [
    "standard = Classification(X, y)\n",
    "standard.fit_predict(StandardScaler(), LogisticRegression(random_state=64))\n",
    "standard_mse, standard_rmse, standard_r2train, standard_r2test = standard.eval_metrics()\n",
    "\n",
    "minmax = Classification(X, y)\n",
    "minmax.fit_predict(MinMaxScaler(), LogisticRegression(random_state=64))\n",
    "minmax_mse, minmax_rmse, minmax_r2train, minmax_r2test = minmax.eval_metrics()\n",
    "\n",
    "maxabs = Classification(X, y)\n",
    "maxabs.fit_predict(MaxAbsScaler(), LogisticRegression(random_state=64))\n",
    "maxabs_mse, maxabs_rmse, maxabs_r2train, maxabs_r2test = maxabs.eval_metrics()\n",
    "\n",
    "quantile = Classification(X, y)\n",
    "quantile.fit_predict(QuantileTransformer(), LogisticRegression(random_state=64))\n",
    "quantile_mse, quantile_rmse, quantile_r2train, quantile_r2test = quantile.eval_metrics()\n",
    "\n",
    "power = Classification(X, y)\n",
    "power.fit_predict(PowerTransformer(), LogisticRegression(random_state=64))\n",
    "power_mse, power_rmse, power_r2train, power_r2test = power.eval_metrics()\n",
    "\n",
    "result = pd.DataFrame()\n",
    "result = result.append([['StandardScaler', standard_mse, standard_rmse, standard_r2train, standard_r2test]])\n",
    "result = result.append([['MinMaxScaler', minmax_mse, minmax_rmse, minmax_r2train, minmax_r2test]])\n",
    "result = result.append([['MaxAbsScaler', maxabs_mse, maxabs_rmse, maxabs_r2train, maxabs_r2test]])\n",
    "result = result.append([['QuantileTransformer', quantile_mse, quantile_rmse, quantile_r2train, quantile_r2test]])\n",
    "result = result.append([['PowerTransformer', power_mse, power_rmse, power_r2train, power_r2test]])\n",
    "result.columns = ['Scaler', 'MSE', 'RMSE', 'R2Train', 'R2Test']\n",
    "result.reset_index(drop=True, inplace=True)\n",
    "print(result.to_latex(index=False))\n",
    "result"
   ]
  },
  {
   "cell_type": "markdown",
   "metadata": {},
   "source": [
    "### Conclusion\n",
    "\n",
    "From table, we can find that MinMaxScaler has the lowest MSE and RMSE scores which mean the lowest amount of error, and has the highest R2Train and R2Test scores which indicate more variability is explained. So it can be concluded that MinMaxScaler is the best scaler for this experiment."
   ]
  }
 ],
 "metadata": {
  "interpreter": {
   "hash": "ad2bdc8ecc057115af97d19610ffacc2b4e99fae6737bb82f5d7fb13d2f2c186"
  },
  "kernelspec": {
   "display_name": "Python 3.9.7 ('base')",
   "language": "python",
   "name": "python3"
  },
  "language_info": {
   "codemirror_mode": {
    "name": "ipython",
    "version": 3
   },
   "file_extension": ".py",
   "mimetype": "text/x-python",
   "name": "python",
   "nbconvert_exporter": "python",
   "pygments_lexer": "ipython3",
   "version": "3.9.7"
  },
  "orig_nbformat": 4
 },
 "nbformat": 4,
 "nbformat_minor": 2
}
