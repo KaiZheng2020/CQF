{
 "cells": [
  {
   "cell_type": "code",
   "execution_count": 103,
   "metadata": {},
   "outputs": [],
   "source": [
    "import pandas as pd\n",
    "import numpy as np\n",
    "\n",
    "from sklearn.decomposition import PCA\n",
    "from sklearn.preprocessing import MinMaxScaler\n",
    "from sklearn.tree import DecisionTreeClassifier\n",
    "\n",
    "from quant.Classification import Classification\n",
    "from quant.factor import get_factors, get_label\n",
    "from tqdm import tqdm\n",
    "\n",
    "import matplotlib.pyplot as plt\n",
    "import seaborn as sns\n",
    "\n",
    "%reload_ext autoreload\n",
    "%autoreload 2\n",
    "%matplotlib inline\n",
    "\n",
    "pd.set_option('display.max_columns', None)\n",
    "pd.set_option('display.float_format', lambda x: '%.4f' % x)\n",
    "\n",
    "np.set_printoptions(precision=4, suppress=True)\n",
    "\n",
    "import warnings\n",
    "warnings.filterwarnings('ignore')"
   ]
  },
  {
   "cell_type": "markdown",
   "metadata": {},
   "source": [
    "### How to categorise small near-zero returns\n",
    "\n",
    "We note that MSE and $R^2$ score is difference when the ratio changes, so the experiment will focus on the relation between ratio and directors.\n",
    "\n",
    "We set the sign ratio from 0.9 to 1.15, increasing by 0.0005 each step. Several indicators were counted in the experement."
   ]
  },
  {
   "cell_type": "code",
   "execution_count": 104,
   "metadata": {},
   "outputs": [],
   "source": [
    "klines_1h_file = 'data/futures_klines_1h_BTCUSDT_20200101_20220430.zip'\n",
    "kline_1h_df = pd.read_csv(klines_1h_file, index_col=0, parse_dates=True)\n",
    "kline_1h_factors = get_factors(kline_1h_df, sign_ratio=1)"
   ]
  },
  {
   "cell_type": "code",
   "execution_count": 105,
   "metadata": {},
   "outputs": [
    {
     "data": {
      "text/plain": [
       "((20217, 18), (20217,))"
      ]
     },
     "execution_count": 105,
     "metadata": {},
     "output_type": "execute_result"
    }
   ],
   "source": [
    "X = kline_1h_factors.drop(['Price', 'Returns', 'CumReturns', 'Log_Returns', 'Returns_Ratio', 'Sign'], axis=1)\n",
    "y = kline_1h_factors['Sign']\n",
    "X.shape, y.shape"
   ]
  },
  {
   "cell_type": "code",
   "execution_count": 106,
   "metadata": {},
   "outputs": [
    {
     "name": "stderr",
     "output_type": "stream",
     "text": [
      "100%|██████████| 500/500 [01:57<00:00,  4.25it/s]\n"
     ]
    },
    {
     "data": {
      "text/plain": [
       "(500, 7)"
      ]
     },
     "execution_count": 106,
     "metadata": {},
     "output_type": "execute_result"
    }
   ],
   "source": [
    "scores = pd.DataFrame(columns=['ratio', 'mse', 'rmse', 'r2train', 'r2test', 'positive count', 'negative count'], index=[])\n",
    "\n",
    "for i in tqdm(np.arange(0.9, 1.15, 0.0005)):\n",
    "    label = get_label(kline_1h_factors['Price'], i)\n",
    "\n",
    "    label_positive = sum(1==label)\n",
    "    label_negative = sum(0==label)\n",
    "\n",
    "    decision_tree = Classification(X, label)\n",
    "    decision_tree.fit_predict(MinMaxScaler(), DecisionTreeClassifier(random_state=64))\n",
    "    decision_tree_mse, decision_tree_rmse, decision_tree_r2train, decision_tree_r2test = decision_tree.eval_metrics()\n",
    "    index = scores.index.size\n",
    "    scores.loc[index] = [i, decision_tree_mse, decision_tree_rmse, decision_tree_r2train, decision_tree_r2test, label_positive, label_negative]\n",
    "\n",
    "scores.shape"
   ]
  },
  {
   "cell_type": "code",
   "execution_count": 107,
   "metadata": {},
   "outputs": [
    {
     "data": {
      "text/html": [
       "<div>\n",
       "<style scoped>\n",
       "    .dataframe tbody tr th:only-of-type {\n",
       "        vertical-align: middle;\n",
       "    }\n",
       "\n",
       "    .dataframe tbody tr th {\n",
       "        vertical-align: top;\n",
       "    }\n",
       "\n",
       "    .dataframe thead th {\n",
       "        text-align: right;\n",
       "    }\n",
       "</style>\n",
       "<table border=\"1\" class=\"dataframe\">\n",
       "  <thead>\n",
       "    <tr style=\"text-align: right;\">\n",
       "      <th></th>\n",
       "      <th>ratio</th>\n",
       "      <th>mse</th>\n",
       "      <th>rmse</th>\n",
       "      <th>r2train</th>\n",
       "      <th>r2test</th>\n",
       "      <th>positive count</th>\n",
       "      <th>negative count</th>\n",
       "    </tr>\n",
       "  </thead>\n",
       "  <tbody>\n",
       "    <tr>\n",
       "      <th>190</th>\n",
       "      <td>0.9950</td>\n",
       "      <td>0.2663</td>\n",
       "      <td>0.5161</td>\n",
       "      <td>1.0000</td>\n",
       "      <td>0.7337</td>\n",
       "      <td>17019.0000</td>\n",
       "      <td>3198.0000</td>\n",
       "    </tr>\n",
       "    <tr>\n",
       "      <th>191</th>\n",
       "      <td>0.9955</td>\n",
       "      <td>0.2757</td>\n",
       "      <td>0.5251</td>\n",
       "      <td>1.0000</td>\n",
       "      <td>0.7243</td>\n",
       "      <td>16616.0000</td>\n",
       "      <td>3601.0000</td>\n",
       "    </tr>\n",
       "    <tr>\n",
       "      <th>192</th>\n",
       "      <td>0.9960</td>\n",
       "      <td>0.3145</td>\n",
       "      <td>0.5608</td>\n",
       "      <td>1.0000</td>\n",
       "      <td>0.6855</td>\n",
       "      <td>16213.0000</td>\n",
       "      <td>4004.0000</td>\n",
       "    </tr>\n",
       "    <tr>\n",
       "      <th>193</th>\n",
       "      <td>0.9965</td>\n",
       "      <td>0.3464</td>\n",
       "      <td>0.5886</td>\n",
       "      <td>1.0000</td>\n",
       "      <td>0.6536</td>\n",
       "      <td>15751.0000</td>\n",
       "      <td>4466.0000</td>\n",
       "    </tr>\n",
       "    <tr>\n",
       "      <th>194</th>\n",
       "      <td>0.9970</td>\n",
       "      <td>0.3628</td>\n",
       "      <td>0.6023</td>\n",
       "      <td>1.0000</td>\n",
       "      <td>0.6372</td>\n",
       "      <td>15202.0000</td>\n",
       "      <td>5015.0000</td>\n",
       "    </tr>\n",
       "    <tr>\n",
       "      <th>195</th>\n",
       "      <td>0.9975</td>\n",
       "      <td>0.3981</td>\n",
       "      <td>0.6310</td>\n",
       "      <td>1.0000</td>\n",
       "      <td>0.6019</td>\n",
       "      <td>14586.0000</td>\n",
       "      <td>5631.0000</td>\n",
       "    </tr>\n",
       "    <tr>\n",
       "      <th>196</th>\n",
       "      <td>0.9980</td>\n",
       "      <td>0.4305</td>\n",
       "      <td>0.6561</td>\n",
       "      <td>1.0000</td>\n",
       "      <td>0.5695</td>\n",
       "      <td>13917.0000</td>\n",
       "      <td>6300.0000</td>\n",
       "    </tr>\n",
       "    <tr>\n",
       "      <th>197</th>\n",
       "      <td>0.9985</td>\n",
       "      <td>0.4481</td>\n",
       "      <td>0.6694</td>\n",
       "      <td>1.0000</td>\n",
       "      <td>0.5519</td>\n",
       "      <td>13082.0000</td>\n",
       "      <td>7135.0000</td>\n",
       "    </tr>\n",
       "    <tr>\n",
       "      <th>198</th>\n",
       "      <td>0.9990</td>\n",
       "      <td>0.4661</td>\n",
       "      <td>0.6827</td>\n",
       "      <td>1.0000</td>\n",
       "      <td>0.5339</td>\n",
       "      <td>12182.0000</td>\n",
       "      <td>8035.0000</td>\n",
       "    </tr>\n",
       "    <tr>\n",
       "      <th>199</th>\n",
       "      <td>0.9995</td>\n",
       "      <td>0.4869</td>\n",
       "      <td>0.6978</td>\n",
       "      <td>1.0000</td>\n",
       "      <td>0.5131</td>\n",
       "      <td>11295.0000</td>\n",
       "      <td>8922.0000</td>\n",
       "    </tr>\n",
       "    <tr>\n",
       "      <th>200</th>\n",
       "      <td>1.0000</td>\n",
       "      <td>0.4948</td>\n",
       "      <td>0.7034</td>\n",
       "      <td>1.0000</td>\n",
       "      <td>0.5052</td>\n",
       "      <td>10346.0000</td>\n",
       "      <td>9871.0000</td>\n",
       "    </tr>\n",
       "    <tr>\n",
       "      <th>201</th>\n",
       "      <td>1.0005</td>\n",
       "      <td>0.4780</td>\n",
       "      <td>0.6914</td>\n",
       "      <td>1.0000</td>\n",
       "      <td>0.5220</td>\n",
       "      <td>9385.0000</td>\n",
       "      <td>10832.0000</td>\n",
       "    </tr>\n",
       "    <tr>\n",
       "      <th>202</th>\n",
       "      <td>1.0010</td>\n",
       "      <td>0.4763</td>\n",
       "      <td>0.6901</td>\n",
       "      <td>1.0000</td>\n",
       "      <td>0.5237</td>\n",
       "      <td>8435.0000</td>\n",
       "      <td>11782.0000</td>\n",
       "    </tr>\n",
       "    <tr>\n",
       "      <th>203</th>\n",
       "      <td>1.0015</td>\n",
       "      <td>0.4476</td>\n",
       "      <td>0.6690</td>\n",
       "      <td>1.0000</td>\n",
       "      <td>0.5524</td>\n",
       "      <td>7519.0000</td>\n",
       "      <td>12698.0000</td>\n",
       "    </tr>\n",
       "    <tr>\n",
       "      <th>204</th>\n",
       "      <td>1.0020</td>\n",
       "      <td>0.4117</td>\n",
       "      <td>0.6417</td>\n",
       "      <td>1.0000</td>\n",
       "      <td>0.5883</td>\n",
       "      <td>6752.0000</td>\n",
       "      <td>13465.0000</td>\n",
       "    </tr>\n",
       "    <tr>\n",
       "      <th>205</th>\n",
       "      <td>1.0025</td>\n",
       "      <td>0.4028</td>\n",
       "      <td>0.6347</td>\n",
       "      <td>1.0000</td>\n",
       "      <td>0.5972</td>\n",
       "      <td>6023.0000</td>\n",
       "      <td>14194.0000</td>\n",
       "    </tr>\n",
       "    <tr>\n",
       "      <th>206</th>\n",
       "      <td>1.0030</td>\n",
       "      <td>0.3808</td>\n",
       "      <td>0.6171</td>\n",
       "      <td>1.0000</td>\n",
       "      <td>0.6192</td>\n",
       "      <td>5393.0000</td>\n",
       "      <td>14824.0000</td>\n",
       "    </tr>\n",
       "    <tr>\n",
       "      <th>207</th>\n",
       "      <td>1.0035</td>\n",
       "      <td>0.3608</td>\n",
       "      <td>0.6007</td>\n",
       "      <td>1.0000</td>\n",
       "      <td>0.6392</td>\n",
       "      <td>4834.0000</td>\n",
       "      <td>15383.0000</td>\n",
       "    </tr>\n",
       "    <tr>\n",
       "      <th>208</th>\n",
       "      <td>1.0040</td>\n",
       "      <td>0.3173</td>\n",
       "      <td>0.5633</td>\n",
       "      <td>1.0000</td>\n",
       "      <td>0.6827</td>\n",
       "      <td>4323.0000</td>\n",
       "      <td>15894.0000</td>\n",
       "    </tr>\n",
       "    <tr>\n",
       "      <th>209</th>\n",
       "      <td>1.0045</td>\n",
       "      <td>0.2908</td>\n",
       "      <td>0.5393</td>\n",
       "      <td>1.0000</td>\n",
       "      <td>0.7092</td>\n",
       "      <td>3845.0000</td>\n",
       "      <td>16372.0000</td>\n",
       "    </tr>\n",
       "  </tbody>\n",
       "</table>\n",
       "</div>"
      ],
      "text/plain": [
       "     ratio    mse   rmse  r2train  r2test  positive count  negative count\n",
       "190 0.9950 0.2663 0.5161   1.0000  0.7337      17019.0000       3198.0000\n",
       "191 0.9955 0.2757 0.5251   1.0000  0.7243      16616.0000       3601.0000\n",
       "192 0.9960 0.3145 0.5608   1.0000  0.6855      16213.0000       4004.0000\n",
       "193 0.9965 0.3464 0.5886   1.0000  0.6536      15751.0000       4466.0000\n",
       "194 0.9970 0.3628 0.6023   1.0000  0.6372      15202.0000       5015.0000\n",
       "195 0.9975 0.3981 0.6310   1.0000  0.6019      14586.0000       5631.0000\n",
       "196 0.9980 0.4305 0.6561   1.0000  0.5695      13917.0000       6300.0000\n",
       "197 0.9985 0.4481 0.6694   1.0000  0.5519      13082.0000       7135.0000\n",
       "198 0.9990 0.4661 0.6827   1.0000  0.5339      12182.0000       8035.0000\n",
       "199 0.9995 0.4869 0.6978   1.0000  0.5131      11295.0000       8922.0000\n",
       "200 1.0000 0.4948 0.7034   1.0000  0.5052      10346.0000       9871.0000\n",
       "201 1.0005 0.4780 0.6914   1.0000  0.5220       9385.0000      10832.0000\n",
       "202 1.0010 0.4763 0.6901   1.0000  0.5237       8435.0000      11782.0000\n",
       "203 1.0015 0.4476 0.6690   1.0000  0.5524       7519.0000      12698.0000\n",
       "204 1.0020 0.4117 0.6417   1.0000  0.5883       6752.0000      13465.0000\n",
       "205 1.0025 0.4028 0.6347   1.0000  0.5972       6023.0000      14194.0000\n",
       "206 1.0030 0.3808 0.6171   1.0000  0.6192       5393.0000      14824.0000\n",
       "207 1.0035 0.3608 0.6007   1.0000  0.6392       4834.0000      15383.0000\n",
       "208 1.0040 0.3173 0.5633   1.0000  0.6827       4323.0000      15894.0000\n",
       "209 1.0045 0.2908 0.5393   1.0000  0.7092       3845.0000      16372.0000"
      ]
     },
     "execution_count": 107,
     "metadata": {},
     "output_type": "execute_result"
    }
   ],
   "source": [
    "scores[190:210]"
   ]
  },
  {
   "cell_type": "code",
   "execution_count": 108,
   "metadata": {},
   "outputs": [
    {
     "data": {
      "text/plain": [
       "<AxesSubplot:xlabel='ratio'>"
      ]
     },
     "execution_count": 108,
     "metadata": {},
     "output_type": "execute_result"
    },
    {
     "data": {
      "image/png": "[encoded data removed]",
      "text/plain": [
       "<Figure size 864x576 with 1 Axes>"
      ]
     },
     "metadata": {
      "needs_background": "light"
     },
     "output_type": "display_data"
    }
   ],
   "source": [
    "scores.plot(x='ratio', y=['positive count', 'negative count'], figsize=(12, 8))"
   ]
  },
  {
   "cell_type": "code",
   "execution_count": 109,
   "metadata": {},
   "outputs": [
    {
     "data": {
      "text/plain": [
       "<AxesSubplot:xlabel='ratio'>"
      ]
     },
     "execution_count": 109,
     "metadata": {},
     "output_type": "execute_result"
    },
    {
     "data": {
      "image/png": "[encoded data removed]",
      "text/plain": [
       "<Figure size 864x576 with 1 Axes>"
      ]
     },
     "metadata": {
      "needs_background": "light"
     },
     "output_type": "display_data"
    }
   ],
   "source": [
    "scores.plot(x='ratio', y=['mse', 'rmse', 'r2train', 'r2test'], figsize=(12, 8))"
   ]
  },
  {
   "cell_type": "code",
   "execution_count": 110,
   "metadata": {},
   "outputs": [
    {
     "name": "stdout",
     "output_type": "stream",
     "text": [
      "\\begin{tabular}{rrrrrrr}\n",
      "\\toprule\n",
      " Ratio &    MSE &   RMSE &  R2Train &  R2Test &   Positive &   Negative \\\\\n",
      "\\midrule\n",
      "0.9950 & 0.2663 & 0.5161 &   1.0000 &  0.7337 & 17019.0000 &  3198.0000 \\\\\n",
      "0.9995 & 0.4869 & 0.6978 &   1.0000 &  0.5131 & 11295.0000 &  8922.0000 \\\\\n",
      "1.0000 & 0.4948 & 0.7034 &   1.0000 &  0.5052 & 10346.0000 &  9871.0000 \\\\\n",
      "1.0005 & 0.4780 & 0.6914 &   1.0000 &  0.5220 &  9385.0000 & 10832.0000 \\\\\n",
      "1.0050 & 0.2725 & 0.5220 &   1.0000 &  0.7275 &  3447.0000 & 16770.0000 \\\\\n",
      "\\bottomrule\n",
      "\\end{tabular}\n",
      "\n"
     ]
    },
    {
     "data": {
      "text/html": [
       "<div>\n",
       "<style scoped>\n",
       "    .dataframe tbody tr th:only-of-type {\n",
       "        vertical-align: middle;\n",
       "    }\n",
       "\n",
       "    .dataframe tbody tr th {\n",
       "        vertical-align: top;\n",
       "    }\n",
       "\n",
       "    .dataframe thead th {\n",
       "        text-align: right;\n",
       "    }\n",
       "</style>\n",
       "<table border=\"1\" class=\"dataframe\">\n",
       "  <thead>\n",
       "    <tr style=\"text-align: right;\">\n",
       "      <th></th>\n",
       "      <th>Ratio</th>\n",
       "      <th>MSE</th>\n",
       "      <th>RMSE</th>\n",
       "      <th>R2Train</th>\n",
       "      <th>R2Test</th>\n",
       "      <th>Positive</th>\n",
       "      <th>Negative</th>\n",
       "    </tr>\n",
       "  </thead>\n",
       "  <tbody>\n",
       "    <tr>\n",
       "      <th>0</th>\n",
       "      <td>0.9950</td>\n",
       "      <td>0.2663</td>\n",
       "      <td>0.5161</td>\n",
       "      <td>1.0000</td>\n",
       "      <td>0.7337</td>\n",
       "      <td>17019.0000</td>\n",
       "      <td>3198.0000</td>\n",
       "    </tr>\n",
       "    <tr>\n",
       "      <th>1</th>\n",
       "      <td>0.9995</td>\n",
       "      <td>0.4869</td>\n",
       "      <td>0.6978</td>\n",
       "      <td>1.0000</td>\n",
       "      <td>0.5131</td>\n",
       "      <td>11295.0000</td>\n",
       "      <td>8922.0000</td>\n",
       "    </tr>\n",
       "    <tr>\n",
       "      <th>2</th>\n",
       "      <td>1.0000</td>\n",
       "      <td>0.4948</td>\n",
       "      <td>0.7034</td>\n",
       "      <td>1.0000</td>\n",
       "      <td>0.5052</td>\n",
       "      <td>10346.0000</td>\n",
       "      <td>9871.0000</td>\n",
       "    </tr>\n",
       "    <tr>\n",
       "      <th>3</th>\n",
       "      <td>1.0005</td>\n",
       "      <td>0.4780</td>\n",
       "      <td>0.6914</td>\n",
       "      <td>1.0000</td>\n",
       "      <td>0.5220</td>\n",
       "      <td>9385.0000</td>\n",
       "      <td>10832.0000</td>\n",
       "    </tr>\n",
       "    <tr>\n",
       "      <th>4</th>\n",
       "      <td>1.0050</td>\n",
       "      <td>0.2725</td>\n",
       "      <td>0.5220</td>\n",
       "      <td>1.0000</td>\n",
       "      <td>0.7275</td>\n",
       "      <td>3447.0000</td>\n",
       "      <td>16770.0000</td>\n",
       "    </tr>\n",
       "  </tbody>\n",
       "</table>\n",
       "</div>"
      ],
      "text/plain": [
       "   Ratio    MSE   RMSE  R2Train  R2Test   Positive   Negative\n",
       "0 0.9950 0.2663 0.5161   1.0000  0.7337 17019.0000  3198.0000\n",
       "1 0.9995 0.4869 0.6978   1.0000  0.5131 11295.0000  8922.0000\n",
       "2 1.0000 0.4948 0.7034   1.0000  0.5052 10346.0000  9871.0000\n",
       "3 1.0005 0.4780 0.6914   1.0000  0.5220  9385.0000 10832.0000\n",
       "4 1.0050 0.2725 0.5220   1.0000  0.7275  3447.0000 16770.0000"
      ]
     },
     "execution_count": 110,
     "metadata": {},
     "output_type": "execute_result"
    }
   ],
   "source": [
    "# Result\n",
    "\n",
    "row_0995 = scores.loc[np.isclose(scores['ratio'], 0.995)]\n",
    "row_09995 = scores.loc[np.isclose(scores['ratio'], 0.9995)]\n",
    "row_10000 = scores.loc[np.isclose(scores['ratio'], 1.0000)]\n",
    "row_10005 = scores.loc[np.isclose(scores['ratio'], 1.0005)]\n",
    "row_1005 = scores.loc[np.isclose(scores['ratio'], 1.005)]\n",
    "\n",
    "pca_result = pd.DataFrame()\n",
    "pca_result = pca_result.append(row_0995)\n",
    "pca_result = pca_result.append(row_09995)\n",
    "pca_result = pca_result.append(row_10000)\n",
    "pca_result = pca_result.append(row_10005)\n",
    "pca_result = pca_result.append(row_1005)\n",
    "\n",
    "pca_result.columns = ['Ratio', 'MSE', 'RMSE', 'R2Train', 'R2Test', 'Positive', 'Negative']\n",
    "pca_result.reset_index(drop=True, inplace=True)\n",
    "print(pca_result.to_latex(index=False))\n",
    "pca_result"
   ]
  },
  {
   "cell_type": "markdown",
   "metadata": {},
   "source": [
    "### Conclusion\n",
    "\n",
    "Considering the balance of the sign distribution, 1.0 ratio is the best choice for the experiment. If the ratio is changed to be unbalanced, the indicators will be biased to one direction."
   ]
  }
 ],
 "metadata": {
  "interpreter": {
   "hash": "ad2bdc8ecc057115af97d19610ffacc2b4e99fae6737bb82f5d7fb13d2f2c186"
  },
  "kernelspec": {
   "display_name": "Python 3.9.7 ('base')",
   "language": "python",
   "name": "python3"
  },
  "language_info": {
   "codemirror_mode": {
    "name": "ipython",
    "version": 3
   },
   "file_extension": ".py",
   "mimetype": "text/x-python",
   "name": "python",
   "nbconvert_exporter": "python",
   "pygments_lexer": "ipython3",
   "version": "3.9.7"
  },
  "orig_nbformat": 4
 },
 "nbformat": 4,
 "nbformat_minor": 2
}
