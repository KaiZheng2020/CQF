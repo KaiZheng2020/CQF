{
 "cells": [
  {
   "cell_type": "markdown",
   "metadata": {},
   "source": [
    "#### Vary hyperparameters RandomizedSearchCV and GridSearchCV\n"
   ]
  },
  {
   "cell_type": "code",
   "execution_count": 2,
   "metadata": {},
   "outputs": [],
   "source": [
    "import sys\n",
    "import os\n",
    "import pandas as pd\n",
    "import numpy as np\n",
    "\n",
    "from sklearn.model_selection import cross_val_score, GridSearchCV, RandomizedSearchCV\n",
    "from sklearn.preprocessing import MinMaxScaler\n",
    "from sklearn.tree import DecisionTreeClassifier\n",
    "\n",
    "from quant.Classification import Classification\n",
    "from quant.factor import get_factors\n",
    "\n",
    "%reload_ext autoreload\n",
    "%autoreload 2\n",
    "%matplotlib inline\n",
    "\n",
    "pd.set_option('display.max_columns', None)\n",
    "pd.set_option('display.float_format', lambda x: '%.4f' % x)\n",
    "\n",
    "np.set_printoptions(precision=4, suppress=True)\n",
    "\n",
    "import warnings\n",
    "warnings.filterwarnings('ignore')"
   ]
  },
  {
   "cell_type": "code",
   "execution_count": 3,
   "metadata": {},
   "outputs": [],
   "source": [
    "klines_1h_file = 'data/futures_klines_1h_BTCUSDT_20200101_20220430.zip'\n",
    "kline_1h_df = pd.read_csv(klines_1h_file, index_col=0, parse_dates=True)\n",
    "kline_1h_factors = get_factors(kline_1h_df, sign_ratio=1)"
   ]
  },
  {
   "cell_type": "code",
   "execution_count": 4,
   "metadata": {},
   "outputs": [
    {
     "data": {
      "text/plain": [
       "((20217, 18), (20217,))"
      ]
     },
     "execution_count": 4,
     "metadata": {},
     "output_type": "execute_result"
    }
   ],
   "source": [
    "X = kline_1h_factors.drop(['Price', 'Returns', 'CumReturns', 'Log_Returns', 'Returns_Ratio', 'Sign'], axis=1)\n",
    "y = kline_1h_factors['Sign']\n",
    "X.shape, y.shape"
   ]
  },
  {
   "cell_type": "code",
   "execution_count": 5,
   "metadata": {},
   "outputs": [
    {
     "data": {
      "text/plain": [
       "(0.49455984174085066, 0.7032494875510757, 1.0, 0.5054401582591493)"
      ]
     },
     "execution_count": 5,
     "metadata": {},
     "output_type": "execute_result"
    }
   ],
   "source": [
    "dt_gs = Classification(X, y)\n",
    "dt_gs.fit_predict(MinMaxScaler(), DecisionTreeClassifier(random_state=64))\n",
    "mse, rmse, r2train, r2test = dt_gs.eval_metrics()\n",
    "mse, rmse, r2train, r2test"
   ]
  },
  {
   "cell_type": "code",
   "execution_count": 6,
   "metadata": {},
   "outputs": [
    {
     "name": "stdout",
     "output_type": "stream",
     "text": [
      "Fitting 5 folds for each of 13122 candidates, totalling 65610 fits\n"
     ]
    }
   ],
   "source": [
    "# GridSearchCV\n",
    "param_grid = {\n",
    "    'classifier__criterion': ['gini', 'entropy'],\n",
    "    'classifier__max_depth': [1, 2, 3, 4, 6, 7, 8, 9, 10],\n",
    "    'classifier__max_features': [1, 2, 3, 4, 6, 7, 8, 9, 10],\n",
    "    'classifier__min_samples_leaf': [1, 2, 3, 4, 6, 7, 8, 9, 10],\n",
    "    'classifier__min_samples_split': [1, 2, 3, 4, 6, 7, 8, 9, 10],\n",
    "}\n",
    "grid_search = GridSearchCV(dt_gs.pipe, param_grid, scoring='accuracy', n_jobs=-1, cv=5, verbose=1)\n",
    "grid_search_best_model = grid_search.fit(X, y)"
   ]
  },
  {
   "cell_type": "code",
   "execution_count": 7,
   "metadata": {},
   "outputs": [
    {
     "data": {
      "text/plain": [
       "{'classifier__criterion': 'gini',\n",
       " 'classifier__max_depth': 1,\n",
       " 'classifier__max_features': 6,\n",
       " 'classifier__min_samples_leaf': 1,\n",
       " 'classifier__min_samples_split': 2}"
      ]
     },
     "execution_count": 7,
     "metadata": {},
     "output_type": "execute_result"
    }
   ],
   "source": [
    "grid_search_best_model.best_params_"
   ]
  },
  {
   "cell_type": "code",
   "execution_count": 14,
   "metadata": {},
   "outputs": [
    {
     "data": {
      "text/plain": [
       "0.5369744705347289"
      ]
     },
     "execution_count": 14,
     "metadata": {},
     "output_type": "execute_result"
    }
   ],
   "source": [
    "grid_search_best_model.best_score_"
   ]
  },
  {
   "cell_type": "code",
   "execution_count": 8,
   "metadata": {},
   "outputs": [
    {
     "data": {
      "text/plain": [
       "(0.4710682492581602,\n",
       " 0.6863441186884027,\n",
       " 0.5397267050021641,\n",
       " 0.5289317507418397)"
      ]
     },
     "execution_count": 8,
     "metadata": {},
     "output_type": "execute_result"
    }
   ],
   "source": [
    "dt_gs_best = Classification(X, y)\n",
    "dt_gs_best.fit_predict(\n",
    "    MinMaxScaler(),\n",
    "    DecisionTreeClassifier(criterion='gini',\n",
    "                           max_depth=1,\n",
    "                           max_features=6,\n",
    "                           min_samples_leaf=1,\n",
    "                           min_samples_split=2,\n",
    "                           random_state=64))\n",
    "gs_best_mse, gs_best_rmse, gs_best_r2train, gs_best_r2test = dt_gs_best.eval_metrics()\n",
    "gs_best_mse, gs_best_rmse, gs_best_r2train, gs_best_r2test"
   ]
  },
  {
   "cell_type": "code",
   "execution_count": 9,
   "metadata": {},
   "outputs": [
    {
     "name": "stdout",
     "output_type": "stream",
     "text": [
      "Fitting 5 folds for each of 10 candidates, totalling 50 fits\n"
     ]
    }
   ],
   "source": [
    "# RandomizedSearchCV\n",
    "dt_rs = Classification(X, y)\n",
    "dt_rs.fit_predict(MinMaxScaler(), DecisionTreeClassifier(random_state=64))\n",
    "\n",
    "param_grid = {\n",
    "    'classifier__criterion': ['gini', 'entropy'],\n",
    "    'classifier__max_depth': [1, 2, 3, 4, 6, 7, 8, 9, 10],\n",
    "    'classifier__max_features': [1, 2, 3, 4, 6, 7, 8, 9, 10],\n",
    "    'classifier__min_samples_leaf': [1, 2, 3, 4, 6, 7, 8, 9, 10],\n",
    "    'classifier__min_samples_split': [1, 2, 3, 4, 6, 7, 8, 9, 10],\n",
    "}\n",
    "rand_search = RandomizedSearchCV(dt_rs.pipe, param_grid, scoring='accuracy', n_jobs=-1, cv=5, verbose=1)\n",
    "rand_search_best_model = rand_search.fit(X, y)"
   ]
  },
  {
   "cell_type": "code",
   "execution_count": 10,
   "metadata": {},
   "outputs": [
    {
     "data": {
      "text/plain": [
       "{'classifier__min_samples_split': 7,\n",
       " 'classifier__min_samples_leaf': 6,\n",
       " 'classifier__max_features': 7,\n",
       " 'classifier__max_depth': 1,\n",
       " 'classifier__criterion': 'gini'}"
      ]
     },
     "execution_count": 10,
     "metadata": {},
     "output_type": "execute_result"
    }
   ],
   "source": [
    "rand_search_best_model.best_params_"
   ]
  },
  {
   "cell_type": "code",
   "execution_count": 15,
   "metadata": {},
   "outputs": [
    {
     "data": {
      "text/plain": [
       "0.5369744705347289"
      ]
     },
     "execution_count": 15,
     "metadata": {},
     "output_type": "execute_result"
    }
   ],
   "source": [
    "rand_search_best_model.best_score_"
   ]
  },
  {
   "cell_type": "code",
   "execution_count": 11,
   "metadata": {},
   "outputs": [
    {
     "data": {
      "text/plain": [
       "(0.4762611275964392, 0.690116749250762, 0.5354603351264453, 0.5237388724035609)"
      ]
     },
     "execution_count": 11,
     "metadata": {},
     "output_type": "execute_result"
    }
   ],
   "source": [
    "dt_rs_best = Classification(X, y)\n",
    "dt_rs_best.fit_predict(\n",
    "    MinMaxScaler(),\n",
    "    DecisionTreeClassifier(criterion='gini',\n",
    "                           max_depth=1,\n",
    "                           max_features=7,\n",
    "                           min_samples_leaf=6,\n",
    "                           min_samples_split=7,\n",
    "                           random_state=64))\n",
    "rs_best_mse, rs_best_rmse, rs_best_r2train, rs_best_r2test = dt_rs_best.eval_metrics()\n",
    "rs_best_mse, rs_best_rmse, rs_best_r2train, rs_best_r2test"
   ]
  },
  {
   "cell_type": "code",
   "execution_count": 16,
   "metadata": {},
   "outputs": [
    {
     "name": "stdout",
     "output_type": "stream",
     "text": [
      "\\begin{tabular}{lll}\n",
      "\\toprule\n",
      "   hyperparameter & GridSearchCV & RandomizedSearchCV \\\\\n",
      "\\midrule\n",
      "        criterion &         gini &               gini \\\\\n",
      "        max\\_depth &            1 &                  1 \\\\\n",
      "     max\\_features &            6 &                  7 \\\\\n",
      " min\\_samples\\_leaf &            1 &                  6 \\\\\n",
      "min\\_samples\\_split &            2 &                  7 \\\\\n",
      "       best score &     0.536974 &           0.536974 \\\\\n",
      "\\bottomrule\n",
      "\\end{tabular}\n",
      "\n"
     ]
    },
    {
     "data": {
      "text/html": [
       "<div>\n",
       "<style scoped>\n",
       "    .dataframe tbody tr th:only-of-type {\n",
       "        vertical-align: middle;\n",
       "    }\n",
       "\n",
       "    .dataframe tbody tr th {\n",
       "        vertical-align: top;\n",
       "    }\n",
       "\n",
       "    .dataframe thead th {\n",
       "        text-align: right;\n",
       "    }\n",
       "</style>\n",
       "<table border=\"1\" class=\"dataframe\">\n",
       "  <thead>\n",
       "    <tr style=\"text-align: right;\">\n",
       "      <th></th>\n",
       "      <th>hyperparameter</th>\n",
       "      <th>GridSearchCV</th>\n",
       "      <th>RandomizedSearchCV</th>\n",
       "    </tr>\n",
       "  </thead>\n",
       "  <tbody>\n",
       "    <tr>\n",
       "      <th>0</th>\n",
       "      <td>criterion</td>\n",
       "      <td>gini</td>\n",
       "      <td>gini</td>\n",
       "    </tr>\n",
       "    <tr>\n",
       "      <th>1</th>\n",
       "      <td>max_depth</td>\n",
       "      <td>1</td>\n",
       "      <td>1</td>\n",
       "    </tr>\n",
       "    <tr>\n",
       "      <th>2</th>\n",
       "      <td>max_features</td>\n",
       "      <td>6</td>\n",
       "      <td>7</td>\n",
       "    </tr>\n",
       "    <tr>\n",
       "      <th>3</th>\n",
       "      <td>min_samples_leaf</td>\n",
       "      <td>1</td>\n",
       "      <td>6</td>\n",
       "    </tr>\n",
       "    <tr>\n",
       "      <th>4</th>\n",
       "      <td>min_samples_split</td>\n",
       "      <td>2</td>\n",
       "      <td>7</td>\n",
       "    </tr>\n",
       "    <tr>\n",
       "      <th>5</th>\n",
       "      <td>best score</td>\n",
       "      <td>0.536974</td>\n",
       "      <td>0.536974</td>\n",
       "    </tr>\n",
       "  </tbody>\n",
       "</table>\n",
       "</div>"
      ],
      "text/plain": [
       "      hyperparameter GridSearchCV RandomizedSearchCV\n",
       "0          criterion         gini               gini\n",
       "1          max_depth            1                  1\n",
       "2       max_features            6                  7\n",
       "3   min_samples_leaf            1                  6\n",
       "4  min_samples_split            2                  7\n",
       "5         best score     0.536974           0.536974"
      ]
     },
     "execution_count": 16,
     "metadata": {},
     "output_type": "execute_result"
    }
   ],
   "source": [
    "# Result\n",
    "\n",
    "result = pd.DataFrame()\n",
    "result = result.append([['criterion', 'gini', 'gini']])\n",
    "result = result.append([['max_depth', '1', '1']])\n",
    "result = result.append([['max_features', '6', '7']])\n",
    "result = result.append([['min_samples_leaf', '1', '6']])\n",
    "result = result.append([['min_samples_split', '2', '7']])\n",
    "result = result.append([['best_score_', '0.536974', '0.536974']])\n",
    "\n",
    "result.columns = ['Hyperparameter', 'GridSearchCV', 'RandomizedSearchCV']\n",
    "result.reset_index(drop=True, inplace=True)\n",
    "print(result.to_latex(index=False))\n",
    "result"
   ]
  },
  {
   "cell_type": "code",
   "execution_count": 13,
   "metadata": {},
   "outputs": [
    {
     "name": "stdout",
     "output_type": "stream",
     "text": [
      "\\begin{tabular}{lrrrr}\n",
      "\\toprule\n",
      "       Search Type &    MSE &   RMSE &  R2Train &  R2Test \\\\\n",
      "\\midrule\n",
      "No Hyperparameters & 0.4946 & 0.7032 &   1.0000 &  0.5054 \\\\\n",
      "      GridSearchCV & 0.4711 & 0.6863 &   0.5397 &  0.5289 \\\\\n",
      "RandomizedSearchCV & 0.4763 & 0.6901 &   0.5355 &  0.5237 \\\\\n",
      "\\bottomrule\n",
      "\\end{tabular}\n",
      "\n"
     ]
    },
    {
     "data": {
      "text/html": [
       "<div>\n",
       "<style scoped>\n",
       "    .dataframe tbody tr th:only-of-type {\n",
       "        vertical-align: middle;\n",
       "    }\n",
       "\n",
       "    .dataframe tbody tr th {\n",
       "        vertical-align: top;\n",
       "    }\n",
       "\n",
       "    .dataframe thead th {\n",
       "        text-align: right;\n",
       "    }\n",
       "</style>\n",
       "<table border=\"1\" class=\"dataframe\">\n",
       "  <thead>\n",
       "    <tr style=\"text-align: right;\">\n",
       "      <th></th>\n",
       "      <th>Search Type</th>\n",
       "      <th>MSE</th>\n",
       "      <th>RMSE</th>\n",
       "      <th>R2Train</th>\n",
       "      <th>R2Test</th>\n",
       "    </tr>\n",
       "  </thead>\n",
       "  <tbody>\n",
       "    <tr>\n",
       "      <th>0</th>\n",
       "      <td>No Hyperparameters</td>\n",
       "      <td>0.4946</td>\n",
       "      <td>0.7032</td>\n",
       "      <td>1.0000</td>\n",
       "      <td>0.5054</td>\n",
       "    </tr>\n",
       "    <tr>\n",
       "      <th>1</th>\n",
       "      <td>GridSearchCV</td>\n",
       "      <td>0.4711</td>\n",
       "      <td>0.6863</td>\n",
       "      <td>0.5397</td>\n",
       "      <td>0.5289</td>\n",
       "    </tr>\n",
       "    <tr>\n",
       "      <th>2</th>\n",
       "      <td>RandomizedSearchCV</td>\n",
       "      <td>0.4763</td>\n",
       "      <td>0.6901</td>\n",
       "      <td>0.5355</td>\n",
       "      <td>0.5237</td>\n",
       "    </tr>\n",
       "  </tbody>\n",
       "</table>\n",
       "</div>"
      ],
      "text/plain": [
       "          Search Type    MSE   RMSE  R2Train  R2Test\n",
       "0  No Hyperparameters 0.4946 0.7032   1.0000  0.5054\n",
       "1        GridSearchCV 0.4711 0.6863   0.5397  0.5289\n",
       "2  RandomizedSearchCV 0.4763 0.6901   0.5355  0.5237"
      ]
     },
     "execution_count": 13,
     "metadata": {},
     "output_type": "execute_result"
    }
   ],
   "source": [
    "result = pd.DataFrame()\n",
    "result = result.append([['No Hyperparameters', mse, rmse, r2train, r2test]])\n",
    "result = result.append([['GridSearchCV', gs_best_mse, gs_best_rmse, gs_best_r2train, gs_best_r2test]])\n",
    "result = result.append([['RandomizedSearchCV', rs_best_mse, rs_best_rmse, rs_best_r2train, rs_best_r2test]])\n",
    "result.columns = ['Search Type', 'MSE', 'RMSE', 'R2Train', 'R2Test']\n",
    "result.reset_index(drop=True, inplace=True)\n",
    "print(result.to_latex(index=False))\n",
    "result"
   ]
  },
  {
   "cell_type": "markdown",
   "metadata": {},
   "source": [
    "#### Conclusion\n",
    "\n",
    "From table, GridSearchCV and RandomizedSearchCV provide better parameters for the model. The difference between GridSearchCV and RandomizedSearchCV is very small. We notice that the cost time of GridSearchCV is 3m 50s, much longer than RandomizedSearchCV 1s. So, if the run time is too long,  RandomizedSearchCV is another better solusion."
   ]
  }
 ],
 "metadata": {
  "interpreter": {
   "hash": "ad2bdc8ecc057115af97d19610ffacc2b4e99fae6737bb82f5d7fb13d2f2c186"
  },
  "kernelspec": {
   "display_name": "Python 3.9.7 ('base')",
   "language": "python",
   "name": "python3"
  },
  "language_info": {
   "codemirror_mode": {
    "name": "ipython",
    "version": 3
   },
   "file_extension": ".py",
   "mimetype": "text/x-python",
   "name": "python",
   "nbconvert_exporter": "python",
   "pygments_lexer": "ipython3",
   "version": "3.9.7"
  },
  "orig_nbformat": 4
 },
 "nbformat": 4,
 "nbformat_minor": 2
}
