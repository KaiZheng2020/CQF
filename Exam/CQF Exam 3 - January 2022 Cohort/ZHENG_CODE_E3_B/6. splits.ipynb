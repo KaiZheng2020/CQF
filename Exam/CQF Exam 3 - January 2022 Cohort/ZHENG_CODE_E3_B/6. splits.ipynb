{
 "cells": [
  {
   "cell_type": "code",
   "execution_count": 5,
   "metadata": {},
   "outputs": [],
   "source": [
    "import sys\n",
    "import os\n",
    "import pandas as pd\n",
    "import numpy as np\n",
    "\n",
    "from sklearn.decomposition import PCA\n",
    "from sklearn.model_selection import cross_val_score, GridSearchCV, RandomizedSearchCV\n",
    "from sklearn.preprocessing import MinMaxScaler\n",
    "from sklearn.tree import DecisionTreeClassifier\n",
    "\n",
    "from quant.Classification import Classification\n",
    "from quant.factor import get_factors\n",
    "from tqdm import tqdm\n",
    "\n",
    "import matplotlib.pyplot as plt\n",
    "\n",
    "%reload_ext autoreload\n",
    "%autoreload 2\n",
    "%matplotlib inline\n",
    "\n",
    "pd.set_option('display.max_columns', None)\n",
    "pd.set_option('display.float_format', lambda x: '%.4f' % x)\n",
    "\n",
    "np.set_printoptions(precision=4, suppress=True)\n",
    "\n",
    "import warnings\n",
    "warnings.filterwarnings('ignore')"
   ]
  },
  {
   "cell_type": "markdown",
   "metadata": {},
   "source": [
    "#### Provide attribution to splits"
   ]
  },
  {
   "cell_type": "code",
   "execution_count": 2,
   "metadata": {},
   "outputs": [],
   "source": [
    "klines_1h_file = 'data/futures_klines_1h_BTCUSDT_20200101_20220430.zip'\n",
    "kline_1h_df = pd.read_csv(klines_1h_file, index_col=0, parse_dates=True)\n",
    "kline_1h_factors = get_factors(kline_1h_df, sign_ratio=1)"
   ]
  },
  {
   "cell_type": "code",
   "execution_count": 3,
   "metadata": {},
   "outputs": [
    {
     "data": {
      "text/plain": [
       "((20217, 18), (20217,))"
      ]
     },
     "execution_count": 3,
     "metadata": {},
     "output_type": "execute_result"
    }
   ],
   "source": [
    "X = kline_1h_factors.drop(['Price', 'Returns', 'CumReturns', 'Log_Returns', 'Returns_Ratio', 'Sign'], axis=1)\n",
    "y = kline_1h_factors['Sign']\n",
    "X.shape, y.shape"
   ]
  },
  {
   "cell_type": "code",
   "execution_count": 4,
   "metadata": {},
   "outputs": [
    {
     "name": "stdout",
     "output_type": "stream",
     "text": [
      "[0.9735 0.0204 0.0044 0.0009 0.0004 0.0002 0.0001 0.0001 0.     0.\n",
      " 0.     0.     0.     0.     0.     0.     0.    ]\n",
      "[0.9735 0.0204 0.0044 0.0009 0.0004 0.0002 0.0001 0.0001]\n"
     ]
    }
   ],
   "source": [
    "pca = PCA(n_components='mle', svd_solver=\"full\")\n",
    "pca.fit(X)\n",
    "print(pca.explained_variance_ratio_)\n",
    "\n",
    "pca = PCA(n_components=8, svd_solver=\"full\")\n",
    "X_pca = pca.fit_transform(X)\n",
    "print(pca.explained_variance_ratio_)"
   ]
  },
  {
   "cell_type": "code",
   "execution_count": 10,
   "metadata": {},
   "outputs": [
    {
     "name": "stderr",
     "output_type": "stream",
     "text": [
      "100%|██████████| 5/5 [00:00<00:00, 68.90it/s]"
     ]
    },
    {
     "name": "stdout",
     "output_type": "stream",
     "text": [
      "\\begin{tabular}{rrrrr}\n",
      "\\toprule\n",
      " test ratio &    mse &   rmse &  r2train &  r2test \\\\\n",
      "\\midrule\n",
      "     0.1000 & 0.4654 & 0.6822 &   0.5195 &  0.5346 \\\\\n",
      "     0.2000 & 0.4933 & 0.7024 &   0.5224 &  0.5067 \\\\\n",
      "     0.3000 & 0.4906 & 0.7004 &   0.5235 &  0.5094 \\\\\n",
      "     0.4000 & 0.4814 & 0.6938 &   0.5226 &  0.5186 \\\\\n",
      "     0.5000 & 0.4871 & 0.6979 &   0.5255 &  0.5129 \\\\\n",
      "\\bottomrule\n",
      "\\end{tabular}\n",
      "\n"
     ]
    },
    {
     "name": "stderr",
     "output_type": "stream",
     "text": [
      "\n"
     ]
    },
    {
     "data": {
      "text/html": [
       "<div>\n",
       "<style scoped>\n",
       "    .dataframe tbody tr th:only-of-type {\n",
       "        vertical-align: middle;\n",
       "    }\n",
       "\n",
       "    .dataframe tbody tr th {\n",
       "        vertical-align: top;\n",
       "    }\n",
       "\n",
       "    .dataframe thead th {\n",
       "        text-align: right;\n",
       "    }\n",
       "</style>\n",
       "<table border=\"1\" class=\"dataframe\">\n",
       "  <thead>\n",
       "    <tr style=\"text-align: right;\">\n",
       "      <th></th>\n",
       "      <th>test ratio</th>\n",
       "      <th>mse</th>\n",
       "      <th>rmse</th>\n",
       "      <th>r2train</th>\n",
       "      <th>r2test</th>\n",
       "    </tr>\n",
       "  </thead>\n",
       "  <tbody>\n",
       "    <tr>\n",
       "      <th>0</th>\n",
       "      <td>0.1000</td>\n",
       "      <td>0.4654</td>\n",
       "      <td>0.6822</td>\n",
       "      <td>0.5195</td>\n",
       "      <td>0.5346</td>\n",
       "    </tr>\n",
       "    <tr>\n",
       "      <th>1</th>\n",
       "      <td>0.2000</td>\n",
       "      <td>0.4933</td>\n",
       "      <td>0.7024</td>\n",
       "      <td>0.5224</td>\n",
       "      <td>0.5067</td>\n",
       "    </tr>\n",
       "    <tr>\n",
       "      <th>2</th>\n",
       "      <td>0.3000</td>\n",
       "      <td>0.4906</td>\n",
       "      <td>0.7004</td>\n",
       "      <td>0.5235</td>\n",
       "      <td>0.5094</td>\n",
       "    </tr>\n",
       "    <tr>\n",
       "      <th>3</th>\n",
       "      <td>0.4000</td>\n",
       "      <td>0.4814</td>\n",
       "      <td>0.6938</td>\n",
       "      <td>0.5226</td>\n",
       "      <td>0.5186</td>\n",
       "    </tr>\n",
       "    <tr>\n",
       "      <th>4</th>\n",
       "      <td>0.5000</td>\n",
       "      <td>0.4871</td>\n",
       "      <td>0.6979</td>\n",
       "      <td>0.5255</td>\n",
       "      <td>0.5129</td>\n",
       "    </tr>\n",
       "  </tbody>\n",
       "</table>\n",
       "</div>"
      ],
      "text/plain": [
       "   test ratio    mse   rmse  r2train  r2test\n",
       "0      0.1000 0.4654 0.6822   0.5195  0.5346\n",
       "1      0.2000 0.4933 0.7024   0.5224  0.5067\n",
       "2      0.3000 0.4906 0.7004   0.5235  0.5094\n",
       "3      0.4000 0.4814 0.6938   0.5226  0.5186\n",
       "4      0.5000 0.4871 0.6979   0.5255  0.5129"
      ]
     },
     "execution_count": 10,
     "metadata": {},
     "output_type": "execute_result"
    }
   ],
   "source": [
    "scores = pd.DataFrame(columns=['test ratio', 'mse', 'rmse', 'r2train', 'r2test'], index=[])\n",
    "\n",
    "for i in tqdm(np.arange(0.1, 0.6, 0.1)):\n",
    "    decision_tree = Classification(X_pca, y, test_size=i)\n",
    "    decision_tree.fit_predict(\n",
    "        MinMaxScaler(),\n",
    "        DecisionTreeClassifier(criterion='gini',\n",
    "                               max_depth=1,\n",
    "                               max_features=6,\n",
    "                               min_samples_leaf=1,\n",
    "                               min_samples_split=2,\n",
    "                               random_state=64,\n",
    "                               ccp_alpha=0))\n",
    "    decision_tree_mse, decision_tree_rmse, decision_tree_r2train, decision_tree_r2test = decision_tree.eval_metrics()\n",
    "    index = scores.index.size\n",
    "    scores.loc[index] = [i, decision_tree_mse, decision_tree_rmse, decision_tree_r2train, decision_tree_r2test]\n",
    "\n",
    "print(scores.to_latex(index=False))\n",
    "scores"
   ]
  },
  {
   "cell_type": "code",
   "execution_count": 11,
   "metadata": {},
   "outputs": [
    {
     "data": {
      "text/plain": [
       "<AxesSubplot:xlabel='test ratio'>"
      ]
     },
     "execution_count": 11,
     "metadata": {},
     "output_type": "execute_result"
    },
    {
     "data": {
      "image/png": "[encoded data removed]",
      "text/plain": [
       "<Figure size 864x576 with 1 Axes>"
      ]
     },
     "metadata": {
      "needs_background": "light"
     },
     "output_type": "display_data"
    }
   ],
   "source": [
    "scores.plot(x='test ratio', figsize=(12, 8))"
   ]
  },
  {
   "cell_type": "markdown",
   "metadata": {},
   "source": [
    "#### Conclusion\n",
    "\n",
    "The result shows that even the test ratio is from 10\\% to 50\\%, MSE and R2 Score only changes by 3\\% at most. So we can draw a conclusion that the splits are insensible in this experiment. "
   ]
  }
 ],
 "metadata": {
  "interpreter": {
   "hash": "ad2bdc8ecc057115af97d19610ffacc2b4e99fae6737bb82f5d7fb13d2f2c186"
  },
  "kernelspec": {
   "display_name": "Python 3.9.7 ('base')",
   "language": "python",
   "name": "python3"
  },
  "language_info": {
   "codemirror_mode": {
    "name": "ipython",
    "version": 3
   },
   "file_extension": ".py",
   "mimetype": "text/x-python",
   "name": "python",
   "nbconvert_exporter": "python",
   "pygments_lexer": "ipython3",
   "version": "3.9.7"
  },
  "orig_nbformat": 4
 },
 "nbformat": 4,
 "nbformat_minor": 2
}
